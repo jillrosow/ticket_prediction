{
 "cells": [
  {
   "cell_type": "markdown",
   "metadata": {},
   "source": [
    "## Summary\n",
    "Records of over 250,000 police pull-overs in the state of Vermont between the years 2010-2015 were analyzed alongside various features such as driver demographics, location information, and datetime information. Findings:\n"
   ]
  },
  {
   "cell_type": "markdown",
   "metadata": {},
   "source": [
    "## 1. Introduction\n",
    "### Problem statement:\n",
    "   In today’s society, there is an increasing dialogue around policing and community-police relations. As a result, it is increasingly important to ensure officers are acting justly in routine police pull-overs. Using features such as the time of an incident, date, race, and which police force is responsible for the citation, one may be able to predict or anticipate the outcome of a certain traffic incident.\n",
    "   \n",
    "   This problem is important because if there is a bias within the police force, it can possibly be narrowed down to a specific department and corrected. Additionally, if a certain instance is common and predictable through specific features, it can help a police force focus on proper preventative measures. Through an accurate predictive model, this could be useful as a way to make sure police departments are accurately and unbiasedly giving proper citations to perpetrators, which would result in a more just and fortified law enforcement, and potentially a better relationship between the community and police. \n",
    "\n",
    "### The dataset:\n",
    "   I acquired the dataset from Enigma Public, which is a website dedicated to providing information to the open public derived from local, state, and federal governments as well as universities, NGOs, and nonprofits. The direct link to the dataset is as follows: https://public.enigma.com/datasets/vermont/a34af967-056f-48e6-8838-c511d795f3ec \n",
    "   \n",
    "   The dataset contains traffic stop outcomes from 14 police departments in Vermont along with other relevant stop data such as demographics and incident specific information collected between the years 2010 and 2015. \n",
    "   \n",
    "   During the data exploration phase, I saw a clear bias and skew in data toward certain features. For example, approximately 95% of our data from ‘driver_race’ consisted of white people, whereas the remaining 5% involved people of at least three other races. This particular imbalance is logical, since the state of Vermont as a whole has an overwhelming population of cauasian descent according to the U.S. Census Bureau from 2018. However, the most important observation that I made was when I uncovered a large class imbalance in ‘stop_outcome’; a decision was made to drop the rare classes ‘Arrest for Violation’, ‘Warrant Arrest’, and ‘Verbal Warning’, which only accounted for 1.19% of the data. As a result, I turned the classification into a binary problem and kept ‘Written Warning’ (170,980) and ‘Citation’ (106,638), as these were the most prevalent categories in the class. \n",
    "\n",
    "### Questions of interest:\n",
    "   The following questions guided my data exploration and analysis:\n",
    "   - How does stop outcome vary with driver age, race, and gender? Are there significant differences among groups?\n",
    "   - Is there consistency across Vermont police departments in number of police pull overs and stop outcome? Does a specific police department make more stops than others?\n",
    "   - Trends in stop outcome over time: time of day, day of week, month of year, yearly averages.\n",
    "   - Is there a consistent relationship between violation type and stop outcome? We would expect this.\n"
   ]
  },
  {
   "cell_type": "markdown",
   "metadata": {},
   "source": [
    "## 2. Data wrangling"
   ]
  },
  {
   "cell_type": "code",
   "execution_count": 2,
   "metadata": {},
   "outputs": [],
   "source": [
    "# import modules\n",
    "import pandas as pd\n",
    "import warnings\n",
    "warnings.simplefilter(\"ignore\")\n",
    "import pandas as pd\n",
    "import numpy as np\n",
    "import sklearn as sk\n",
    "import matplotlib.pyplot as plt\n",
    "import seaborn as sns\n",
    "import time\n",
    "\n",
    "# display plots inline \n",
    "%matplotlib inline"
   ]
  },
  {
   "cell_type": "code",
   "execution_count": 3,
   "metadata": {},
   "outputs": [
    {
     "data": {
      "text/html": [
       "<div>\n",
       "<style scoped>\n",
       "    .dataframe tbody tr th:only-of-type {\n",
       "        vertical-align: middle;\n",
       "    }\n",
       "\n",
       "    .dataframe tbody tr th {\n",
       "        vertical-align: top;\n",
       "    }\n",
       "\n",
       "    .dataframe thead th {\n",
       "        text-align: right;\n",
       "    }\n",
       "</style>\n",
       "<table border=\"1\" class=\"dataframe\">\n",
       "  <thead>\n",
       "    <tr style=\"text-align: right;\">\n",
       "      <th></th>\n",
       "      <th>id</th>\n",
       "      <th>state</th>\n",
       "      <th>stop_date</th>\n",
       "      <th>stop_time</th>\n",
       "      <th>stop_datetime</th>\n",
       "      <th>location_raw</th>\n",
       "      <th>county_name</th>\n",
       "      <th>county_fips</th>\n",
       "      <th>fine_grained_location</th>\n",
       "      <th>police_department</th>\n",
       "      <th>...</th>\n",
       "      <th>driver_race</th>\n",
       "      <th>violation_raw</th>\n",
       "      <th>violation</th>\n",
       "      <th>search_conducted</th>\n",
       "      <th>search_type_raw</th>\n",
       "      <th>search_type</th>\n",
       "      <th>contraband_found</th>\n",
       "      <th>stop_outcome</th>\n",
       "      <th>is_arrested</th>\n",
       "      <th>officer_id</th>\n",
       "    </tr>\n",
       "  </thead>\n",
       "  <tbody>\n",
       "    <tr>\n",
       "      <th>0</th>\n",
       "      <td>VT-2010-00001</td>\n",
       "      <td>VT</td>\n",
       "      <td>7/1/10</td>\n",
       "      <td>0:10</td>\n",
       "      <td>2010-07-01T00:10:00</td>\n",
       "      <td>East Montpelier</td>\n",
       "      <td>Washington County</td>\n",
       "      <td>50023.0</td>\n",
       "      <td>COUNTY RD</td>\n",
       "      <td>MIDDLESEX VSP</td>\n",
       "      <td>...</td>\n",
       "      <td>White</td>\n",
       "      <td>Moving Violation</td>\n",
       "      <td>Moving violation</td>\n",
       "      <td>False</td>\n",
       "      <td>No Search Conducted</td>\n",
       "      <td>NaN</td>\n",
       "      <td>False</td>\n",
       "      <td>Citation</td>\n",
       "      <td>False</td>\n",
       "      <td>-1.562157e+09</td>\n",
       "    </tr>\n",
       "    <tr>\n",
       "      <th>1</th>\n",
       "      <td>VT-2010-00002</td>\n",
       "      <td>VT</td>\n",
       "      <td>7/1/10</td>\n",
       "      <td>0:10</td>\n",
       "      <td>2010-07-01T00:10:00</td>\n",
       "      <td>NaN</td>\n",
       "      <td>NaN</td>\n",
       "      <td>NaN</td>\n",
       "      <td>COUNTY RD; Fitch Road</td>\n",
       "      <td>MIDDLESEX VSP</td>\n",
       "      <td>...</td>\n",
       "      <td>White</td>\n",
       "      <td>Externally Generated Stop</td>\n",
       "      <td>Other</td>\n",
       "      <td>False</td>\n",
       "      <td>No Search Conducted</td>\n",
       "      <td>NaN</td>\n",
       "      <td>False</td>\n",
       "      <td>Arrest for Violation</td>\n",
       "      <td>True</td>\n",
       "      <td>-1.562157e+09</td>\n",
       "    </tr>\n",
       "    <tr>\n",
       "      <th>2</th>\n",
       "      <td>VT-2010-00003</td>\n",
       "      <td>VT</td>\n",
       "      <td>7/1/10</td>\n",
       "      <td>0:10</td>\n",
       "      <td>2010-07-01T00:10:00</td>\n",
       "      <td>NaN</td>\n",
       "      <td>NaN</td>\n",
       "      <td>NaN</td>\n",
       "      <td>COUNTY RD; Fitch Road</td>\n",
       "      <td>MIDDLESEX VSP</td>\n",
       "      <td>...</td>\n",
       "      <td>White</td>\n",
       "      <td>Externally Generated Stop</td>\n",
       "      <td>Other</td>\n",
       "      <td>False</td>\n",
       "      <td>No Search Conducted</td>\n",
       "      <td>NaN</td>\n",
       "      <td>False</td>\n",
       "      <td>Arrest for Violation</td>\n",
       "      <td>True</td>\n",
       "      <td>-1.562157e+09</td>\n",
       "    </tr>\n",
       "    <tr>\n",
       "      <th>3</th>\n",
       "      <td>VT-2010-00004</td>\n",
       "      <td>VT</td>\n",
       "      <td>7/1/10</td>\n",
       "      <td>0:11</td>\n",
       "      <td>2010-07-01T00:11:00</td>\n",
       "      <td>Whiting</td>\n",
       "      <td>Addison County</td>\n",
       "      <td>50001.0</td>\n",
       "      <td>N MAIN ST</td>\n",
       "      <td>NEW HAVEN VSP</td>\n",
       "      <td>...</td>\n",
       "      <td>White</td>\n",
       "      <td>Moving Violation</td>\n",
       "      <td>Moving violation</td>\n",
       "      <td>False</td>\n",
       "      <td>No Search Conducted</td>\n",
       "      <td>NaN</td>\n",
       "      <td>False</td>\n",
       "      <td>Arrest for Violation</td>\n",
       "      <td>True</td>\n",
       "      <td>-3.126844e+08</td>\n",
       "    </tr>\n",
       "    <tr>\n",
       "      <th>4</th>\n",
       "      <td>VT-2010-00005</td>\n",
       "      <td>VT</td>\n",
       "      <td>7/1/10</td>\n",
       "      <td>0:35</td>\n",
       "      <td>2010-07-01T00:35:00</td>\n",
       "      <td>Hardwick</td>\n",
       "      <td>Caledonia County</td>\n",
       "      <td>50005.0</td>\n",
       "      <td>i91 nb mm 62</td>\n",
       "      <td>ROYALTON VSP</td>\n",
       "      <td>...</td>\n",
       "      <td>White</td>\n",
       "      <td>Moving Violation</td>\n",
       "      <td>Moving violation</td>\n",
       "      <td>False</td>\n",
       "      <td>No Search Conducted</td>\n",
       "      <td>NaN</td>\n",
       "      <td>False</td>\n",
       "      <td>Written Warning</td>\n",
       "      <td>False</td>\n",
       "      <td>9.225661e+08</td>\n",
       "    </tr>\n",
       "  </tbody>\n",
       "</table>\n",
       "<p>5 rows × 24 columns</p>\n",
       "</div>"
      ],
      "text/plain": [
       "              id state stop_date stop_time        stop_datetime  \\\n",
       "0  VT-2010-00001    VT    7/1/10      0:10  2010-07-01T00:10:00   \n",
       "1  VT-2010-00002    VT    7/1/10      0:10  2010-07-01T00:10:00   \n",
       "2  VT-2010-00003    VT    7/1/10      0:10  2010-07-01T00:10:00   \n",
       "3  VT-2010-00004    VT    7/1/10      0:11  2010-07-01T00:11:00   \n",
       "4  VT-2010-00005    VT    7/1/10      0:35  2010-07-01T00:35:00   \n",
       "\n",
       "      location_raw        county_name  county_fips  fine_grained_location  \\\n",
       "0  East Montpelier  Washington County      50023.0              COUNTY RD   \n",
       "1              NaN                NaN          NaN  COUNTY RD; Fitch Road   \n",
       "2              NaN                NaN          NaN  COUNTY RD; Fitch Road   \n",
       "3          Whiting     Addison County      50001.0              N MAIN ST   \n",
       "4         Hardwick   Caledonia County      50005.0           i91 nb mm 62   \n",
       "\n",
       "  police_department  ... driver_race              violation_raw  \\\n",
       "0     MIDDLESEX VSP  ...       White           Moving Violation   \n",
       "1     MIDDLESEX VSP  ...       White  Externally Generated Stop   \n",
       "2     MIDDLESEX VSP  ...       White  Externally Generated Stop   \n",
       "3     NEW HAVEN VSP  ...       White           Moving Violation   \n",
       "4      ROYALTON VSP  ...       White           Moving Violation   \n",
       "\n",
       "          violation search_conducted      search_type_raw search_type  \\\n",
       "0  Moving violation            False  No Search Conducted         NaN   \n",
       "1             Other            False  No Search Conducted         NaN   \n",
       "2             Other            False  No Search Conducted         NaN   \n",
       "3  Moving violation            False  No Search Conducted         NaN   \n",
       "4  Moving violation            False  No Search Conducted         NaN   \n",
       "\n",
       "  contraband_found          stop_outcome is_arrested    officer_id  \n",
       "0            False              Citation       False -1.562157e+09  \n",
       "1            False  Arrest for Violation        True -1.562157e+09  \n",
       "2            False  Arrest for Violation        True -1.562157e+09  \n",
       "3            False  Arrest for Violation        True -3.126844e+08  \n",
       "4            False       Written Warning       False  9.225661e+08  \n",
       "\n",
       "[5 rows x 24 columns]"
      ]
     },
     "execution_count": 3,
     "metadata": {},
     "output_type": "execute_result"
    }
   ],
   "source": [
    "# import the raw dataset \n",
    "data = pd.read_csv('dataProject.csv')\n",
    "\n",
    "# inspect the dataset\n",
    "data.head()"
   ]
  },
  {
   "cell_type": "code",
   "execution_count": 3,
   "metadata": {},
   "outputs": [
    {
     "data": {
      "text/plain": [
       "id                            0\n",
       "state                         0\n",
       "stop_date                     0\n",
       "stop_time                     0\n",
       "stop_datetime                 0\n",
       "location_raw                694\n",
       "county_name                 705\n",
       "county_fips                 705\n",
       "fine_grained_location       347\n",
       "police_department             0\n",
       "driver_gender              1712\n",
       "driver_age_raw             1171\n",
       "driver_age                 1286\n",
       "driver_race_raw            3984\n",
       "driver_race                4817\n",
       "violation_raw              2178\n",
       "violation                  2178\n",
       "search_conducted              0\n",
       "search_type_raw            2240\n",
       "search_type              279866\n",
       "contraband_found             34\n",
       "stop_outcome               2325\n",
       "is_arrested                   0\n",
       "officer_id                   12\n",
       "dtype: int64"
      ]
     },
     "execution_count": 3,
     "metadata": {},
     "output_type": "execute_result"
    }
   ],
   "source": [
    "# view count of null values \n",
    "data.isnull().sum()"
   ]
  },
  {
   "cell_type": "markdown",
   "metadata": {},
   "source": [
    "### 2a. Dropping null values\n",
    "- A decision is made to drop 'search_type', 'stop_datetime', and 'raw' attributes (with two exceptions listed below) due to redundancy and high null value counts.\n",
    "\n",
    "- 'violation_raw' and 'search_type_raw' were kept because the data was more descriptive in these fields compared to the \"cleaned\" fields\n",
    "\n",
    "- 'officer_id' was dropped, as there is too many individual officers to be accounted for, and this information would not be predictive in classification.\n",
    "\n",
    "- 'is_arrested' was dropped, as it is similar to the stop_outcome variable I am predicting. I chose to use stop_outcome as the label, as it has more detail in the outcome of the stop (such as if they were given a warning or a citation if they weren't arrested).\n",
    "\n",
    "- 'search_conducted' was dropped as 'search_type_raw' has the same information in more detail.\n",
    "\n",
    "- 'County_name', 'location_raw', and 'fine_grained_location' were dropped because police department encompasses all of this information already\n",
    "\n",
    "- 'state' was dropped, as all the instances occur in the same state.\n",
    "\n",
    "- 'id' was dropped because it does not provide any helpful information"
   ]
  },
  {
   "cell_type": "code",
   "execution_count": 4,
   "metadata": {},
   "outputs": [],
   "source": [
    "# drop the mentioned columns\n",
    "data_drop = data.drop(['state', 'stop_datetime', 'county_fips', 'driver_age_raw', 'driver_race_raw','violation', 'search_conducted', 'search_type', 'is_arrested', 'officer_id', 'fine_grained_location','county_name','location_raw', 'id'], axis=1)"
   ]
  },
  {
   "cell_type": "code",
   "execution_count": 5,
   "metadata": {},
   "outputs": [],
   "source": [
    "# check the null values of columns we have left\n",
    "#data_drop.isnull().sum()"
   ]
  },
  {
   "cell_type": "markdown",
   "metadata": {},
   "source": [
    "- to account for the null values, list wise deletion is chosen: everywhere a blank field is encountered, the entire record is deleted. "
   ]
  },
  {
   "cell_type": "code",
   "execution_count": 6,
   "metadata": {},
   "outputs": [],
   "source": [
    "# list wise deletion\n",
    "data_drop = data_drop.dropna(axis=0)\n",
    "\n",
    "# verify nulls are gone\n",
    "#data_drop.isnull().sum()"
   ]
  },
  {
   "cell_type": "code",
   "execution_count": 7,
   "metadata": {},
   "outputs": [],
   "source": [
    "# view the columns\n",
    "data_drop.columns\n",
    "\n",
    "# rename the raw columns \n",
    "data_drop = data_drop.rename(columns={\"violation_raw\": \"violation\", \"search_type_raw\": \"search_type\"})"
   ]
  },
  {
   "cell_type": "code",
   "execution_count": 8,
   "metadata": {},
   "outputs": [],
   "source": [
    "# verify the types of each column are appropriate\n",
    "#data_drop.info()"
   ]
  },
  {
   "cell_type": "markdown",
   "metadata": {},
   "source": [
    "### 2b. Primary feature engineering\n",
    " - 'stop_date' and 'stop_time' are converted to datetime objects instead of objects. \n",
    " - weekday, month, and year columns are engineered from datetime column to gain more information\n",
    " - 'stop_time' is condensed from HH:MM to just hour to reduce unneeded specificity"
   ]
  },
  {
   "cell_type": "code",
   "execution_count": 9,
   "metadata": {},
   "outputs": [],
   "source": [
    "# change date time variables from objects to date time objects\n",
    "data_drop['stop_date'] = pd.to_datetime(data_drop['stop_date'], infer_datetime_format=True)\n",
    "data_drop['stop_time'] = pd.to_datetime(data_drop['stop_time'], infer_datetime_format=True)"
   ]
  },
  {
   "cell_type": "code",
   "execution_count": 10,
   "metadata": {},
   "outputs": [],
   "source": [
    "# add a weekday, month, and year column to replace 'stop_date'\n",
    "# feature engineering done to gain more information on the date\n",
    "data_drop['weekday'] = data_drop['stop_date'].dt.dayofweek\n",
    "data_drop['month'] = data_drop['stop_date'].dt.month\n",
    "data_drop['year'] = data_drop['stop_date'].dt.year\n",
    "\n",
    "# delete stop_date since it is no longer needed \n",
    "#data_drop = data_drop.drop(['stop_date'], axis=1)"
   ]
  },
  {
   "cell_type": "code",
   "execution_count": 11,
   "metadata": {},
   "outputs": [],
   "source": [
    "# change stop_time to be the hour in which the stop occured instead of the specific hour and minute it occured \n",
    "# to decrease specificity\n",
    "data_drop['stop_time'] = data_drop['stop_time'].dt.hour"
   ]
  },
  {
   "cell_type": "code",
   "execution_count": 12,
   "metadata": {},
   "outputs": [],
   "source": [
    "# dataset is now cleaned... save the cleaned version \n",
    "data_clean = data_drop.copy()"
   ]
  },
  {
   "cell_type": "markdown",
   "metadata": {},
   "source": [
    "## 3. Initial data exploration\n",
    "### 3a. Univariate Analysis \n",
    "- univariate anaylsis is done by EDA to determine if variables should be further engineered or modified"
   ]
  },
  {
   "cell_type": "markdown",
   "metadata": {},
   "source": [
    "### Investigating the target variable: 'stop_outcome'\n",
    "**Insights:**\n",
    "- A large class imbalance is seen here, so a decision is made to drop the rare classes and turn the classification into a binary problem. I will keep only 'written warning' and 'citation' outcomes, as these are the most prevalant in the data"
   ]
  },
  {
   "cell_type": "code",
   "execution_count": 13,
   "metadata": {},
   "outputs": [
    {
     "data": {
      "text/plain": [
       "Written Warning         0.609272\n",
       "Citation                0.378643\n",
       "Arrest for Violation    0.011771\n",
       "Warrant Arrest          0.000277\n",
       "Verbal Warning          0.000036\n",
       "Name: stop_outcome, dtype: float64"
      ]
     },
     "execution_count": 13,
     "metadata": {},
     "output_type": "execute_result"
    }
   ],
   "source": [
    "data_clean.stop_outcome.value_counts(normalize=True)"
   ]
  },
  {
   "cell_type": "code",
   "execution_count": 13,
   "metadata": {},
   "outputs": [
    {
     "data": {
      "text/plain": [
       "Written Warning    0.616725\n",
       "Citation           0.383275\n",
       "Name: stop_outcome, dtype: float64"
      ]
     },
     "execution_count": 13,
     "metadata": {},
     "output_type": "execute_result"
    }
   ],
   "source": [
    "# drop the records which do not belong to the two specified classes\n",
    "data_cut = data_clean[data_clean['stop_outcome'].isin(['Written Warning', 'Citation'])]\n",
    "\n",
    "# verify there is enough data remaining after reduction\n",
    "#data_cut.info()\n",
    "\n",
    "# look at the class balance now\n",
    "data_cut['stop_outcome'].value_counts(normalize=True)"
   ]
  },
  {
   "cell_type": "markdown",
   "metadata": {},
   "source": [
    "### Investigating driver demographics (age, gender, race) ###\n",
    "**Insights:**\n",
    " - Driver age contained outliers above 90 years of age; these were deleted\n",
    " - Driver race is extremely skewed toward White, as expected due to location. Race should be converted to dummy variables for further analysis\n",
    " - Gender is somewhat balanced, and should be hot encoded for further analysis"
   ]
  },
  {
   "cell_type": "code",
   "execution_count": 17,
   "metadata": {},
   "outputs": [
    {
     "data": {
      "text/plain": [
       "White       0.956872\n",
       "Black       0.020196\n",
       "Asian       0.012665\n",
       "Hispanic    0.009315\n",
       "Other       0.000953\n",
       "Name: driver_race, dtype: float64"
      ]
     },
     "execution_count": 17,
     "metadata": {},
     "output_type": "execute_result"
    },
    {
     "data": {
      "image/png": "[encoded data removed]",
      "text/plain": [
       "<Figure size 864x360 with 2 Axes>"
      ]
     },
     "metadata": {
      "needs_background": "light"
     },
     "output_type": "display_data"
    }
   ],
   "source": [
    "f, axs = plt.subplots(1,2, figsize=(12,5))\n",
    "_ = plt.subplot(1,2,1)\n",
    "_ = sns.boxplot(x=data_cut['driver_age'])\n",
    "_ = plt.title('Driver Age')\n",
    "_ = plt.xlabel('Driver age (years)')\n",
    "_ = plt.subplot(1,2,2)\n",
    "_ = data_cut['driver_gender'].value_counts(normalize=True).plot(kind=\"pie\")\n",
    "_ = plt.title('Split of Drivers by Gender')\n",
    "_ = plt.ylabel(\"\")\n",
    "data_cut['driver_race'].value_counts(normalize=True)"
   ]
  },
  {
   "cell_type": "code",
   "execution_count": 14,
   "metadata": {},
   "outputs": [
    {
     "data": {
      "text/plain": [
       "(270668, 13)"
      ]
     },
     "execution_count": 14,
     "metadata": {},
     "output_type": "execute_result"
    }
   ],
   "source": [
    "# remove age outliers\n",
    "q1 = data_cut['driver_age'].quantile(0.25)\n",
    "q3 = data_cut['driver_age'].quantile(0.75)\n",
    "IQR = q3 - q1\n",
    "filter = (data_cut['driver_age'] >= q1 - 1.5 * IQR) & (data_clean['driver_age'] <= q3 + 1.5 *IQR)\n",
    "data_cut = data_cut.loc[filter]  \n",
    "data_cut.shape"
   ]
  },
  {
   "cell_type": "code",
   "execution_count": 15,
   "metadata": {},
   "outputs": [],
   "source": [
    "# I want a new dataframe that doesnt have dummy variables... making that now \n",
    "df_nodummy = data_cut.copy()"
   ]
  },
  {
   "cell_type": "code",
   "execution_count": 16,
   "metadata": {},
   "outputs": [],
   "source": [
    "# convert race to dummy categoricals\n",
    "dummies = pd.get_dummies(data_cut['driver_race'])\n",
    "data_cut = pd.concat([data_cut, dummies], axis=1)\n",
    "# drop the old column\n",
    "#data_cut = data_cut.drop('driver_race', axis=1)\n",
    "\n",
    "# convert gender to hot encoding: male = 1, female = 0\n",
    "data_cut['driver_gender'] = (data_cut['driver_gender'] == 'M').astype(int)"
   ]
  },
  {
   "cell_type": "markdown",
   "metadata": {},
   "source": [
    "### Investigating time variables (weekday, month, year, stop_time) ###\n",
    "**Insights:**\n",
    " - weekday, month, and year are all fairly evenly distributed\n",
    " - stop time was log transformed to reduce skew, and an exponential distribution appears to emerge.\n",
    " - I added '1' to weekday and hour columns to account for 0 indexing"
   ]
  },
  {
   "cell_type": "code",
   "execution_count": 18,
   "metadata": {},
   "outputs": [
    {
     "data": {
      "image/png": "[encoded data removed]",
      "text/plain": [
       "<Figure size 1440x360 with 3 Axes>"
      ]
     },
     "metadata": {
      "needs_background": "light"
     },
     "output_type": "display_data"
    }
   ],
   "source": [
    "f, axs = plt.subplots(1,3, figsize=(20,5))\n",
    "_ = plt.subplot(1,3,1)\n",
    "_ = sns.boxplot(x=data_cut['weekday'], color=\"lightgreen\")\n",
    "_ = plt.title('Weekday')\n",
    "_ = plt.subplot(1,3,2)\n",
    "_ = sns.boxplot(x=data_cut['month'], color=\"lightblue\")\n",
    "_ = plt.title('Month')\n",
    "_ = plt.subplot(1,3,3)\n",
    "_ = sns.boxplot(x=data_cut['year'], color=\"purple\")\n",
    "_ = plt.title('Year')"
   ]
  },
  {
   "cell_type": "code",
   "execution_count": 19,
   "metadata": {},
   "outputs": [
    {
     "data": {
      "image/png": "[encoded data removed]",
      "text/plain": [
       "<Figure size 1440x360 with 2 Axes>"
      ]
     },
     "metadata": {
      "needs_background": "light"
     },
     "output_type": "display_data"
    }
   ],
   "source": [
    "f, axs = plt.subplots(1,2, figsize=(20,5))\n",
    "_ = plt.subplot(1,2,1)\n",
    "_ = sns.boxplot(data_cut['stop_time'])\n",
    "_ = plt.title('Boxplot of Stop Times by Hour')\n",
    "_ = plt.xlabel('Stop Times')\n",
    "_ = plt.subplot(1,2,2)\n",
    "logged = np.log((data_cut['stop_time']) + 1)\n",
    "_ = plt.hist(logged, bins=10)\n",
    "_ = plt.title('Distribution of Stop Times by Hour')\n",
    "_ = plt.xlabel('Stop Times (log transformed)')"
   ]
  },
  {
   "cell_type": "code",
   "execution_count": 17,
   "metadata": {},
   "outputs": [],
   "source": [
    "data_cut['weekday'] = data_cut['weekday'] + 1\n",
    "data_cut['stop_time'] = data_cut['stop_time'] + 1"
   ]
  },
  {
   "cell_type": "code",
   "execution_count": 18,
   "metadata": {},
   "outputs": [],
   "source": [
    "# correcting data_nodummy\n",
    "df_nodummy['weekday'] = df_nodummy['weekday'] + 1\n",
    "df_nodummy['stop_time'] = df_nodummy['stop_time'] + 1"
   ]
  },
  {
   "cell_type": "markdown",
   "metadata": {},
   "source": [
    "### Investigating traffic stop details (violation, search_type, contraband_found, police_department) ###\n",
    "**Insights:**\n",
    "- Two outlier records were found and deleted from the violation column. The violation column is dominated by moving violation, which is to be expected, as this is the most common form of routine police pull overs.\n",
    "- Records from 'VSP HQ- BCI/SIU/NIU' police department were deleted since less than 1% of records belonged to this group.\n",
    "- 1 record from search type was '(Winooski) Passgr Srch', and it was deleted. The majority of data in the field belongs to 'no search conducted'\n",
    "- Contraband_found was heavily imbalanced, so a decision was made to delete it based on infrequency.\n",
    "- Police_department and violation were converted to dummy variables for further analysis \n",
    "- Search_type was converted to be a binary choice with 1 being no search conducted, and 0 being search conducted. This decision was made due to the large majority of data belonging to one class. "
   ]
  },
  {
   "cell_type": "code",
   "execution_count": 240,
   "metadata": {
    "scrolled": true
   },
   "outputs": [
    {
     "data": {
      "image/png": "[encoded data removed]",
      "text/plain": [
       "<Figure size 432x288 with 1 Axes>"
      ]
     },
     "metadata": {},
     "output_type": "display_data"
    }
   ],
   "source": [
    "data_cut['violation'].value_counts()\n",
    "\n",
    "# take out winooski records (2) due to it being an outlier\n",
    "data_cut = data_cut[data_cut.violation != '(Winooski) Be On Look Rqst']\n",
    "data_cut = data_cut[data_cut.violation != '(Winooski) Mtr Vhc Vltn']\n",
    "#data_cut['violation'].value_counts()\n",
    "\n",
    "# Pie chart of violation types\n",
    "labels = ['Moving Violation', 'Vehicle Equipment', 'Externally Generated Stop', \n",
    "          'Investigatory Stop', 'Suspicion of DWI']\n",
    "sizes = [77.9, 18.5, 2.1, 1.2, .2]\n",
    "\n",
    "  \n",
    "fig1, ax1 = plt.subplots()\n",
    "ax1.pie(sizes,\n",
    "        startangle=90, )\n",
    "\n",
    "# Equal aspect ratio ensures that pie is drawn as a circle\n",
    "ax1.axis('equal')  \n",
    "plt.tight_layout()\n",
    "plt.title('Distribution of Violation Types')\n",
    "plt.legend(labels=labels,loc='upper left', bbox_to_anchor=(1,0.5))\n",
    "plt.show()"
   ]
  },
  {
   "cell_type": "code",
   "execution_count": 19,
   "metadata": {},
   "outputs": [],
   "source": [
    "# take out winooski records (2) due to it being an outlier in the df_nodummy\n",
    "df_nodummy = df_nodummy[df_nodummy.violation != '(Winooski) Be On Look Rqst']\n",
    "df_nodummy = df_nodummy[df_nodummy.violation != '(Winooski) Mtr Vhc Vltn']"
   ]
  },
  {
   "cell_type": "code",
   "execution_count": 242,
   "metadata": {},
   "outputs": [],
   "source": [
    "# convert violation to dummy variables \n",
    "dummies = pd.get_dummies(data_cut['violation'])\n",
    "data_cut = pd.concat([data_cut, dummies], axis=1)\n",
    "\n",
    "# drop the old column\n",
    "#data_cut = data_cut.drop('violation', axis=1)"
   ]
  },
  {
   "cell_type": "code",
   "execution_count": 243,
   "metadata": {
    "scrolled": false
   },
   "outputs": [
    {
     "data": {
      "text/plain": [
       "MIDDLESEX VSP                     0.099830\n",
       "ROYALTON VSP                      0.093591\n",
       "WILLISTON VSP                     0.086768\n",
       "NEW HAVEN VSP                     0.083973\n",
       "VSP HEADQUARTERS - FIELD FORCE    0.083958\n",
       "ROCKINGHAM VSP                    0.082598\n",
       "RUTLAND VSP                       0.080166\n",
       "ST ALBANS VSP                     0.075486\n",
       "BRADFORD VSP                      0.075364\n",
       "SHAFTSBURY VSP                    0.075080\n",
       "BRATTLEBORO VSP                   0.072330\n",
       "ST JOHNSBURY VSP                  0.054103\n",
       "DERBY VSP                         0.036753\n",
       "Name: police_department, dtype: float64"
      ]
     },
     "execution_count": 243,
     "metadata": {},
     "output_type": "execute_result"
    }
   ],
   "source": [
    "data_cut['police_department'].value_counts(normalize=True)\n",
    "# take out 'VSP HQ- BCI/SIU/NIU' records (< 1%) due to it being an outlier\n",
    "data_cut = data_cut[data_cut.police_department != 'VSP HQ- BCI/SIU/NIU']\n",
    "data_cut.police_department.value_counts(normalize=True)"
   ]
  },
  {
   "cell_type": "code",
   "execution_count": 20,
   "metadata": {},
   "outputs": [],
   "source": [
    "# take out 'VSP HQ- BCI/SIU/NIU' records (< 1%) due to it being an outlier in df_nodummy\n",
    "df_nodummy = df_nodummy[df_nodummy.police_department != 'VSP HQ- BCI/SIU/NIU']"
   ]
  },
  {
   "cell_type": "code",
   "execution_count": 245,
   "metadata": {},
   "outputs": [],
   "source": [
    "# convert the police department into dummy variables\n",
    "dummies = pd.get_dummies(data_cut['police_department'])\n",
    "data_cut = pd.concat([data_cut, dummies], axis=1)\n",
    "\n",
    "# drop the old column\n",
    "#data_cut = data_cut.drop('police_department', axis=1)"
   ]
  },
  {
   "cell_type": "code",
   "execution_count": 246,
   "metadata": {},
   "outputs": [
    {
     "data": {
      "text/plain": [
       "No Search Conducted               268186\n",
       "Consent Search-Probable Cause       1611\n",
       "Consent Search-Rsnbl Suspicion       646\n",
       "Search with Warrant                   95\n",
       "Name: search_type, dtype: int64"
      ]
     },
     "execution_count": 246,
     "metadata": {},
     "output_type": "execute_result"
    }
   ],
   "source": [
    "data_cut['search_type'].value_counts()\n",
    "# take out winooski due to outlier \n",
    "data_cut = data_cut[data_cut.search_type != '(Winooski) Passgr Srch']\n",
    "data_cut['search_type'].value_counts()"
   ]
  },
  {
   "cell_type": "code",
   "execution_count": 21,
   "metadata": {},
   "outputs": [],
   "source": [
    "# take out winooski due to outlier in df_dummy\n",
    "df_nodummy = df_nodummy[df_nodummy.search_type != '(Winooski) Passgr Srch']"
   ]
  },
  {
   "cell_type": "code",
   "execution_count": 248,
   "metadata": {},
   "outputs": [],
   "source": [
    "# as most data comes from no search conducted, we will simplify this column to be binary for if there is search conducted or not\n",
    "# hot encoding: no search = 1, other = 0\n",
    "data_cut['search_type'] = (data_cut['search_type'] == 'No Search Conducted').astype(int)"
   ]
  },
  {
   "cell_type": "code",
   "execution_count": 22,
   "metadata": {},
   "outputs": [],
   "source": [
    "# as most data comes from no search conducted, we will simplify this column to be binary for if there is search conducted or not\n",
    "# hot encoding: no search = 1, other = 0 (same for df_nodummy)\n",
    "df_nodummy['search_type'] = (df_nodummy['search_type'] == 'No Search Conducted').astype(int)"
   ]
  },
  {
   "cell_type": "code",
   "execution_count": 35,
   "metadata": {
    "scrolled": true
   },
   "outputs": [
    {
     "data": {
      "text/plain": [
       "False    0.993424\n",
       "True     0.006576\n",
       "Name: contraband_found, dtype: float64"
      ]
     },
     "execution_count": 35,
     "metadata": {},
     "output_type": "execute_result"
    },
    {
     "data": {
      "image/png": "[encoded data removed]",
      "text/plain": [
       "<Figure size 432x288 with 1 Axes>"
      ]
     },
     "metadata": {},
     "output_type": "display_data"
    }
   ],
   "source": [
    "_ = data_cut['contraband_found'].value_counts(normalize=True).plot(kind=\"pie\")\n",
    "_ = plt.title('Contraband Found Distribution')\n",
    "_ = plt.ylabel(\"\")\n",
    "data_cut['contraband_found'].value_counts(normalize=True)"
   ]
  },
  {
   "cell_type": "code",
   "execution_count": 250,
   "metadata": {},
   "outputs": [],
   "source": [
    "#as a majority of the stops didn't have contrabound, we decided to drop this variable.\n",
    "data_cut = data_cut.drop(['contraband_found'], axis=1)"
   ]
  },
  {
   "cell_type": "code",
   "execution_count": 23,
   "metadata": {},
   "outputs": [],
   "source": [
    "#as a majority of the stops didn't have contrabound, we decided to drop this variable. (for df_nodummy)\n",
    "df_nodummy = df_nodummy.drop(['contraband_found'], axis=1)"
   ]
  },
  {
   "cell_type": "markdown",
   "metadata": {},
   "source": [
    "#### At this point, all of the data cleaning and wrangling has been completed, and thus the final dataset can be saved as data_final"
   ]
  },
  {
   "cell_type": "code",
   "execution_count": 252,
   "metadata": {},
   "outputs": [],
   "source": [
    "data_final = data_cut.copy()"
   ]
  },
  {
   "cell_type": "code",
   "execution_count": 253,
   "metadata": {},
   "outputs": [
    {
     "data": {
      "text/plain": [
       "Index(['stop_date', 'stop_time', 'police_department', 'driver_gender',\n",
       "       'driver_age', 'driver_race', 'violation', 'search_type', 'stop_outcome',\n",
       "       'weekday', 'month', 'year', 'Asian', 'Black', 'Hispanic', 'Other',\n",
       "       'White', 'Externally Generated Stop', 'Investigatory Stop',\n",
       "       'Moving Violation', 'Suspicion of DWI', 'Vehicle Equipment',\n",
       "       'BRADFORD VSP', 'BRATTLEBORO VSP', 'DERBY VSP', 'MIDDLESEX VSP',\n",
       "       'NEW HAVEN VSP', 'ROCKINGHAM VSP', 'ROYALTON VSP', 'RUTLAND VSP',\n",
       "       'SHAFTSBURY VSP', 'ST ALBANS VSP', 'ST JOHNSBURY VSP',\n",
       "       'VSP HEADQUARTERS - FIELD FORCE', 'WILLISTON VSP'],\n",
       "      dtype='object')"
      ]
     },
     "execution_count": 253,
     "metadata": {},
     "output_type": "execute_result"
    }
   ],
   "source": [
    "data_final.columns"
   ]
  },
  {
   "cell_type": "markdown",
   "metadata": {},
   "source": [
    "## 4. Targeted EDA\n",
    "### 4a. Stop outcome variation with driver demographics\n",
    "To understand how stop outcome varies with driver demographics, many angles are considered:\n",
    "1. stop outcome data is plotted for male and female groups; the same data is plotted along a yearly axis to see if the trend is consistent year after year;\n",
    "2. stop outcome data is compared among driver race groups; the same data is plotted after being grouped by police department to spot any inconsistencies or possible racial bias among differing stations.\n",
    "3. Age is split into 3 groups: early drivers (high risk, 0-25), middle aged drivers (lowest risk, 25-50), older drivers (medium risk, 50+) and then stop outcome trends are compared among age groups \n",
    "\n",
    "#### 1. Male vs Female"
   ]
  },
  {
   "cell_type": "code",
   "execution_count": 254,
   "metadata": {},
   "outputs": [],
   "source": [
    "data_vis = data_final.copy()\n",
    "data_vis['driver_gender'] = data_vis['driver_gender'].apply({1:'Male', 0:'Female'}.get)"
   ]
  },
  {
   "cell_type": "code",
   "execution_count": 32,
   "metadata": {
    "scrolled": false
   },
   "outputs": [
    {
     "data": {
      "image/png": "[encoded data removed]",
      "text/plain": [
       "<Figure size 432x288 with 1 Axes>"
      ]
     },
     "metadata": {
      "needs_background": "light"
     },
     "output_type": "display_data"
    }
   ],
   "source": [
    "# male = 1, female = 0\n",
    "outcome_by_gender = data_vis.groupby('driver_gender').stop_outcome.value_counts(normalize=True).unstack()\n",
    "_ = outcome_by_gender.plot(kind=\"bar\", stacked=True, cmap=\"Paired\")"
   ]
  },
  {
   "cell_type": "markdown",
   "metadata": {},
   "source": [
    "Both genders receive written warnings more often, but females receive written warning slightly more often than males on average."
   ]
  },
  {
   "cell_type": "code",
   "execution_count": 33,
   "metadata": {
    "scrolled": true
   },
   "outputs": [
    {
     "data": {
      "image/png": "[encoded data removed]",
      "text/plain": [
       "<Figure size 838.375x360 with 2 Axes>"
      ]
     },
     "metadata": {
      "needs_background": "light"
     },
     "output_type": "display_data"
    }
   ],
   "source": [
    "# look at the pattern in citation: written warnings \n",
    "# would be better if it was normalized... sharey=false for now\n",
    "_ = sns.catplot(x='year', hue='stop_outcome',  col='driver_gender', data=data_vis, kind=\"count\", \n",
    "                estimator=lambda : len(x) / len(data_final) * 100, palette=['indianred','springgreen'], sharey=False)\n"
   ]
  },
  {
   "cell_type": "code",
   "execution_count": 34,
   "metadata": {
    "scrolled": true
   },
   "outputs": [
    {
     "data": {
      "image/png": "[encoded data removed]",
      "text/plain": [
       "<Figure size 781.375x360 with 2 Axes>"
      ]
     },
     "metadata": {
      "needs_background": "light"
     },
     "output_type": "display_data"
    }
   ],
   "source": [
    "# look at the patterns across years by gender \n",
    "_ = sns.catplot(x='stop_outcome', hue='year',  col='driver_gender', data=data_vis, kind=\"count\", \n",
    "                estimator=lambda : len(x) / len(data_final) * 100, sharey=False, palette=\"afmhot_r\")"
   ]
  },
  {
   "cell_type": "code",
   "execution_count": 35,
   "metadata": {},
   "outputs": [
    {
     "data": {
      "text/plain": [
       "array([<matplotlib.axes._subplots.AxesSubplot object at 0x1034c35f8>,\n",
       "       <matplotlib.axes._subplots.AxesSubplot object at 0x1a11da0eb8>],\n",
       "      dtype=object)"
      ]
     },
     "execution_count": 35,
     "metadata": {},
     "output_type": "execute_result"
    },
    {
     "data": {
      "image/png": "[encoded data removed]",
      "text/plain": [
       "<Figure size 432x288 with 2 Axes>"
      ]
     },
     "metadata": {
      "needs_background": "light"
     },
     "output_type": "display_data"
    }
   ],
   "source": [
    "# investigate the amount of data present for females and males across years\n",
    "data_vis.groupby('year').driver_gender.value_counts().unstack().plot(kind='line', subplots=True, color=['pink', 'teal'])"
   ]
  },
  {
   "cell_type": "markdown",
   "metadata": {},
   "source": [
    "The amount of citations received seems to stay consistent across years in both males and females.\n",
    "The written warnings increase heavily after 2010, with what seems to be a spike in 2013. However, as shown in the line graph above, this is probably due to the differing amounts of data available for each year. (2013 had the most data, with 2010 having the least)\n",
    "\n",
    "While comparing citation:written warning ratios within female and male groups, it appears that the ratio is higher in males than in females."
   ]
  },
  {
   "cell_type": "markdown",
   "metadata": {},
   "source": [
    "#### 2. Driver race"
   ]
  },
  {
   "cell_type": "code",
   "execution_count": 36,
   "metadata": {
    "scrolled": false
   },
   "outputs": [
    {
     "data": {
      "image/png": "[encoded data removed]",
      "text/plain": [
       "<Figure size 432x288 with 1 Axes>"
      ]
     },
     "metadata": {
      "needs_background": "light"
     },
     "output_type": "display_data"
    }
   ],
   "source": [
    "# outcome by driver race normalized\n",
    "outcome_by_race = data_final.groupby('driver_race').stop_outcome.value_counts(normalize=True).unstack()\n",
    "_ = outcome_by_race.plot(kind=\"barh\", stacked=True, colors=['indianred', 'springgreen'])\n",
    "_ = plt.title('Stop outcome percentages by driver race')\n",
    "_ = plt.xlabel('Percentage')\n",
    "_ = plt.ylabel('Driver race')"
   ]
  },
  {
   "cell_type": "markdown",
   "metadata": {},
   "source": [
    "From this graph alone, we can see that whites are the least likely to receive a citation when compared amongst other races. However, the skew in data must be acknowledged, as most of the data belongs to the white class."
   ]
  },
  {
   "cell_type": "code",
   "execution_count": 37,
   "metadata": {},
   "outputs": [
    {
     "data": {
      "image/png": "[encoded data removed]",
      "text/plain": [
       "<Figure size 575.5x1800 with 5 Axes>"
      ]
     },
     "metadata": {
      "needs_background": "light"
     },
     "output_type": "display_data"
    }
   ],
   "source": [
    "# outcome by driver race and police department\n",
    "_ = sns.catplot(x='stop_outcome', hue='police_department', col=\"driver_race\", data=data_final, kind=\"count\",\\\n",
    "                col_wrap=True, sharey=False, sharex=False, legend=True)"
   ]
  },
  {
   "cell_type": "markdown",
   "metadata": {},
   "source": [
    "The first column stands out here, as there appears to be more citations than written warnings in every race category except white for this column. Because of this, I will investigate this police department (Middlesex vsp) more closely."
   ]
  },
  {
   "cell_type": "code",
   "execution_count": 38,
   "metadata": {
    "scrolled": true
   },
   "outputs": [
    {
     "data": {
      "image/png": "[encoded data removed]",
      "text/plain": [
       "<Figure size 720x1080 with 5 Axes>"
      ]
     },
     "metadata": {
      "needs_background": "light"
     },
     "output_type": "display_data"
    }
   ],
   "source": [
    "# what is the count of data across police departments? is this discrepancy due to lack of data?\n",
    "data_final.police_department.value_counts() #no\n",
    "\n",
    "# what about by race?\n",
    "data_final.groupby('driver_race').police_department.value_counts() #no\n",
    "\n",
    "# ok... so look at a graph with only middlesex vsp by race and stop outcome\n",
    "middlesex = data_final[data_final.police_department == 'MIDDLESEX VSP']\n",
    "_ = sns.catplot(x='stop_outcome', col=\"driver_race\", data=middlesex, kind=\"count\",\\\n",
    "                col_wrap=2, sharey=False, sharex=False, palette=['indianred', 'springgreen'])"
   ]
  },
  {
   "cell_type": "markdown",
   "metadata": {},
   "source": [
    "This investigation confirms that there appears to be a potential bias in the middlesex vsp police department!"
   ]
  },
  {
   "cell_type": "markdown",
   "metadata": {},
   "source": [
    "#### 3. Driver age\n",
    "3. Age is split into 3 groups: early drivers (high risk, 0-25), middle aged drivers (lowest risk, 25-50), older drivers (medium risk, 50+) and then stop outcome trends are compared among age groups "
   ]
  },
  {
   "cell_type": "code",
   "execution_count": 259,
   "metadata": {},
   "outputs": [],
   "source": [
    "bins= [0,25,50,90]\n",
    "labels = ['early','middle','late']\n",
    "data_vis['ageGroup'] = pd.cut(data_vis['driver_age'], bins=bins, labels=labels, right=False)"
   ]
  },
  {
   "cell_type": "code",
   "execution_count": 40,
   "metadata": {
    "scrolled": true
   },
   "outputs": [
    {
     "data": {
      "image/png": "[encoded data removed]",
      "text/plain": [
       "<Figure size 1080x360 with 3 Axes>"
      ]
     },
     "metadata": {
      "needs_background": "light"
     },
     "output_type": "display_data"
    }
   ],
   "source": [
    "# show stop outcome by age group \n",
    "_ = sns.catplot(x='stop_outcome', col='ageGroup', data=data_vis, kind=\"count\", palette=['indianred', 'springgreen'])"
   ]
  },
  {
   "cell_type": "markdown",
   "metadata": {},
   "source": [
    "All three age groups get more written warnings than citations, but early drivers have a lower written warning : citation ratio, indicating they receive slightly more citations than other age groups."
   ]
  },
  {
   "cell_type": "code",
   "execution_count": 41,
   "metadata": {
    "scrolled": false
   },
   "outputs": [
    {
     "data": {
      "image/png": "[encoded data removed]",
      "text/plain": [
       "<Figure size 432x288 with 1 Axes>"
      ]
     },
     "metadata": {
      "needs_background": "light"
     },
     "output_type": "display_data"
    }
   ],
   "source": [
    "_ = sns.boxplot(x='driver_age', y=\"stop_outcome\",data=data_vis)"
   ]
  },
  {
   "cell_type": "markdown",
   "metadata": {},
   "source": [
    "The boxplot of original age data confirms this idea: older drivers get more written warnings on average than younger drivers. Additionally, it seems to be very rare for a driver in the 'late' age group category to receive a citation. "
   ]
  },
  {
   "cell_type": "markdown",
   "metadata": {},
   "source": [
    "### 4b. Stop outcome variation with time data\n",
    "To understand how stop outcome varies with time data, increasingly larger time intervals are considered:\n",
    "1. stop outcome data is plotted against stop_time to see if there is a notable difference in outcome depending on the time of day.\n",
    "2. stop outcome data is compared across weekday to uncover any patterns that may occur on a day to day basis. \n",
    "3. stop outcome data is compared across months to determine if stop outcome distributions are the same each month; \n",
    "4. stop outcome data is compared year to year to find out if trends have changed each year or stayed generally the same.\n",
    "\n",
    "#### 1. Hourly "
   ]
  },
  {
   "cell_type": "code",
   "execution_count": 42,
   "metadata": {},
   "outputs": [
    {
     "data": {
      "image/png": "[encoded data removed]",
      "text/plain": [
       "<Figure size 360x360 with 1 Axes>"
      ]
     },
     "metadata": {
      "needs_background": "light"
     },
     "output_type": "display_data"
    }
   ],
   "source": [
    "_ = sns.catplot(x='stop_outcome', y='stop_time', data=data_final, kind='violin', palette=['indianred','springgreen'])"
   ]
  },
  {
   "cell_type": "markdown",
   "metadata": {},
   "source": [
    "From this graph we can see that most traffic stops occur after noon and before 8pm. In this region of high activity, we see more citations than written warnings. However, in the early morning and late evening, the trend reverses and we see more written warnings than citations. "
   ]
  },
  {
   "cell_type": "markdown",
   "metadata": {},
   "source": [
    "#### 2. Daily"
   ]
  },
  {
   "cell_type": "code",
   "execution_count": 43,
   "metadata": {},
   "outputs": [
    {
     "data": {
      "image/png": "[encoded data removed]",
      "text/plain": [
       "<Figure size 360x360 with 1 Axes>"
      ]
     },
     "metadata": {
      "needs_background": "light"
     },
     "output_type": "display_data"
    }
   ],
   "source": [
    "_ = sns.catplot(x='stop_outcome', y='weekday', data=data_final, kind='boxen', palette=['indianred','springgreen'])"
   ]
  },
  {
   "cell_type": "markdown",
   "metadata": {},
   "source": [
    "As expected, most of the traffic stops occur in the weekdays; this makes sense as people often travel more often during the week than during the weekend. \n",
    "\n",
    "On Saturdays, more citations are given out than written warnings, whereas the rest of the week is distributed equally."
   ]
  },
  {
   "cell_type": "markdown",
   "metadata": {},
   "source": [
    "#### 3. Monthly"
   ]
  },
  {
   "cell_type": "code",
   "execution_count": 44,
   "metadata": {},
   "outputs": [
    {
     "data": {
      "image/png": "[encoded data removed]",
      "text/plain": [
       "<Figure size 360x360 with 1 Axes>"
      ]
     },
     "metadata": {
      "needs_background": "light"
     },
     "output_type": "display_data"
    }
   ],
   "source": [
    "_ = sns.catplot(x='stop_outcome', y='month', data=data_final, kind='boxen', palette=['indianred','springgreen'])"
   ]
  },
  {
   "cell_type": "markdown",
   "metadata": {},
   "source": [
    "Here we see that most of the data comes from April-October. \n",
    "- In early months, more written warnings are given out than citations.\n",
    "- Mid year we see an equal distribution of citations and written warnings\n",
    "- Late year sees a decrease in overall data, but the split between citations and written warnings remains about equal\n",
    "\n",
    "#### 4. Annually"
   ]
  },
  {
   "cell_type": "code",
   "execution_count": 45,
   "metadata": {},
   "outputs": [
    {
     "data": {
      "image/png": "[encoded data removed]",
      "text/plain": [
       "<Figure size 360x360 with 1 Axes>"
      ]
     },
     "metadata": {
      "needs_background": "light"
     },
     "output_type": "display_data"
    }
   ],
   "source": [
    "_ = sns.catplot(x='stop_outcome', y='year', data=data_final, kind='boxen', palette=['indianred','springgreen'])"
   ]
  },
  {
   "cell_type": "markdown",
   "metadata": {},
   "source": [
    "Annual data is distributed equally except in 2011, where we see more citations than written warnings."
   ]
  },
  {
   "cell_type": "markdown",
   "metadata": {},
   "source": [
    "### 4b. Stop outcome variation with traffic stop variables\n",
    "To understand how stop outcome varies with traffic stop variables, 'violation' and 'search_type' are plotted against stop outcome. \n",
    "\n",
    "#### 1. Violation type "
   ]
  },
  {
   "cell_type": "code",
   "execution_count": 46,
   "metadata": {
    "scrolled": false
   },
   "outputs": [
    {
     "data": {
      "image/png": "[encoded data removed]",
      "text/plain": [
       "<Figure size 360x1800 with 5 Axes>"
      ]
     },
     "metadata": {
      "needs_background": "light"
     },
     "output_type": "display_data"
    }
   ],
   "source": [
    "_ = sns.catplot(x='stop_outcome', col='violation', data=data_final, sharey=False, sharex=False, kind='count', palette=['indianred','springgreen'], col_wrap=True, legend=True)\n",
    "\n"
   ]
  },
  {
   "cell_type": "markdown",
   "metadata": {},
   "source": [
    "In each of these categories except two, written warnings are more numerous than citations. However, in 'investigatory stop' and 'externally generated stop', this pattern did not hold true and more citations were observed than written warnings. \n",
    "- An externally generated stop can be exampled by an accident or a 911 call for reckless driving, so it seems reasonable that more citations are given in this category.\n",
    "- In an investigatory stop, the officer must have reasonable suspicion that the person is involved in illegal activity, so this also makes sense for a higher citation rate.\n",
    "\n",
    "#### 2. Search type"
   ]
  },
  {
   "cell_type": "code",
   "execution_count": 47,
   "metadata": {},
   "outputs": [
    {
     "data": {
      "image/png": "[encoded data removed]",
      "text/plain": [
       "<Figure size 360x720 with 2 Axes>"
      ]
     },
     "metadata": {
      "needs_background": "light"
     },
     "output_type": "display_data"
    }
   ],
   "source": [
    "# no search is 1, search is 0\n",
    "data_vis['search_type'] = data_vis['search_type'].apply({1:'No search', 0:'Search'}.get)\n",
    "_ = sns.catplot(x='stop_outcome', col='search_type', data=data_vis, sharey=False, sharex=False, kind='count', palette=['indianred','springgreen'], col_wrap=True, legend=True)\n"
   ]
  },
  {
   "cell_type": "markdown",
   "metadata": {},
   "source": [
    "We see a much higher rate of citations when a search was conducted, which is to be expected since the officer must have reasonable conviction to search. Because of this, I may want to delete search_type from the dataframe before building a model. "
   ]
  },
  {
   "cell_type": "markdown",
   "metadata": {},
   "source": [
    "## Statistical Analysis \n",
    "\n",
    "#### 1. Chi squared tests of independence\n",
    "\n",
    "Driver gender vs stop outcome \n",
    "    \n",
    "    Ho: Driver gender and stop outcome are independent\n",
    "    Ha: Driver gender and stop outcome are dependent"
   ]
  },
  {
   "cell_type": "code",
   "execution_count": 214,
   "metadata": {
    "scrolled": false
   },
   "outputs": [
    {
     "data": {
      "text/html": [
       "<div>\n",
       "<style scoped>\n",
       "    .dataframe tbody tr th:only-of-type {\n",
       "        vertical-align: middle;\n",
       "    }\n",
       "\n",
       "    .dataframe tbody tr th {\n",
       "        vertical-align: top;\n",
       "    }\n",
       "\n",
       "    .dataframe thead th {\n",
       "        text-align: right;\n",
       "    }\n",
       "</style>\n",
       "<table border=\"1\" class=\"dataframe\">\n",
       "  <thead>\n",
       "    <tr style=\"text-align: right;\">\n",
       "      <th>stop_outcome</th>\n",
       "      <th>Citation</th>\n",
       "      <th>Written warning</th>\n",
       "    </tr>\n",
       "    <tr>\n",
       "      <th>driver_gender</th>\n",
       "      <th></th>\n",
       "      <th></th>\n",
       "    </tr>\n",
       "  </thead>\n",
       "  <tbody>\n",
       "    <tr>\n",
       "      <th>Female</th>\n",
       "      <td>34946</td>\n",
       "      <td>63663</td>\n",
       "    </tr>\n",
       "    <tr>\n",
       "      <th>Male</th>\n",
       "      <td>68767</td>\n",
       "      <td>103162</td>\n",
       "    </tr>\n",
       "  </tbody>\n",
       "</table>\n",
       "</div>"
      ],
      "text/plain": [
       "stop_outcome   Citation  Written warning\n",
       "driver_gender                           \n",
       "Female            34946            63663\n",
       "Male              68767           103162"
      ]
     },
     "execution_count": 214,
     "metadata": {},
     "output_type": "execute_result"
    }
   ],
   "source": [
    "# first need contingency table \n",
    "data_vis = df_nodummy.copy()\n",
    "data_vis['driver_gender'] = data_vis['driver_gender'].apply({1:'Male', 0:'Female'}.get)\n",
    "data_vis['stop_outcome'] = data_vis['stop_outcome'].apply({1:'Written warning', 0:'Citation'}.get)\n",
    "pd.crosstab(data_vis.driver_gender, data_vis.stop_outcome)\n"
   ]
  },
  {
   "cell_type": "code",
   "execution_count": 265,
   "metadata": {
    "scrolled": true
   },
   "outputs": [
    {
     "name": "stdout",
     "output_type": "stream",
     "text": [
      "[[34946, 63663], [68787, 103162]]\n",
      "dof=1\n",
      "[[ 37807.07795371  60801.92204629]\n",
      " [ 65925.92204629 106023.07795371]]\n",
      "probability=0.950, critical=3.841, stat=552.325\n",
      "Dependent (reject H0)\n",
      "significance=0.050, p=0.000\n",
      "Dependent (reject H0)\n"
     ]
    }
   ],
   "source": [
    "from scipy.stats import chi2_contingency\n",
    "table = [[34946, 63663], [68787, 103162]]\n",
    "stat, p, dof, expected = chi2_contingency(table)\n",
    "print(table)\n",
    "print('dof=%d' % dof)\n",
    "print(expected)\n",
    "\n",
    "# interpret test-statistic\n",
    "from scipy.stats import chi2\n",
    "prob = 0.95\n",
    "critical = chi2.ppf(prob, dof)\n",
    "print('probability=%.3f, critical=%.3f, stat=%.3f' % (prob, critical, stat))\n",
    "if abs(stat) >= critical:\n",
    "\tprint('Dependent (reject H0)')\n",
    "else:\n",
    "\tprint('Independent (fail to reject H0)')\n",
    "    \n",
    "# interpret p-value\n",
    "alpha = 1.0 - prob\n",
    "print('significance=%.3f, p=%.3f' % (alpha, p))\n",
    "if p <= alpha:\n",
    "\tprint('Dependent (reject H0)')\n",
    "else:\n",
    "\tprint('Independent (fail to reject H0)')"
   ]
  },
  {
   "cell_type": "markdown",
   "metadata": {},
   "source": [
    "With p < 0.05, I can reject the null hypothesis with 95% confidence. There is a relationship between driver gender and stop outcome!\n",
    "\n",
    "Driver race \n",
    "\n",
    "    Ho: Driver race is unrelated to stop outcome\n",
    "    Ha: Driver race is related to stop outcome"
   ]
  },
  {
   "cell_type": "code",
   "execution_count": 255,
   "metadata": {
    "scrolled": false
   },
   "outputs": [
    {
     "data": {
      "text/html": [
       "<div>\n",
       "<style scoped>\n",
       "    .dataframe tbody tr th:only-of-type {\n",
       "        vertical-align: middle;\n",
       "    }\n",
       "\n",
       "    .dataframe tbody tr th {\n",
       "        vertical-align: top;\n",
       "    }\n",
       "\n",
       "    .dataframe thead th {\n",
       "        text-align: right;\n",
       "    }\n",
       "</style>\n",
       "<table border=\"1\" class=\"dataframe\">\n",
       "  <thead>\n",
       "    <tr style=\"text-align: right;\">\n",
       "      <th>stop_outcome</th>\n",
       "      <th>Citation</th>\n",
       "      <th>Written Warning</th>\n",
       "    </tr>\n",
       "    <tr>\n",
       "      <th>driver_race</th>\n",
       "      <th></th>\n",
       "      <th></th>\n",
       "    </tr>\n",
       "  </thead>\n",
       "  <tbody>\n",
       "    <tr>\n",
       "      <th>Asian</th>\n",
       "      <td>1718</td>\n",
       "      <td>1711</td>\n",
       "    </tr>\n",
       "    <tr>\n",
       "      <th>Black</th>\n",
       "      <td>2437</td>\n",
       "      <td>3026</td>\n",
       "    </tr>\n",
       "    <tr>\n",
       "      <th>Hispanic</th>\n",
       "      <td>1171</td>\n",
       "      <td>1349</td>\n",
       "    </tr>\n",
       "    <tr>\n",
       "      <th>Other</th>\n",
       "      <td>132</td>\n",
       "      <td>126</td>\n",
       "    </tr>\n",
       "    <tr>\n",
       "      <th>White</th>\n",
       "      <td>98255</td>\n",
       "      <td>160613</td>\n",
       "    </tr>\n",
       "  </tbody>\n",
       "</table>\n",
       "</div>"
      ],
      "text/plain": [
       "stop_outcome  Citation  Written Warning\n",
       "driver_race                            \n",
       "Asian             1718             1711\n",
       "Black             2437             3026\n",
       "Hispanic          1171             1349\n",
       "Other              132              126\n",
       "White            98255           160613"
      ]
     },
     "execution_count": 255,
     "metadata": {},
     "output_type": "execute_result"
    }
   ],
   "source": [
    "pd.crosstab(data_vis.driver_race, data_vis.stop_outcome)"
   ]
  },
  {
   "cell_type": "code",
   "execution_count": 256,
   "metadata": {
    "scrolled": true
   },
   "outputs": [
    {
     "name": "stdout",
     "output_type": "stream",
     "text": [
      "[[1718, 1711], [2437, 3026], [1171, 1349], [132, 126], [98255, 160613]]\n",
      "dof=4\n",
      "[[1.31453577e+03 2.11446423e+03]\n",
      " [2.09428664e+03 3.36871336e+03]\n",
      " [9.66063030e+02 1.55393697e+03]\n",
      " [9.89064531e+01 1.59093547e+02]\n",
      " [9.92392081e+04 1.59628792e+05]]\n",
      "probability=0.950, critical=9.488, stat=396.055\n",
      "Dependent (reject H0)\n",
      "significance=0.050, p=0.000\n",
      "Dependent (reject H0)\n"
     ]
    }
   ],
   "source": [
    "from scipy.stats import chi2_contingency\n",
    "table = [[1718, 1711], [2437, 3026], [1171, 1349], [132, 126], [98255, 160613]]\n",
    "stat, p, dof, expected = chi2_contingency(table)\n",
    "print(table)\n",
    "print('dof=%d' % dof)\n",
    "print(expected)\n",
    "\n",
    "# interpret test-statistic\n",
    "from scipy.stats import chi2\n",
    "prob = 0.95\n",
    "critical = chi2.ppf(prob, dof)\n",
    "print('probability=%.3f, critical=%.3f, stat=%.3f' % (prob, critical, stat))\n",
    "if abs(stat) >= critical:\n",
    "\tprint('Dependent (reject H0)')\n",
    "else:\n",
    "\tprint('Independent (fail to reject H0)')\n",
    "    \n",
    "# interpret p-value\n",
    "alpha = 1.0 - prob\n",
    "print('significance=%.3f, p=%.3f' % (alpha, p))\n",
    "if p <= alpha:\n",
    "\tprint('Dependent (reject H0)')\n",
    "else:\n",
    "\tprint('Independent (fail to reject H0)')"
   ]
  },
  {
   "cell_type": "markdown",
   "metadata": {},
   "source": [
    "With p < 0.05, I can reject the null hypothesis with 95% confidence and assert that driver race has an effect on stop outcome\n",
    "\n",
    "Age group vs stop outcome \n",
    "\n",
    "    Ho: Driver age does not impact stop outcome \n",
    "    Ha: Driver age does impact stop outcome"
   ]
  },
  {
   "cell_type": "code",
   "execution_count": 261,
   "metadata": {
    "scrolled": true
   },
   "outputs": [
    {
     "data": {
      "text/html": [
       "<div>\n",
       "<style scoped>\n",
       "    .dataframe tbody tr th:only-of-type {\n",
       "        vertical-align: middle;\n",
       "    }\n",
       "\n",
       "    .dataframe tbody tr th {\n",
       "        vertical-align: top;\n",
       "    }\n",
       "\n",
       "    .dataframe thead th {\n",
       "        text-align: right;\n",
       "    }\n",
       "</style>\n",
       "<table border=\"1\" class=\"dataframe\">\n",
       "  <thead>\n",
       "    <tr style=\"text-align: right;\">\n",
       "      <th>stop_outcome</th>\n",
       "      <th>Citation</th>\n",
       "      <th>Written Warning</th>\n",
       "    </tr>\n",
       "    <tr>\n",
       "      <th>ageGroup</th>\n",
       "      <th></th>\n",
       "      <th></th>\n",
       "    </tr>\n",
       "  </thead>\n",
       "  <tbody>\n",
       "    <tr>\n",
       "      <th>early</th>\n",
       "      <td>27075</td>\n",
       "      <td>35081</td>\n",
       "    </tr>\n",
       "    <tr>\n",
       "      <th>middle</th>\n",
       "      <td>53671</td>\n",
       "      <td>81548</td>\n",
       "    </tr>\n",
       "    <tr>\n",
       "      <th>late</th>\n",
       "      <td>22960</td>\n",
       "      <td>50163</td>\n",
       "    </tr>\n",
       "  </tbody>\n",
       "</table>\n",
       "</div>"
      ],
      "text/plain": [
       "stop_outcome  Citation  Written Warning\n",
       "ageGroup                               \n",
       "early            27075            35081\n",
       "middle           53671            81548\n",
       "late             22960            50163"
      ]
     },
     "execution_count": 261,
     "metadata": {},
     "output_type": "execute_result"
    }
   ],
   "source": [
    "# age group \n",
    "pd.crosstab(data_vis.ageGroup, data_vis.stop_outcome)"
   ]
  },
  {
   "cell_type": "code",
   "execution_count": 262,
   "metadata": {
    "scrolled": true
   },
   "outputs": [
    {
     "name": "stdout",
     "output_type": "stream",
     "text": [
      "[[27075, 35081], [53671, 81548], [22960, 50163]]\n",
      "dof=2\n",
      "[[23829.93639879 38326.06360121]\n",
      " [51841.49832531 83377.50167469]\n",
      " [28034.5652759  45088.4347241 ]]\n",
      "probability=0.950, critical=5.991, stat=2311.045\n",
      "Dependent (reject H0)\n",
      "significance=0.050, p=0.000\n",
      "Dependent (reject H0)\n"
     ]
    }
   ],
   "source": [
    "from scipy.stats import chi2_contingency\n",
    "table = [[27075, 35081], [53671, 81548], [22960, 50163]]\n",
    "stat, p, dof, expected = chi2_contingency(table)\n",
    "print(table)\n",
    "print('dof=%d' % dof)\n",
    "print(expected)\n",
    "\n",
    "# interpret test-statistic\n",
    "from scipy.stats import chi2\n",
    "prob = 0.95\n",
    "critical = chi2.ppf(prob, dof)\n",
    "print('probability=%.3f, critical=%.3f, stat=%.3f' % (prob, critical, stat))\n",
    "if abs(stat) >= critical:\n",
    "\tprint('Dependent (reject H0)')\n",
    "else:\n",
    "\tprint('Independent (fail to reject H0)')\n",
    "    \n",
    "# interpret p-value\n",
    "alpha = 1.0 - prob\n",
    "print('significance=%.3f, p=%.3f' % (alpha, p))\n",
    "if p <= alpha:\n",
    "\tprint('Dependent (reject H0)')\n",
    "else:\n",
    "\tprint('Independent (fail to reject H0)')"
   ]
  },
  {
   "cell_type": "markdown",
   "metadata": {},
   "source": [
    "With p < 0.05, I can reject the null hypothesis with 95% confidence and conclude that driver age does have an effect on stop outcome.\n",
    "\n",
    "Police department vs stop outcome \n",
    "\n",
    "    Ho: police department and stop outcome are independent\n",
    "    Ha: police department and stop outcome are dependent"
   ]
  },
  {
   "cell_type": "code",
   "execution_count": 257,
   "metadata": {
    "scrolled": true
   },
   "outputs": [
    {
     "data": {
      "text/html": [
       "<div>\n",
       "<style scoped>\n",
       "    .dataframe tbody tr th:only-of-type {\n",
       "        vertical-align: middle;\n",
       "    }\n",
       "\n",
       "    .dataframe tbody tr th {\n",
       "        vertical-align: top;\n",
       "    }\n",
       "\n",
       "    .dataframe thead th {\n",
       "        text-align: right;\n",
       "    }\n",
       "</style>\n",
       "<table border=\"1\" class=\"dataframe\">\n",
       "  <thead>\n",
       "    <tr style=\"text-align: right;\">\n",
       "      <th>stop_outcome</th>\n",
       "      <th>Citation</th>\n",
       "      <th>Written Warning</th>\n",
       "    </tr>\n",
       "    <tr>\n",
       "      <th>police_department</th>\n",
       "      <th></th>\n",
       "      <th></th>\n",
       "    </tr>\n",
       "  </thead>\n",
       "  <tbody>\n",
       "    <tr>\n",
       "      <th>BRADFORD VSP</th>\n",
       "      <td>9505</td>\n",
       "      <td>10884</td>\n",
       "    </tr>\n",
       "    <tr>\n",
       "      <th>BRATTLEBORO VSP</th>\n",
       "      <td>8136</td>\n",
       "      <td>11432</td>\n",
       "    </tr>\n",
       "    <tr>\n",
       "      <th>DERBY VSP</th>\n",
       "      <td>3671</td>\n",
       "      <td>6272</td>\n",
       "    </tr>\n",
       "    <tr>\n",
       "      <th>MIDDLESEX VSP</th>\n",
       "      <td>12740</td>\n",
       "      <td>14268</td>\n",
       "    </tr>\n",
       "    <tr>\n",
       "      <th>NEW HAVEN VSP</th>\n",
       "      <td>8850</td>\n",
       "      <td>13868</td>\n",
       "    </tr>\n",
       "    <tr>\n",
       "      <th>ROCKINGHAM VSP</th>\n",
       "      <td>6909</td>\n",
       "      <td>15437</td>\n",
       "    </tr>\n",
       "    <tr>\n",
       "      <th>ROYALTON VSP</th>\n",
       "      <td>6798</td>\n",
       "      <td>18522</td>\n",
       "    </tr>\n",
       "    <tr>\n",
       "      <th>RUTLAND VSP</th>\n",
       "      <td>8308</td>\n",
       "      <td>13380</td>\n",
       "    </tr>\n",
       "    <tr>\n",
       "      <th>SHAFTSBURY VSP</th>\n",
       "      <td>5912</td>\n",
       "      <td>14400</td>\n",
       "    </tr>\n",
       "    <tr>\n",
       "      <th>ST ALBANS VSP</th>\n",
       "      <td>7080</td>\n",
       "      <td>13341</td>\n",
       "    </tr>\n",
       "    <tr>\n",
       "      <th>ST JOHNSBURY VSP</th>\n",
       "      <td>5260</td>\n",
       "      <td>9377</td>\n",
       "    </tr>\n",
       "    <tr>\n",
       "      <th>VSP HEADQUARTERS - FIELD FORCE</th>\n",
       "      <td>12106</td>\n",
       "      <td>10608</td>\n",
       "    </tr>\n",
       "    <tr>\n",
       "      <th>WILLISTON VSP</th>\n",
       "      <td>8438</td>\n",
       "      <td>15036</td>\n",
       "    </tr>\n",
       "  </tbody>\n",
       "</table>\n",
       "</div>"
      ],
      "text/plain": [
       "stop_outcome                    Citation  Written Warning\n",
       "police_department                                        \n",
       "BRADFORD VSP                        9505            10884\n",
       "BRATTLEBORO VSP                     8136            11432\n",
       "DERBY VSP                           3671             6272\n",
       "MIDDLESEX VSP                      12740            14268\n",
       "NEW HAVEN VSP                       8850            13868\n",
       "ROCKINGHAM VSP                      6909            15437\n",
       "ROYALTON VSP                        6798            18522\n",
       "RUTLAND VSP                         8308            13380\n",
       "SHAFTSBURY VSP                      5912            14400\n",
       "ST ALBANS VSP                       7080            13341\n",
       "ST JOHNSBURY VSP                    5260             9377\n",
       "VSP HEADQUARTERS - FIELD FORCE     12106            10608\n",
       "WILLISTON VSP                       8438            15036"
      ]
     },
     "execution_count": 257,
     "metadata": {},
     "output_type": "execute_result"
    }
   ],
   "source": [
    "# police department \n",
    "pd.crosstab(data_vis.police_department, data_vis.stop_outcome)"
   ]
  },
  {
   "cell_type": "code",
   "execution_count": 258,
   "metadata": {
    "scrolled": true
   },
   "outputs": [
    {
     "name": "stdout",
     "output_type": "stream",
     "text": [
      "[[9505, 10884], [8136, 11432], [3671, 6272], [12740, 14268], [8850, 13868], [6909, 15437], [6798, 18522], [8308, 13380], [5912, 14400], [7080, 13341], [5260, 9377], [12106, 10608], [8438, 15036]]\n",
      "dof=12\n",
      "[[ 7816.29330076 12572.70669924]\n",
      " [ 7501.55609933 12066.44390067]\n",
      " [ 3811.73202655  6131.26797345]\n",
      " [10353.74218779 16654.25781221]\n",
      " [ 8709.13488678 14008.86511322]\n",
      " [ 8566.52558236 13779.47441764]\n",
      " [ 9706.63330105 15613.36669895]\n",
      " [ 8314.2757912  13373.7242088 ]\n",
      " [ 7786.77470817 12525.22529183]\n",
      " [ 7828.5607678  12592.4392322 ]\n",
      " [ 5611.21609903  9025.78390097]\n",
      " [ 8707.6014534  14006.3985466 ]\n",
      " [ 8998.95379577 14475.04620423]]\n",
      "probability=0.950, critical=21.026, stat=6607.528\n",
      "Dependent (reject H0)\n",
      "significance=0.050, p=0.000\n",
      "Dependent (reject H0)\n"
     ]
    }
   ],
   "source": [
    "from scipy.stats import chi2_contingency\n",
    "table = [[9505, 10884], [8136, 11432], [3671, 6272], [12740, 14268], [8850, 13868], [6909, 15437], [6798, 18522], \\\n",
    "        [8308, 13380], [5912, 14400], [7080, 13341], [5260, 9377], [12106, 10608], [8438, 15036]]\n",
    "stat, p, dof, expected = chi2_contingency(table)\n",
    "print(table)\n",
    "print('dof=%d' % dof)\n",
    "print(expected)\n",
    "\n",
    "# interpret test-statistic\n",
    "from scipy.stats import chi2\n",
    "prob = 0.95\n",
    "critical = chi2.ppf(prob, dof)\n",
    "print('probability=%.3f, critical=%.3f, stat=%.3f' % (prob, critical, stat))\n",
    "if abs(stat) >= critical:\n",
    "\tprint('Dependent (reject H0)')\n",
    "else:\n",
    "\tprint('Independent (fail to reject H0)')\n",
    "    \n",
    "# interpret p-value\n",
    "alpha = 1.0 - prob\n",
    "print('significance=%.3f, p=%.3f' % (alpha, p))\n",
    "if p <= alpha:\n",
    "\tprint('Dependent (reject H0)')\n",
    "else:\n",
    "\tprint('Independent (fail to reject H0)')"
   ]
  },
  {
   "cell_type": "markdown",
   "metadata": {},
   "source": [
    "With p < 0.05, I can reject the null hypothesis with 95% confidence and note that police department effects stop outcome.\n",
    "\n",
    "Violation type vs stop outcome\n",
    "\n",
    "    Ho: violation type and stop outcome are unrelated\n",
    "    Ha: violation type and stop outcome are related"
   ]
  },
  {
   "cell_type": "code",
   "execution_count": 269,
   "metadata": {
    "scrolled": true
   },
   "outputs": [
    {
     "data": {
      "text/html": [
       "<div>\n",
       "<style scoped>\n",
       "    .dataframe tbody tr th:only-of-type {\n",
       "        vertical-align: middle;\n",
       "    }\n",
       "\n",
       "    .dataframe tbody tr th {\n",
       "        vertical-align: top;\n",
       "    }\n",
       "\n",
       "    .dataframe thead th {\n",
       "        text-align: right;\n",
       "    }\n",
       "</style>\n",
       "<table border=\"1\" class=\"dataframe\">\n",
       "  <thead>\n",
       "    <tr style=\"text-align: right;\">\n",
       "      <th>stop_outcome</th>\n",
       "      <th>Citation</th>\n",
       "      <th>Written Warning</th>\n",
       "    </tr>\n",
       "    <tr>\n",
       "      <th>violation</th>\n",
       "      <th></th>\n",
       "      <th></th>\n",
       "    </tr>\n",
       "  </thead>\n",
       "  <tbody>\n",
       "    <tr>\n",
       "      <th>Externally Generated Stop</th>\n",
       "      <td>3365</td>\n",
       "      <td>2418</td>\n",
       "    </tr>\n",
       "    <tr>\n",
       "      <th>Investigatory Stop</th>\n",
       "      <td>2142</td>\n",
       "      <td>1289</td>\n",
       "    </tr>\n",
       "    <tr>\n",
       "      <th>Moving Violation</th>\n",
       "      <td>90006</td>\n",
       "      <td>120709</td>\n",
       "    </tr>\n",
       "    <tr>\n",
       "      <th>Suspicion of DWI</th>\n",
       "      <td>182</td>\n",
       "      <td>395</td>\n",
       "    </tr>\n",
       "    <tr>\n",
       "      <th>Vehicle Equipment</th>\n",
       "      <td>8018</td>\n",
       "      <td>42014</td>\n",
       "    </tr>\n",
       "  </tbody>\n",
       "</table>\n",
       "</div>"
      ],
      "text/plain": [
       "stop_outcome               Citation  Written Warning\n",
       "violation                                           \n",
       "Externally Generated Stop      3365             2418\n",
       "Investigatory Stop             2142             1289\n",
       "Moving Violation              90006           120709\n",
       "Suspicion of DWI                182              395\n",
       "Vehicle Equipment              8018            42014"
      ]
     },
     "execution_count": 269,
     "metadata": {},
     "output_type": "execute_result"
    }
   ],
   "source": [
    "# violation type \n",
    "pd.crosstab(data_vis.violation, data_vis.stop_outcome)"
   ]
  },
  {
   "cell_type": "code",
   "execution_count": 270,
   "metadata": {},
   "outputs": [
    {
     "name": "stdout",
     "output_type": "stream",
     "text": [
      "[[3365, 2418], [2142, 1289], [90006, 120709], [182, 395], [8018, 42014]]\n",
      "dof=4\n",
      "[[  2216.96131043   3566.03868957]\n",
      " [  1315.30248246   2115.69751754]\n",
      " [ 80779.35371371 129935.64628629]\n",
      " [   221.19776519    355.80223481]\n",
      " [ 19180.18472821  30851.81527179]]\n",
      "probability=0.950, critical=9.488, stat=14061.511\n",
      "Dependent (reject H0)\n",
      "significance=0.050, p=0.000\n",
      "Dependent (reject H0)\n"
     ]
    }
   ],
   "source": [
    "from scipy.stats import chi2_contingency\n",
    "table = [[3365, 2418], [2142, 1289], [90006, 120709], [182, 395], [8018, 42014]]\n",
    "stat, p, dof, expected = chi2_contingency(table)\n",
    "print(table)\n",
    "print('dof=%d' % dof)\n",
    "print(expected)\n",
    "\n",
    "# interpret test-statistic\n",
    "from scipy.stats import chi2\n",
    "prob = 0.95\n",
    "critical = chi2.ppf(prob, dof)\n",
    "print('probability=%.3f, critical=%.3f, stat=%.3f' % (prob, critical, stat))\n",
    "if abs(stat) >= critical:\n",
    "\tprint('Dependent (reject H0)')\n",
    "else:\n",
    "\tprint('Independent (fail to reject H0)')\n",
    "    \n",
    "# interpret p-value\n",
    "alpha = 1.0 - prob\n",
    "print('significance=%.3f, p=%.3f' % (alpha, p))\n",
    "if p <= alpha:\n",
    "\tprint('Dependent (reject H0)')\n",
    "else:\n",
    "\tprint('Independent (fail to reject H0)')"
   ]
  },
  {
   "cell_type": "markdown",
   "metadata": {},
   "source": [
    "With p < 0.05, I can reject the null hypothesis with 95% confidence and conclude that violation type and stop outcome are related.\n",
    "\n",
    "Weekday vs stop outcome\n",
    "\n",
    "    Ho: Weekday and stop outcome have no relationship\n",
    "    Ha: A relationship exists between weekday and stop outcome"
   ]
  },
  {
   "cell_type": "code",
   "execution_count": 263,
   "metadata": {
    "scrolled": false
   },
   "outputs": [
    {
     "data": {
      "text/html": [
       "<div>\n",
       "<style scoped>\n",
       "    .dataframe tbody tr th:only-of-type {\n",
       "        vertical-align: middle;\n",
       "    }\n",
       "\n",
       "    .dataframe tbody tr th {\n",
       "        vertical-align: top;\n",
       "    }\n",
       "\n",
       "    .dataframe thead th {\n",
       "        text-align: right;\n",
       "    }\n",
       "</style>\n",
       "<table border=\"1\" class=\"dataframe\">\n",
       "  <thead>\n",
       "    <tr style=\"text-align: right;\">\n",
       "      <th>stop_outcome</th>\n",
       "      <th>Citation</th>\n",
       "      <th>Written Warning</th>\n",
       "    </tr>\n",
       "    <tr>\n",
       "      <th>weekday</th>\n",
       "      <th></th>\n",
       "      <th></th>\n",
       "    </tr>\n",
       "  </thead>\n",
       "  <tbody>\n",
       "    <tr>\n",
       "      <th>1</th>\n",
       "      <td>14786</td>\n",
       "      <td>22868</td>\n",
       "    </tr>\n",
       "    <tr>\n",
       "      <th>2</th>\n",
       "      <td>13697</td>\n",
       "      <td>22849</td>\n",
       "    </tr>\n",
       "    <tr>\n",
       "      <th>3</th>\n",
       "      <td>14523</td>\n",
       "      <td>23460</td>\n",
       "    </tr>\n",
       "    <tr>\n",
       "      <th>4</th>\n",
       "      <td>14890</td>\n",
       "      <td>24560</td>\n",
       "    </tr>\n",
       "    <tr>\n",
       "      <th>5</th>\n",
       "      <td>18556</td>\n",
       "      <td>28605</td>\n",
       "    </tr>\n",
       "    <tr>\n",
       "      <th>6</th>\n",
       "      <td>13758</td>\n",
       "      <td>24278</td>\n",
       "    </tr>\n",
       "    <tr>\n",
       "      <th>7</th>\n",
       "      <td>13503</td>\n",
       "      <td>20205</td>\n",
       "    </tr>\n",
       "  </tbody>\n",
       "</table>\n",
       "</div>"
      ],
      "text/plain": [
       "stop_outcome  Citation  Written Warning\n",
       "weekday                                \n",
       "1                14786            22868\n",
       "2                13697            22849\n",
       "3                14523            23460\n",
       "4                14890            24560\n",
       "5                18556            28605\n",
       "6                13758            24278\n",
       "7                13503            20205"
      ]
     },
     "execution_count": 263,
     "metadata": {},
     "output_type": "execute_result"
    }
   ],
   "source": [
    "# weekday \n",
    "pd.crosstab(data_vis.weekday, data_vis.stop_outcome)"
   ]
  },
  {
   "cell_type": "code",
   "execution_count": 264,
   "metadata": {},
   "outputs": [
    {
     "name": "stdout",
     "output_type": "stream",
     "text": [
      "[[14786, 22868], [13697, 22849], [14523, 23460], [14890, 24560], [18556, 28605], [13758, 24278], [13503, 20205]]\n",
      "dof=6\n",
      "[[14434.97513104 23219.02486896]\n",
      " [14010.21408453 22535.78591547]\n",
      " [14561.10002661 23421.89997339]\n",
      " [15123.48671906 24326.51328094]\n",
      " [18079.56291907 29081.43708093]\n",
      " [14581.41801891 23454.58198109]\n",
      " [12922.24310078 20785.75689922]]\n",
      "probability=0.950, critical=12.592, stat=169.300\n",
      "Dependent (reject H0)\n",
      "significance=0.050, p=0.000\n",
      "Dependent (reject H0)\n"
     ]
    }
   ],
   "source": [
    "from scipy.stats import chi2_contingency\n",
    "table = [[14786, 22868], [13697, 22849], [14523, 23460], [14890, 24560], [18556, 28605], [13758, 24278], [13503, 20205]]\n",
    "stat, p, dof, expected = chi2_contingency(table)\n",
    "print(table)\n",
    "print('dof=%d' % dof)\n",
    "print(expected)\n",
    "\n",
    "# interpret test-statistic\n",
    "from scipy.stats import chi2\n",
    "prob = 0.95\n",
    "critical = chi2.ppf(prob, dof)\n",
    "print('probability=%.3f, critical=%.3f, stat=%.3f' % (prob, critical, stat))\n",
    "if abs(stat) >= critical:\n",
    "\tprint('Dependent (reject H0)')\n",
    "else:\n",
    "\tprint('Independent (fail to reject H0)')\n",
    "    \n",
    "# interpret p-value\n",
    "alpha = 1.0 - prob\n",
    "print('significance=%.3f, p=%.3f' % (alpha, p))\n",
    "if p <= alpha:\n",
    "\tprint('Dependent (reject H0)')\n",
    "else:\n",
    "\tprint('Independent (fail to reject H0)')"
   ]
  },
  {
   "cell_type": "markdown",
   "metadata": {},
   "source": [
    "With p < 0.05, I can reject the null hypothesis with 95% confidence and state that weekday and stop outcome have a statistically significant relationship.\n",
    "\n",
    "### Boostrap Statistics\n",
    "\n",
    "I hypothesize that the female written warning:citation ratio is larger than the male ratio. In order to test this hypothesis, I used bootstrapping techniques to perform 10,000 bootstrap replicates of the difference between female and male ratios. \n",
    "\n",
    "To begin this process, I visually inspected the written warning and citation counts for both females and males, and also the respective ratios. The initial visual scan gives the impression that the female ratio is larger than the male ratio, but because of a class imbalance I cannot say this with certainty yet. \n",
    "\n",
    "By drawing 10,000 boostrap replicates of the difference in female and male outcome ratios, I was able to simulate a random distribution and thus have confidence in the results. "
   ]
  },
  {
   "cell_type": "markdown",
   "metadata": {},
   "source": [
    "        Ho: The ratio of female and male stop outcomes are the same \n",
    "        \n",
    "        Ha: The ratio of female and male stop outcomes are different."
   ]
  },
  {
   "cell_type": "code",
   "execution_count": 47,
   "metadata": {
    "scrolled": true
   },
   "outputs": [
    {
     "name": "stdout",
     "output_type": "stream",
     "text": [
      "Female written warning count: 63663 \n",
      "Female citation count: 34946 \n",
      "\n",
      "Male written warning count: 103162 \n",
      "Male citation count: 68767\n"
     ]
    }
   ],
   "source": [
    "# are females really more likely to receive a written warning than males? \n",
    "#1 is male 0 is female\n",
    "# 1 is written warning, 0 is citation\n",
    "gender_outcome = df_nodummy.groupby('driver_gender').stop_outcome.value_counts()\n",
    "male_outcome_warn = gender_outcome[1][1]\n",
    "female_outcome_warn = gender_outcome[0][1]\n",
    "male_outcome_cite = gender_outcome[1][0]\n",
    "female_outcome_cite = gender_outcome[0][0]\n",
    "print(\"Female written warning count:\", female_outcome_warn, \"\\nFemale citation count:\", female_outcome_cite,\n",
    "      \"\\n\\nMale written warning count:\", male_outcome_warn, \"\\nMale citation count:\", male_outcome_cite)\n"
   ]
  },
  {
   "cell_type": "code",
   "execution_count": 59,
   "metadata": {
    "scrolled": true
   },
   "outputs": [
    {
     "name": "stdout",
     "output_type": "stream",
     "text": [
      "Female outcome ratio: 1.821753562639501 \n",
      "Male outcome ratio: 1.5001672313755143\n"
     ]
    }
   ],
   "source": [
    "# can i compare the difference in the ratio to see if its significant?\n",
    "# ho = the \n",
    "female_ratio = female_outcome_warn / female_outcome_cite\n",
    "male_ratio = male_outcome_warn / male_outcome_cite\n",
    "\n",
    "print('Female outcome ratio:', female_ratio, \"\\nMale outcome ratio:\", male_ratio)"
   ]
  },
  {
   "cell_type": "code",
   "execution_count": 89,
   "metadata": {
    "scrolled": true
   },
   "outputs": [],
   "source": [
    "gender_counts = df_nodummy.driver_gender.value_counts()\n",
    "male_count = gender_counts[1]\n",
    "female_count = gender_counts[0]"
   ]
  },
  {
   "cell_type": "code",
   "execution_count": 112,
   "metadata": {},
   "outputs": [],
   "source": [
    "# split the data into female and male outcomes to get size\n",
    "female_outcomes = df_nodummy.loc[df_nodummy['driver_gender'] == 0]['stop_outcome']\n",
    "male_outcomes = df_nodummy.loc[df_nodummy['driver_gender'] == 1]['stop_outcome']"
   ]
  },
  {
   "cell_type": "code",
   "execution_count": 152,
   "metadata": {},
   "outputs": [],
   "source": [
    "def draw_reps(data):\n",
    "    \"\"\"Generate bootstrap replicate of 1D data\"\"\"\n",
    "    bs_sample = np.random.choice(data, len(data))\n",
    "    uniqs, counts = np.unique(bs_sample, return_counts=True)\n",
    "    freqs = np.asarray((uniqs, counts))\n",
    "    return freqs[1][1] / freqs[1][0]"
   ]
  },
  {
   "cell_type": "code",
   "execution_count": 122,
   "metadata": {},
   "outputs": [],
   "source": [
    "# define a function to calculate the test statistic\n",
    "def diff_between_ratios(female, male):\n",
    "    fem = draw_reps(female)\n",
    "    male = draw_reps(male)\n",
    "    return fem - male"
   ]
  },
  {
   "cell_type": "code",
   "execution_count": 153,
   "metadata": {},
   "outputs": [],
   "source": [
    "# generate 10,000 replicates of the differences between ratios\n",
    "np.random.seed(47)\n",
    "ratio_diffs = [diff_between_ratios(female_outcomes, male_outcomes) for i in np.arange(10000)]"
   ]
  },
  {
   "cell_type": "code",
   "execution_count": 154,
   "metadata": {},
   "outputs": [
    {
     "data": {
      "text/plain": [
       "array([0.2936638, 0.349116 ])"
      ]
     },
     "execution_count": 154,
     "metadata": {},
     "output_type": "execute_result"
    }
   ],
   "source": [
    "#calculate the 95% confidence interval of the difference of the outcome ratios\n",
    "ratio_conf = np.percentile(ratio_diffs, [2.5, 97.5])\n",
    "ratio_conf"
   ]
  },
  {
   "cell_type": "markdown",
   "metadata": {},
   "source": [
    "Since the 95% confidence interval does not contain 0, and the percentiles are both positive, I can reject the null hypothesis and conclude that females tend to receive more written warnings than males.\n",
    "\n",
    "The preceding results are plotting in a histogram below, with the 25th and 75th percentiles marked in orange."
   ]
  },
  {
   "cell_type": "code",
   "execution_count": 175,
   "metadata": {
    "scrolled": false
   },
   "outputs": [
    {
     "data": {
      "image/png": "[encoded data removed]",
      "text/plain": [
       "<Figure size 432x288 with 1 Axes>"
      ]
     },
     "metadata": {
      "needs_background": "light"
     },
     "output_type": "display_data"
    }
   ],
   "source": [
    "# plot a histogram of these values with the percentiles marked\n",
    "_ = plt.hist(ratio_diffs, bins=30)\n",
    "_ = plt.axvline(x=ratio_conf[0], color='orange', linewidth=2)\n",
    "_ = plt.axvline(x=ratio_conf[1], color='orange', linewidth=2)\n",
    "_ = plt.xlabel('difference in female and male stop outcome ratios')\n",
    "_ = plt.ylabel('frequency')\n",
    "_ = plt.title('Distribution of differences in female and male stop outcome ratios')"
   ]
  },
  {
   "cell_type": "markdown",
   "metadata": {},
   "source": [
    "To verify these results in a more traditional manner, I used the same bootstrapping technique with difference in averages as the test statistic. In this case, since stop outcome is hot encoded (written warnings = 1, citation = 0), the average will correspond to the rate at which either group is given written warnings.\n",
    "\n",
    "        Ho: The difference between female and male average stop outcomes is zero\n",
    "        Ha: The difference between female and male average stop outcomes is not zero."
   ]
  },
  {
   "cell_type": "code",
   "execution_count": 185,
   "metadata": {},
   "outputs": [],
   "source": [
    "def draw_bootstrap_reps(data, func, size=1):\n",
    "    bs_replicates = np.empty(size)\n",
    "    for i in range(size):\n",
    "        bs_sample = np.random.choice(data, len(data))\n",
    "        bs_replicates[i] = func(bs_sample)\n",
    "    \n",
    "    return bs_replicates"
   ]
  },
  {
   "cell_type": "code",
   "execution_count": 194,
   "metadata": {},
   "outputs": [],
   "source": [
    "# define a function to calculate the test statistic\n",
    "def diff_between_means(female, male):\n",
    "    fem = draw_bootstrap_reps(female, np.mean, size=10000)\n",
    "    male = draw_bootstrap_reps(male, np.mean, size=10000)\n",
    "    return fem - male"
   ]
  },
  {
   "cell_type": "code",
   "execution_count": 195,
   "metadata": {},
   "outputs": [],
   "source": [
    "np.random.seed(47)\n",
    "mean_diffs = [diff_between_means(female_outcomes, male_outcomes)]"
   ]
  },
  {
   "cell_type": "code",
   "execution_count": 196,
   "metadata": {},
   "outputs": [
    {
     "data": {
      "text/plain": [
       "array([0.04180389, 0.04934824])"
      ]
     },
     "execution_count": 196,
     "metadata": {},
     "output_type": "execute_result"
    }
   ],
   "source": [
    "#calculate the 95% confidence interval of the difference of the outcome differences\n",
    "mean_conf = np.percentile(mean_diffs, [2.5, 97.5])\n",
    "mean_conf"
   ]
  },
  {
   "cell_type": "code",
   "execution_count": 197,
   "metadata": {
    "scrolled": true
   },
   "outputs": [
    {
     "data": {
      "image/png": "[encoded data removed]",
      "text/plain": [
       "<Figure size 432x288 with 1 Axes>"
      ]
     },
     "metadata": {
      "needs_background": "light"
     },
     "output_type": "display_data"
    }
   ],
   "source": [
    "# plot a histogram of these values with the percentiles marked\n",
    "_ = plt.hist(mean_diffs, bins=30)\n",
    "_ = plt.axvline(x=mean_conf[0], color='orange', linewidth=2)\n",
    "_ = plt.axvline(x=mean_conf[1], color='orange', linewidth=2)\n",
    "_ = plt.xlabel('difference in female and male stop outcome averages')\n",
    "_ = plt.ylabel('frequency')\n",
    "_ = plt.title('Distribution of differences in female and male stop outcome averages')"
   ]
  },
  {
   "cell_type": "markdown",
   "metadata": {},
   "source": [
    "The results are similar, as the 95% confidence interval does not contain 0. However, as seen in the histogram above, the difference between groups is significant, but very small. "
   ]
  },
  {
   "cell_type": "markdown",
   "metadata": {},
   "source": [
    "### Machine learning models\n",
    "#### Logistic Regression\n",
    "\n",
    "My first attempt at modeling this data was made with a logistic regression model. In order to use this model, I first ensured that all of my categorical features were converted to dummy variables or hot encoded. I then split the data into features and labels, and subsequently into training and testing sets. The model was then allowed to learn on the training data, and I gathered performance results with the testing data. A classification report is shown for the model which includes accuracy, precision, recall, and f-1 score."
   ]
  },
  {
   "cell_type": "code",
   "execution_count": 99,
   "metadata": {},
   "outputs": [],
   "source": [
    "dummies = pd.get_dummies(data_final['police_department'])\n",
    "data_final = pd.concat([data_final, dummies], axis=1)\n",
    "\n",
    "dummies = pd.get_dummies(data_final['driver_race'])\n",
    "data_final = pd.concat([data_final, dummies], axis=1)\n",
    "\n",
    "dummies = pd.get_dummies(data_final['violation'])\n",
    "data_final = pd.concat([data_final, dummies], axis=1)\n",
    "\n",
    "#drop these variables as dummy variables for these variables has been created\n",
    "data_final = data_final.drop(['police_department', 'driver_race','violation'], axis=1)"
   ]
  },
  {
   "cell_type": "code",
   "execution_count": 101,
   "metadata": {},
   "outputs": [
    {
     "name": "stdout",
     "output_type": "stream",
     "text": [
      "0.6150218082353811\n"
     ]
    }
   ],
   "source": [
    "from sklearn.model_selection import train_test_split\n",
    "from sklearn.linear_model import LogisticRegression\n",
    "from sklearn.metrics import accuracy_score\n",
    "\n",
    "# split the data into features and labels \n",
    "data_log = data_final.copy()\n",
    "\n",
    "# Citation == 1\n",
    "data_log['stop_outcome'] = (data_log['stop_outcome'] == \"Citation\").astype(int)\n",
    "\n",
    "# convert stop_date to numeric\n",
    "data_log['stop_date'] = pd.to_numeric(data_log.stop_date)\n",
    "\n",
    "y = data_log['stop_outcome']\n",
    "X = data_log.drop('stop_outcome', 1)\n",
    "\n",
    "# Split the data into a training and test set.\n",
    "Xtrain, Xtest, ytrain, ytest = train_test_split(X.values, y, random_state=5)\n",
    "\n",
    "clf = LogisticRegression()\n",
    "\n",
    "# Fit the model on the trainng data.\n",
    "clf.fit(Xtrain, ytrain)\n",
    "\n",
    "# Print the accuracy from the testing data\n",
    "print(accuracy_score(clf.predict(Xtest), ytest))\n"
   ]
  },
  {
   "cell_type": "code",
   "execution_count": 112,
   "metadata": {},
   "outputs": [
    {
     "name": "stdout",
     "output_type": "stream",
     "text": [
      "              precision    recall  f1-score   support\n",
      "\n",
      "           0       0.62      1.00      0.76     41597\n",
      "           1       0.00      0.00      0.00     26038\n",
      "\n",
      "    accuracy                           0.62     67635\n",
      "   macro avg       0.31      0.50      0.38     67635\n",
      "weighted avg       0.38      0.62      0.47     67635\n",
      "\n"
     ]
    }
   ],
   "source": [
    "from sklearn.metrics import classification_report\n",
    "# pass y test and the predicted values \n",
    "ypred = clf.predict(Xtest)\n",
    "print(classification_report(ytest, ypred))"
   ]
  },
  {
   "cell_type": "markdown",
   "metadata": {},
   "source": [
    "While the accuracy is high, the large class imbalance in our target variable makes precision, recall, and f-1 score more important metrics of a good model. Thus, this model performs poorly. \n",
    "\n",
    "#### Feature Engineering I\n",
    "In an effort to improve the logistic regression model, I created a correlation matrix with the features to see if I could drop any highly correlated columns to reduce dimensionality. Any features that were less than 95% correlated were entered into a new dataframe for further model testing."
   ]
  },
  {
   "cell_type": "code",
   "execution_count": 135,
   "metadata": {},
   "outputs": [],
   "source": [
    "# Create correlation matrix\n",
    "corr_matrix = X.corr().abs()\n",
    "\n",
    "# Select upper triangle of correlation matrix\n",
    "upper = corr_matrix.where(np.triu(np.ones(corr_matrix.shape), k=1).astype(np.bool))\n",
    "\n",
    "# Find index of feature columns with correlation greater than 0.95\n",
    "to_drop = [column for column in upper.columns if any(upper[column] > 0.95)]"
   ]
  },
  {
   "cell_type": "code",
   "execution_count": 125,
   "metadata": {},
   "outputs": [],
   "source": [
    "data_drop = data_log.drop(['year',\n",
    " 'Asian',\n",
    " 'Black',\n",
    " 'Hispanic',\n",
    " 'Other',\n",
    " 'White',\n",
    " 'Externally Generated Stop',\n",
    " 'Investigatory Stop',\n",
    " 'Moving Violation',\n",
    " 'Suspicion of DWI',\n",
    " 'Vehicle Equipment',\n",
    " 'BRADFORD VSP',\n",
    " 'BRATTLEBORO VSP',\n",
    " 'DERBY VSP',\n",
    " 'MIDDLESEX VSP',\n",
    " 'NEW HAVEN VSP',\n",
    " 'ROCKINGHAM VSP',\n",
    " 'ROYALTON VSP',\n",
    " 'RUTLAND VSP',\n",
    " 'SHAFTSBURY VSP',\n",
    " 'ST ALBANS VSP',\n",
    " 'ST JOHNSBURY VSP',\n",
    " 'VSP HEADQUARTERS - FIELD FORCE',\n",
    " 'WILLISTON VSP',\n",
    " 'BRADFORD VSP',\n",
    " 'BRATTLEBORO VSP',\n",
    " 'DERBY VSP',\n",
    " 'MIDDLESEX VSP',\n",
    " 'NEW HAVEN VSP',\n",
    " 'ROCKINGHAM VSP',\n",
    " 'ROYALTON VSP',\n",
    " 'RUTLAND VSP',\n",
    " 'SHAFTSBURY VSP',\n",
    " 'ST ALBANS VSP',\n",
    " 'ST JOHNSBURY VSP',\n",
    " 'VSP HEADQUARTERS - FIELD FORCE',\n",
    " 'WILLISTON VSP',\n",
    " 'Asian',\n",
    " 'Black',\n",
    " 'Hispanic',\n",
    " 'Other',\n",
    " 'White',\n",
    " 'BRADFORD VSP',\n",
    " 'BRATTLEBORO VSP',\n",
    " 'DERBY VSP',\n",
    " 'MIDDLESEX VSP',\n",
    " 'NEW HAVEN VSP',\n",
    " 'ROCKINGHAM VSP',\n",
    " 'ROYALTON VSP',\n",
    " 'RUTLAND VSP',\n",
    " 'SHAFTSBURY VSP',\n",
    " 'ST ALBANS VSP',\n",
    " 'ST JOHNSBURY VSP',\n",
    " 'VSP HEADQUARTERS - FIELD FORCE',\n",
    " 'WILLISTON VSP',\n",
    " 'Asian',\n",
    " 'Black',\n",
    " 'Hispanic',\n",
    " 'Other',\n",
    " 'White',\n",
    " 'Externally Generated Stop',\n",
    " 'Investigatory Stop',\n",
    " 'Moving Violation',\n",
    " 'Suspicion of DWI',\n",
    " 'Vehicle Equipment',\n",
    " 'BRADFORD VSP',\n",
    " 'BRATTLEBORO VSP',\n",
    " 'DERBY VSP',\n",
    " 'MIDDLESEX VSP',\n",
    " 'NEW HAVEN VSP',\n",
    " 'ROCKINGHAM VSP',\n",
    " 'ROYALTON VSP',\n",
    " 'RUTLAND VSP',\n",
    " 'SHAFTSBURY VSP',\n",
    " 'ST ALBANS VSP',\n",
    " 'ST JOHNSBURY VSP',\n",
    " 'VSP HEADQUARTERS - FIELD FORCE',\n",
    " 'WILLISTON VSP',\n",
    " 'Asian',\n",
    " 'Black',\n",
    " 'Hispanic',\n",
    " 'Other',\n",
    " 'White',\n",
    " 'Externally Generated Stop',\n",
    " 'Investigatory Stop',\n",
    " 'Moving Violation',\n",
    " 'Suspicion of DWI',\n",
    " 'Vehicle Equipment'], axis=1)"
   ]
  },
  {
   "cell_type": "markdown",
   "metadata": {},
   "source": [
    "#### Logistic Regression II: reduced dataset\n",
    "\n",
    "Using the reduced dataset created above, I followed the same steps as above to create a new logistic regression model."
   ]
  },
  {
   "cell_type": "code",
   "execution_count": 223,
   "metadata": {},
   "outputs": [
    {
     "name": "stdout",
     "output_type": "stream",
     "text": [
      "0.6156132180084276\n"
     ]
    }
   ],
   "source": [
    "y = data_drop['stop_outcome']\n",
    "X = data_drop.drop('stop_outcome', 1)\n",
    "\n",
    "# Split the data into a training and test set.\n",
    "Xtrain, Xtest, ytrain, ytest = train_test_split(X.values, y, random_state=5)\n",
    "\n",
    "clf2 = LogisticRegression()\n",
    "\n",
    "# Fit the model on the trainng data.\n",
    "clf2.fit(Xtrain, ytrain)\n",
    "\n",
    "# Print the accuracy from the testing data\n",
    "print(accuracy_score(clf2.predict(Xtest), ytest))\n"
   ]
  },
  {
   "cell_type": "code",
   "execution_count": 141,
   "metadata": {
    "scrolled": true
   },
   "outputs": [
    {
     "name": "stdout",
     "output_type": "stream",
     "text": [
      "              precision    recall  f1-score   support\n",
      "\n",
      "           0       0.62      0.99      0.76     41597\n",
      "           1       0.52      0.02      0.05     26038\n",
      "\n",
      "    accuracy                           0.62     67635\n",
      "   macro avg       0.57      0.51      0.40     67635\n",
      "weighted avg       0.58      0.62      0.49     67635\n",
      "\n"
     ]
    }
   ],
   "source": [
    "ypred = clf2.predict(Xtest)\n",
    "print(classification_report(ytest, ypred))"
   ]
  },
  {
   "cell_type": "markdown",
   "metadata": {},
   "source": [
    "Though there is signficant improvement in precision (number of correct predictions for a given predicted class/ total number of predictions in same expected class), recall (number of correct predictions for given expected class / total number in expected class) still suffers with this model. Based on these results, I will continue to use the reduced dataset, but I will explore other models.\n",
    "\n",
    "#### Random Forest Classifier I: base model"
   ]
  },
  {
   "cell_type": "code",
   "execution_count": null,
   "metadata": {},
   "outputs": [],
   "source": [
    "# random forest , hyperparameter tuning, gradient boosting , use the smaller dataframe "
   ]
  },
  {
   "cell_type": "code",
   "execution_count": 169,
   "metadata": {},
   "outputs": [],
   "source": [
    "# Saving feature names for later use\n",
    "feature_list = list(X.columns)"
   ]
  },
  {
   "cell_type": "code",
   "execution_count": 224,
   "metadata": {},
   "outputs": [],
   "source": [
    "# Split the data into a training and test set.\n",
    "Xtrain, Xtest, ytrain, ytest= train_test_split(X, y, test_size = 0.25, random_state=5)"
   ]
  },
  {
   "cell_type": "code",
   "execution_count": 225,
   "metadata": {},
   "outputs": [
    {
     "data": {
      "text/plain": [
       "RandomForestClassifier(bootstrap=True, class_weight=None, criterion='gini',\n",
       "                       max_depth=None, max_features='auto', max_leaf_nodes=None,\n",
       "                       min_impurity_decrease=0.0, min_impurity_split=None,\n",
       "                       min_samples_leaf=1, min_samples_split=2,\n",
       "                       min_weight_fraction_leaf=0.0, n_estimators=10,\n",
       "                       n_jobs=None, oob_score=False, random_state=None,\n",
       "                       verbose=0, warm_start=False)"
      ]
     },
     "execution_count": 225,
     "metadata": {},
     "output_type": "execute_result"
    }
   ],
   "source": [
    "# random forest \n",
    "# going to use the mode of the individual decision trees because its classification\n",
    "from sklearn.ensemble import RandomForestClassifier\n",
    "rf = RandomForestClassifier()\n",
    "rf.fit(Xtrain, ytrain)"
   ]
  },
  {
   "cell_type": "code",
   "execution_count": 226,
   "metadata": {},
   "outputs": [
    {
     "name": "stdout",
     "output_type": "stream",
     "text": [
      "[[28442 13155]\n",
      " [16094  9944]]\n",
      "              precision    recall  f1-score   support\n",
      "\n",
      "           0       0.64      0.68      0.66     41597\n",
      "           1       0.43      0.38      0.40     26038\n",
      "\n",
      "    accuracy                           0.57     67635\n",
      "   macro avg       0.53      0.53      0.53     67635\n",
      "weighted avg       0.56      0.57      0.56     67635\n",
      "\n",
      "0.5675463887040734\n"
     ]
    }
   ],
   "source": [
    "ypred = rf.predict(Xtest)\n",
    "\n",
    "from sklearn.metrics import classification_report, confusion_matrix, accuracy_score\n",
    "\n",
    "print(confusion_matrix(ytest,ypred))\n",
    "print(classification_report(ytest,ypred))\n",
    "print(accuracy_score(ytest, ypred))"
   ]
  },
  {
   "cell_type": "markdown",
   "metadata": {},
   "source": [
    "Precision, recall, and f1-score greatly improved with this model, but the accuracy could be better. \n",
    "\n",
    "#### Feature Engineering II\n",
    "In an effort to improve accuracy, I extracted a list of the features and their corresponding importances in the model and then dropped driver_gender and search_type due to low signficances.\n",
    "\n",
    "#### Random Forest Classifier II : important features only\n",
    "A second random forest classifier is trained and testing using only age, stop time, month, and weekday."
   ]
  },
  {
   "cell_type": "code",
   "execution_count": 216,
   "metadata": {
    "scrolled": true
   },
   "outputs": [
    {
     "name": "stdout",
     "output_type": "stream",
     "text": [
      "Variable: driver_age           Importance: 0.43\n",
      "Variable: stop_time            Importance: 0.26\n",
      "Variable: month                Importance: 0.17\n",
      "Variable: weekday              Importance: 0.13\n",
      "Variable: driver_gender        Importance: 0.01\n",
      "Variable: search_type          Importance: 0.01\n"
     ]
    }
   ],
   "source": [
    "# Get numerical feature importances\n",
    "importances = list(rf.feature_importances_)\n",
    "\n",
    "# List of tuples with variable and importance\n",
    "feature_importances = [(feature, round(importance, 2)) for feature, importance in zip(feature_list, importances)]\n",
    "# Sort the feature importances by most important first\n",
    "feature_importances = sorted(feature_importances, key = lambda x: x[1], reverse = True)\n",
    "# Print out the feature and importances \n",
    "[print('Variable: {:20} Importance: {}'.format(*pair)) for pair in feature_importances];"
   ]
  },
  {
   "cell_type": "code",
   "execution_count": 217,
   "metadata": {},
   "outputs": [],
   "source": [
    "# data frame with only the top 4 features\n",
    "df_rf = data_drop.drop(['driver_gender', 'search_type'], axis=1)"
   ]
  },
  {
   "cell_type": "code",
   "execution_count": 218,
   "metadata": {},
   "outputs": [],
   "source": [
    "# new features and labels\n",
    "y_imp = df_rf['stop_outcome']\n",
    "X_imp = df_rf.drop('stop_outcome', axis=1)\n",
    "\n",
    "# Split the data into a training and test set.\n",
    "Xtrain_imp, Xtest_imp, ytrain_imp, ytest_imp = train_test_split(X_imp.values, y_imp, random_state=42)"
   ]
  },
  {
   "cell_type": "code",
   "execution_count": 219,
   "metadata": {},
   "outputs": [],
   "source": [
    "# New random forest with only the four most important variables\n",
    "rf_most_important = RandomForestClassifier(random_state=42)"
   ]
  },
  {
   "cell_type": "code",
   "execution_count": 220,
   "metadata": {},
   "outputs": [
    {
     "name": "stdout",
     "output_type": "stream",
     "text": [
      "[[28376 13346]\n",
      " [16100  9813]]\n",
      "              precision    recall  f1-score   support\n",
      "\n",
      "           0       0.64      0.68      0.66     41722\n",
      "           1       0.42      0.38      0.40     25913\n",
      "\n",
      "    accuracy                           0.56     67635\n",
      "   macro avg       0.53      0.53      0.53     67635\n",
      "weighted avg       0.56      0.56      0.56     67635\n",
      "\n",
      "0.5646336955718193\n"
     ]
    }
   ],
   "source": [
    "# Train the random forest\n",
    "rf_most_important.fit(Xtrain_imp, ytrain_imp)\n",
    "\n",
    "\n",
    "ypred_imp = rf_most_important.predict(Xtest_imp)\n",
    "\n",
    "\n",
    "print(confusion_matrix(ytest_imp,ypred_imp))\n",
    "print(classification_report(ytest_imp,ypred_imp))\n",
    "print(accuracy_score(ytest_imp, ypred_imp))"
   ]
  },
  {
   "cell_type": "markdown",
   "metadata": {},
   "source": [
    "We see that the changes did not help, as the classifier is actually less accurate now after deletion of those features. \n",
    "\n",
    "#### Hyperparameter tuning with random forest classifier\n",
    "Since the deletion of those two features did not improve the model, I have added them back in before performing hyperparameter tuning of the rf classifier. To do this, I used randomized search with a grid of values for 'n_estimators', 'max_features', 'max_depth', 'min_samples_split', 'min_samples_leaf', and 'bootstrap' centered around the base classifier model parameters. I performed 100 iterations with a 3 fold cross validation loop to find the best values for these parameters."
   ]
  },
  {
   "cell_type": "code",
   "execution_count": 227,
   "metadata": {},
   "outputs": [
    {
     "name": "stdout",
     "output_type": "stream",
     "text": [
      "{'bootstrap': True,\n",
      " 'class_weight': None,\n",
      " 'criterion': 'gini',\n",
      " 'max_depth': None,\n",
      " 'max_features': 'auto',\n",
      " 'max_leaf_nodes': None,\n",
      " 'min_impurity_decrease': 0.0,\n",
      " 'min_impurity_split': None,\n",
      " 'min_samples_leaf': 1,\n",
      " 'min_samples_split': 2,\n",
      " 'min_weight_fraction_leaf': 0.0,\n",
      " 'n_estimators': 10,\n",
      " 'n_jobs': None,\n",
      " 'oob_score': False,\n",
      " 'random_state': None,\n",
      " 'verbose': 0,\n",
      " 'warm_start': False}\n"
     ]
    }
   ],
   "source": [
    "# hyper parameter tuning rf \n",
    "# look at the parameters being used right now \n",
    "from pprint import pprint\n",
    "pprint(rf.get_params())"
   ]
  },
  {
   "cell_type": "code",
   "execution_count": 230,
   "metadata": {},
   "outputs": [
    {
     "name": "stdout",
     "output_type": "stream",
     "text": [
      "{'bootstrap': [True, False],\n",
      " 'max_depth': [10, 20, 30, 40, 50, 60, 70, 80, 90, 100, 110, None],\n",
      " 'max_features': ['auto', 'sqrt'],\n",
      " 'min_samples_leaf': [1, 2, 4],\n",
      " 'min_samples_split': [2, 5, 10],\n",
      " 'n_estimators': [200, 288, 377, 466, 555, 644, 733, 822, 911, 1000]}\n"
     ]
    }
   ],
   "source": [
    "from sklearn.model_selection import RandomizedSearchCV\n",
    "\n",
    "# tune number of trees in random forest\n",
    "n_estimators = [int(x) for x in np.linspace(start = 200, stop = 1000, num = 10)]\n",
    "\n",
    "# Number of features to consider at every split\n",
    "max_features = ['auto', 'sqrt']\n",
    "\n",
    "# Maximum number of levels in tree\n",
    "max_depth = [int(x) for x in np.linspace(10, 110, num = 11)]\n",
    "max_depth.append(None)\n",
    "\n",
    "# Minimum number of samples required to split a node\n",
    "min_samples_split = [2, 5, 10]\n",
    "\n",
    "# Minimum number of samples required at each leaf node\n",
    "min_samples_leaf = [1, 2, 4]\n",
    "\n",
    "# Method of selecting samples for training each tree\n",
    "bootstrap = [True, False]\n",
    "\n",
    "# Create the random grid\n",
    "random_grid = {'n_estimators': n_estimators,\n",
    "               'max_features': max_features,\n",
    "               'max_depth': max_depth,\n",
    "               'min_samples_split': min_samples_split,\n",
    "               'min_samples_leaf': min_samples_leaf,\n",
    "               'bootstrap': bootstrap}\n",
    "pprint(random_grid)"
   ]
  },
  {
   "cell_type": "code",
   "execution_count": 231,
   "metadata": {},
   "outputs": [
    {
     "name": "stdout",
     "output_type": "stream",
     "text": [
      "Fitting 3 folds for each of 100 candidates, totalling 300 fits\n"
     ]
    },
    {
     "name": "stderr",
     "output_type": "stream",
     "text": [
      "[Parallel(n_jobs=-1)]: Using backend LokyBackend with 4 concurrent workers.\n",
      "[Parallel(n_jobs=-1)]: Done  33 tasks      | elapsed: 26.0min\n",
      "[Parallel(n_jobs=-1)]: Done 154 tasks      | elapsed: 131.8min\n",
      "[Parallel(n_jobs=-1)]: Done 300 out of 300 | elapsed: 247.5min finished\n"
     ]
    },
    {
     "data": {
      "text/plain": [
       "RandomizedSearchCV(cv=3, error_score='raise-deprecating',\n",
       "                   estimator=RandomForestClassifier(bootstrap=True,\n",
       "                                                    class_weight=None,\n",
       "                                                    criterion='gini',\n",
       "                                                    max_depth=None,\n",
       "                                                    max_features='auto',\n",
       "                                                    max_leaf_nodes=None,\n",
       "                                                    min_impurity_decrease=0.0,\n",
       "                                                    min_impurity_split=None,\n",
       "                                                    min_samples_leaf=1,\n",
       "                                                    min_samples_split=2,\n",
       "                                                    min_weight_fraction_leaf=0.0,\n",
       "                                                    n_estimators='warn',\n",
       "                                                    n_jobs=None,\n",
       "                                                    oob_sc...\n",
       "                   iid='warn', n_iter=100, n_jobs=-1,\n",
       "                   param_distributions={'bootstrap': [True, False],\n",
       "                                        'max_depth': [10, 20, 30, 40, 50, 60,\n",
       "                                                      70, 80, 90, 100, 110,\n",
       "                                                      None],\n",
       "                                        'max_features': ['auto', 'sqrt'],\n",
       "                                        'min_samples_leaf': [1, 2, 4],\n",
       "                                        'min_samples_split': [2, 5, 10],\n",
       "                                        'n_estimators': [200, 288, 377, 466,\n",
       "                                                         555, 644, 733, 822,\n",
       "                                                         911, 1000]},\n",
       "                   pre_dispatch='2*n_jobs', random_state=42, refit=True,\n",
       "                   return_train_score=False, scoring=None, verbose=2)"
      ]
     },
     "execution_count": 231,
     "metadata": {},
     "output_type": "execute_result"
    }
   ],
   "source": [
    "# Use the random grid to search for best hyperparameters\n",
    "# First create the base model to tune\n",
    "rf = RandomForestClassifier()\n",
    "\n",
    "# Random search of parameters, using 3 fold cross validation, \n",
    "# search across 100 different combinations, and use all available cores\n",
    "rf_random = RandomizedSearchCV(estimator = rf, param_distributions = random_grid, n_iter = 100, cv = 3, verbose=2, random_state=42, n_jobs = -1)\n",
    "\n",
    "# Fit the random search model\n",
    "rf_random.fit(Xtrain, ytrain)"
   ]
  },
  {
   "cell_type": "code",
   "execution_count": 232,
   "metadata": {
    "scrolled": true
   },
   "outputs": [
    {
     "data": {
      "text/plain": [
       "{'n_estimators': 200,\n",
       " 'min_samples_split': 5,\n",
       " 'min_samples_leaf': 4,\n",
       " 'max_features': 'auto',\n",
       " 'max_depth': 10,\n",
       " 'bootstrap': True}"
      ]
     },
     "execution_count": 232,
     "metadata": {},
     "output_type": "execute_result"
    }
   ],
   "source": [
    "rf_random.best_params_"
   ]
  },
  {
   "cell_type": "markdown",
   "metadata": {},
   "source": [
    "#### Random Forest Classifier III: best parameters\n",
    "The best parameters found from the randomized search are used in a random forest classifier and the results are compared to a base model and displayed below."
   ]
  },
  {
   "cell_type": "code",
   "execution_count": 233,
   "metadata": {},
   "outputs": [
    {
     "name": "stdout",
     "output_type": "stream",
     "text": [
      "Model Performance\n",
      "Average Error: 0.4340 degrees.\n",
      "Accuracy = -inf%.\n"
     ]
    }
   ],
   "source": [
    "base_model = RandomForestClassifier(n_estimators = 10, random_state = 42)\n",
    "base_model.fit(Xtrain, ytrain)"
   ]
  },
  {
   "cell_type": "code",
   "execution_count": 235,
   "metadata": {},
   "outputs": [
    {
     "name": "stdout",
     "output_type": "stream",
     "text": [
      "Model Performance\n",
      "Average Error: 0.3785 degrees.\n",
      "Accuracy = -inf%.\n"
     ]
    }
   ],
   "source": [
    "best_random = rf_random.best_estimator_"
   ]
  },
  {
   "cell_type": "code",
   "execution_count": 238,
   "metadata": {},
   "outputs": [
    {
     "name": "stdout",
     "output_type": "stream",
     "text": [
      "Classification report for best model\n",
      "              precision    recall  f1-score   support\n",
      "\n",
      "           0       0.62      0.97      0.76     41597\n",
      "           1       0.57      0.07      0.12     26038\n",
      "\n",
      "    accuracy                           0.62     67635\n",
      "   macro avg       0.60      0.52      0.44     67635\n",
      "weighted avg       0.60      0.62      0.51     67635\n",
      "\n"
     ]
    }
   ],
   "source": [
    "print('Classification report for best model')\n",
    "print(classification_report(ytest,best_random.predict(Xtest)))\n"
   ]
  },
  {
   "cell_type": "code",
   "execution_count": 239,
   "metadata": {
    "scrolled": true
   },
   "outputs": [
    {
     "name": "stdout",
     "output_type": "stream",
     "text": [
      "Classification report for base model\n",
      "              precision    recall  f1-score   support\n",
      "\n",
      "           0       0.64      0.68      0.66     41597\n",
      "           1       0.43      0.38      0.40     26038\n",
      "\n",
      "    accuracy                           0.57     67635\n",
      "   macro avg       0.53      0.53      0.53     67635\n",
      "weighted avg       0.56      0.57      0.56     67635\n",
      "\n"
     ]
    }
   ],
   "source": [
    "print('Classification report for base model')\n",
    "print(classification_report(ytest,base_model.predict(Xtest)))"
   ]
  },
  {
   "cell_type": "markdown",
   "metadata": {},
   "source": [
    "Though the accuracy improved for the \"better\" model, the base model maintained better values for more important metrics such as precision, recall, and f1-score.\n",
    "\n",
    "#### Hyperparameter tuning II: grid search \n",
    "A second attempt at finding the best parameters was made with a grid search. The parameter grid values were set based on the results of the best estimator from the random search. \n",
    "\n",
    "#### Random forest classifier IV: grid search parameters\n",
    "The resulting best parameters are fed into a random forest classifier, and the results are displayed below."
   ]
  },
  {
   "cell_type": "code",
   "execution_count": 240,
   "metadata": {},
   "outputs": [],
   "source": [
    "from sklearn.model_selection import GridSearchCV\n",
    "\n",
    "# Create the parameter grid based on the results of random search \n",
    "param_grid = {\n",
    "    'bootstrap': [True],\n",
    "    'max_depth': [5, 10, 15],\n",
    "    'max_features': [2, 3],\n",
    "    'min_samples_leaf': [3, 4, 5],\n",
    "    'min_samples_split': [3, 5, 7],\n",
    "    'n_estimators': [50, 100, 200, 1000]\n",
    "}\n",
    "# Create a based model\n",
    "rf = RandomForestClassifier()\n",
    "# Instantiate the grid search model\n",
    "grid_search = GridSearchCV(estimator = rf, param_grid = param_grid, \n",
    "                          cv = 3, n_jobs = -1, verbose = 2)"
   ]
  },
  {
   "cell_type": "code",
   "execution_count": 241,
   "metadata": {
    "scrolled": true
   },
   "outputs": [
    {
     "name": "stdout",
     "output_type": "stream",
     "text": [
      "Fitting 3 folds for each of 216 candidates, totalling 648 fits\n"
     ]
    },
    {
     "name": "stderr",
     "output_type": "stream",
     "text": [
      "[Parallel(n_jobs=-1)]: Using backend LokyBackend with 4 concurrent workers.\n",
      "[Parallel(n_jobs=-1)]: Done  33 tasks      | elapsed:  5.6min\n",
      "[Parallel(n_jobs=-1)]: Done 154 tasks      | elapsed: 28.7min\n",
      "[Parallel(n_jobs=-1)]: Done 357 tasks      | elapsed: 81.3min\n",
      "[Parallel(n_jobs=-1)]: Done 640 tasks      | elapsed: 180.5min\n",
      "[Parallel(n_jobs=-1)]: Done 648 out of 648 | elapsed: 184.7min finished\n"
     ]
    },
    {
     "data": {
      "text/plain": [
       "{'bootstrap': True,\n",
       " 'max_depth': 10,\n",
       " 'max_features': 3,\n",
       " 'min_samples_leaf': 5,\n",
       " 'min_samples_split': 3,\n",
       " 'n_estimators': 50}"
      ]
     },
     "execution_count": 241,
     "metadata": {},
     "output_type": "execute_result"
    }
   ],
   "source": [
    "# Fit the grid search to the data\n",
    "grid_search.fit(Xtrain, ytrain)\n",
    "grid_search.best_params_"
   ]
  },
  {
   "cell_type": "code",
   "execution_count": 242,
   "metadata": {},
   "outputs": [
    {
     "name": "stdout",
     "output_type": "stream",
     "text": [
      "Model Performance\n",
      "Average Error: 0.3777 degrees.\n",
      "Accuracy = -inf%.\n"
     ]
    }
   ],
   "source": [
    "best_grid = grid_search.best_estimator_"
   ]
  },
  {
   "cell_type": "code",
   "execution_count": 243,
   "metadata": {},
   "outputs": [
    {
     "name": "stdout",
     "output_type": "stream",
     "text": [
      "Classification report for Grid Search model\n",
      "              precision    recall  f1-score   support\n",
      "\n",
      "           0       0.63      0.95      0.76     41597\n",
      "           1       0.55      0.10      0.17     26038\n",
      "\n",
      "    accuracy                           0.62     67635\n",
      "   macro avg       0.59      0.52      0.46     67635\n",
      "weighted avg       0.60      0.62      0.53     67635\n",
      "\n",
      "Grid Search Model Accuracy\n",
      "0.6223257189325053\n"
     ]
    }
   ],
   "source": [
    "print('Classification report for Grid Search model')\n",
    "print(classification_report(ytest,best_grid.predict(Xtest)))\n",
    "print('Grid Search Model Accuracy')\n",
    "print(accuracy_score(ytest, best_grid.predict(Xtest)))"
   ]
  },
  {
   "cell_type": "markdown",
   "metadata": {},
   "source": [
    "Precision goes up, but recall and f1 are still too low.\n",
    "\n",
    "#### Gradient Boosting Classifier\n",
    "Before training this model on the data, the features were scaled. Seven different classifiers were trained and tested on training and validation data, with each classifier's learning rate parameter set to a unique value. The accuracy scores and corresponding learning rate values are displayed below."
   ]
  },
  {
   "cell_type": "code",
   "execution_count": 244,
   "metadata": {},
   "outputs": [],
   "source": [
    "# gradient boosting\n",
    "import pandas as pd\n",
    "from sklearn.preprocessing import MinMaxScaler\n",
    "from sklearn.model_selection import train_test_split\n",
    "from sklearn.metrics import classification_report, confusion_matrix\n",
    "from sklearn.ensemble import GradientBoostingClassifier"
   ]
  },
  {
   "cell_type": "code",
   "execution_count": 245,
   "metadata": {},
   "outputs": [],
   "source": [
    "scaler = MinMaxScaler()\n",
    "X_train = scaler.fit_transform(Xtrain)\n",
    "X_test = scaler.transform(Xtest)"
   ]
  },
  {
   "cell_type": "code",
   "execution_count": 248,
   "metadata": {},
   "outputs": [
    {
     "name": "stdout",
     "output_type": "stream",
     "text": [
      "Learning rate:  0.05\n",
      "Accuracy score (training): 0.618\n",
      "Accuracy score (validation): 0.615\n",
      "Learning rate:  0.075\n",
      "Accuracy score (training): 0.620\n",
      "Accuracy score (validation): 0.617\n",
      "Learning rate:  0.1\n",
      "Accuracy score (training): 0.620\n",
      "Accuracy score (validation): 0.618\n",
      "Learning rate:  0.25\n",
      "Accuracy score (training): 0.620\n",
      "Accuracy score (validation): 0.618\n",
      "Learning rate:  0.5\n",
      "Accuracy score (training): 0.623\n",
      "Accuracy score (validation): 0.621\n",
      "Learning rate:  0.75\n",
      "Accuracy score (training): 0.622\n",
      "Accuracy score (validation): 0.621\n",
      "Learning rate:  1\n",
      "Accuracy score (training): 0.623\n",
      "Accuracy score (validation): 0.620\n"
     ]
    }
   ],
   "source": [
    "lr_list = [0.05, 0.075, 0.1, 0.25, 0.5, 0.75, 1]\n",
    "\n",
    "for learning_rate in lr_list:\n",
    "    gb_clf = GradientBoostingClassifier(n_estimators=20, learning_rate=learning_rate, max_features=2, max_depth=2, random_state=0)\n",
    "    gb_clf.fit(X_train, ytrain)\n",
    "\n",
    "    print(\"Learning rate: \", learning_rate)\n",
    "    print(\"Accuracy score (training): {0:.3f}\".format(gb_clf.score(X_train, ytrain)))\n",
    "    print(\"Accuracy score (validation): {0:.3f}\".format(gb_clf.score(X_test, ytest)))"
   ]
  },
  {
   "cell_type": "markdown",
   "metadata": {},
   "source": [
    "Because learning rate of 0.5 lends the highest accuracy scores on both training and validation sets, this value is fed into the gradient boosting classifier."
   ]
  },
  {
   "cell_type": "code",
   "execution_count": 249,
   "metadata": {},
   "outputs": [
    {
     "name": "stdout",
     "output_type": "stream",
     "text": [
      "Confusion Matrix:\n",
      "[[39075  2522]\n",
      " [23113  2925]]\n",
      "Classification Report\n",
      "              precision    recall  f1-score   support\n",
      "\n",
      "           0       0.63      0.94      0.75     41597\n",
      "           1       0.54      0.11      0.19     26038\n",
      "\n",
      "    accuracy                           0.62     67635\n",
      "   macro avg       0.58      0.53      0.47     67635\n",
      "weighted avg       0.59      0.62      0.53     67635\n",
      "\n"
     ]
    }
   ],
   "source": [
    "gb_clf2 = GradientBoostingClassifier(n_estimators=20, learning_rate=0.5, max_features=2, max_depth=2, random_state=0)\n",
    "gb_clf2.fit(X_train, ytrain)\n",
    "predictions = gb_clf2.predict(X_test)\n",
    "\n",
    "print(\"Confusion Matrix:\")\n",
    "print(confusion_matrix(ytest, predictions))\n",
    "\n",
    "print(\"Classification Report\")\n",
    "print(classification_report(ytest, predictions))"
   ]
  },
  {
   "cell_type": "markdown",
   "metadata": {},
   "source": [
    "The precision is good again, but recall and f1-score still need work."
   ]
  },
  {
   "cell_type": "markdown",
   "metadata": {},
   "source": [
    "### Feature Engineering III\n",
    "***Trying models without the dummy variables***\n",
    "\n",
    "Since none of my previous attempts at optimizing the models resulted in satisfying outcomes, I am rerunning the best performing model, random forest, without dummy variables. \n",
    "\n",
    "To do this, I created a new dataframe with all the categorical variables back intack. I then used a label encoder to convert all of the categorical columns into integers."
   ]
  },
  {
   "cell_type": "code",
   "execution_count": 25,
   "metadata": {},
   "outputs": [],
   "source": [
    "# need to perform label encoding on the categorical columns \n",
    "\n",
    "# Categorical boolean mask\n",
    "categorical_feature_mask = df_nodummy.dtypes == object\n",
    "# filter categorical columns using mask and turn it into a list\n",
    "categorical_cols = df_nodummy.columns[categorical_feature_mask].tolist()"
   ]
  },
  {
   "cell_type": "code",
   "execution_count": 26,
   "metadata": {},
   "outputs": [],
   "source": [
    "# import labelencoder\n",
    "from sklearn.preprocessing import LabelEncoder\n",
    "\n",
    "# instantiate labelencoder object\n",
    "le = LabelEncoder()"
   ]
  },
  {
   "cell_type": "code",
   "execution_count": 27,
   "metadata": {
    "scrolled": true
   },
   "outputs": [
    {
     "data": {
      "text/html": [
       "<div>\n",
       "<style scoped>\n",
       "    .dataframe tbody tr th:only-of-type {\n",
       "        vertical-align: middle;\n",
       "    }\n",
       "\n",
       "    .dataframe tbody tr th {\n",
       "        vertical-align: top;\n",
       "    }\n",
       "\n",
       "    .dataframe thead th {\n",
       "        text-align: right;\n",
       "    }\n",
       "</style>\n",
       "<table border=\"1\" class=\"dataframe\">\n",
       "  <thead>\n",
       "    <tr style=\"text-align: right;\">\n",
       "      <th></th>\n",
       "      <th>police_department</th>\n",
       "      <th>driver_gender</th>\n",
       "      <th>driver_race</th>\n",
       "      <th>violation</th>\n",
       "      <th>stop_outcome</th>\n",
       "    </tr>\n",
       "  </thead>\n",
       "  <tbody>\n",
       "    <tr>\n",
       "      <th>0</th>\n",
       "      <td>3</td>\n",
       "      <td>1</td>\n",
       "      <td>4</td>\n",
       "      <td>2</td>\n",
       "      <td>0</td>\n",
       "    </tr>\n",
       "    <tr>\n",
       "      <th>4</th>\n",
       "      <td>6</td>\n",
       "      <td>1</td>\n",
       "      <td>4</td>\n",
       "      <td>2</td>\n",
       "      <td>1</td>\n",
       "    </tr>\n",
       "    <tr>\n",
       "      <th>5</th>\n",
       "      <td>6</td>\n",
       "      <td>0</td>\n",
       "      <td>4</td>\n",
       "      <td>4</td>\n",
       "      <td>1</td>\n",
       "    </tr>\n",
       "    <tr>\n",
       "      <th>6</th>\n",
       "      <td>10</td>\n",
       "      <td>1</td>\n",
       "      <td>4</td>\n",
       "      <td>2</td>\n",
       "      <td>0</td>\n",
       "    </tr>\n",
       "    <tr>\n",
       "      <th>7</th>\n",
       "      <td>10</td>\n",
       "      <td>1</td>\n",
       "      <td>4</td>\n",
       "      <td>2</td>\n",
       "      <td>1</td>\n",
       "    </tr>\n",
       "    <tr>\n",
       "      <th>8</th>\n",
       "      <td>5</td>\n",
       "      <td>1</td>\n",
       "      <td>1</td>\n",
       "      <td>2</td>\n",
       "      <td>1</td>\n",
       "    </tr>\n",
       "    <tr>\n",
       "      <th>9</th>\n",
       "      <td>7</td>\n",
       "      <td>1</td>\n",
       "      <td>4</td>\n",
       "      <td>2</td>\n",
       "      <td>1</td>\n",
       "    </tr>\n",
       "    <tr>\n",
       "      <th>10</th>\n",
       "      <td>10</td>\n",
       "      <td>1</td>\n",
       "      <td>4</td>\n",
       "      <td>2</td>\n",
       "      <td>0</td>\n",
       "    </tr>\n",
       "    <tr>\n",
       "      <th>12</th>\n",
       "      <td>11</td>\n",
       "      <td>1</td>\n",
       "      <td>4</td>\n",
       "      <td>2</td>\n",
       "      <td>0</td>\n",
       "    </tr>\n",
       "    <tr>\n",
       "      <th>13</th>\n",
       "      <td>11</td>\n",
       "      <td>1</td>\n",
       "      <td>4</td>\n",
       "      <td>2</td>\n",
       "      <td>0</td>\n",
       "    </tr>\n",
       "  </tbody>\n",
       "</table>\n",
       "</div>"
      ],
      "text/plain": [
       "    police_department  driver_gender  driver_race  violation  stop_outcome\n",
       "0                   3              1            4          2             0\n",
       "4                   6              1            4          2             1\n",
       "5                   6              0            4          4             1\n",
       "6                  10              1            4          2             0\n",
       "7                  10              1            4          2             1\n",
       "8                   5              1            1          2             1\n",
       "9                   7              1            4          2             1\n",
       "10                 10              1            4          2             0\n",
       "12                 11              1            4          2             0\n",
       "13                 11              1            4          2             0"
      ]
     },
     "execution_count": 27,
     "metadata": {},
     "output_type": "execute_result"
    }
   ],
   "source": [
    "# apply le on categorical feature columns\n",
    "df_nodummy[categorical_cols] = df_nodummy[categorical_cols].apply(lambda col: le.fit_transform(col))\n",
    "df_nodummy[categorical_cols].head(10)"
   ]
  },
  {
   "cell_type": "code",
   "execution_count": 28,
   "metadata": {},
   "outputs": [],
   "source": [
    "# take stop_date out since we split into other categoricals (weekday, month, year)\n",
    "df_nodummy = df_nodummy.drop('stop_date',1)"
   ]
  },
  {
   "cell_type": "markdown",
   "metadata": {},
   "source": [
    "#### Random forest classifier V: no dummy variables"
   ]
  },
  {
   "cell_type": "code",
   "execution_count": 29,
   "metadata": {},
   "outputs": [],
   "source": [
    "# ready to start the random tree classifier\n",
    "y = df_nodummy['stop_outcome']  # Labels\n",
    "X = df_nodummy.drop('stop_outcome', 1)  # Features"
   ]
  },
  {
   "cell_type": "code",
   "execution_count": 30,
   "metadata": {},
   "outputs": [],
   "source": [
    "# Split dataset into training set and test set\n",
    "from sklearn.model_selection import train_test_split\n",
    "\n",
    "X_train, X_test, y_train, y_test = train_test_split(X, y, test_size=0.3) # 70% training and 30% test"
   ]
  },
  {
   "cell_type": "code",
   "execution_count": 31,
   "metadata": {},
   "outputs": [],
   "source": [
    "#Import Random Forest Model\n",
    "from sklearn.ensemble import RandomForestClassifier\n",
    "\n",
    "#Create a random forest Classifier\n",
    "clf = RandomForestClassifier(n_estimators=100)\n",
    "\n",
    "# Train the model using the training sets y_pred=clf.predict(X_test)\n",
    "clf.fit(X_train, y_train)\n",
    "\n",
    "y_pred = clf.predict(X_test)"
   ]
  },
  {
   "cell_type": "code",
   "execution_count": 53,
   "metadata": {},
   "outputs": [
    {
     "name": "stdout",
     "output_type": "stream",
     "text": [
      "Accuracy: 0.656292353564476\n"
     ]
    }
   ],
   "source": [
    "#Import scikit-learn metrics module for accuracy calculation\n",
    "from sklearn import metrics\n",
    "# Model Accuracy, how often is the classifier correct?\n",
    "print(\"Accuracy:\",metrics.accuracy_score(y_test, y_pred))"
   ]
  },
  {
   "cell_type": "code",
   "execution_count": 62,
   "metadata": {
    "scrolled": false
   },
   "outputs": [
    {
     "name": "stdout",
     "output_type": "stream",
     "text": [
      "              precision    recall  f1-score   support\n",
      "\n",
      "           0       0.56      0.47      0.51     31135\n",
      "           1       0.70      0.77      0.74     50027\n",
      "\n",
      "    accuracy                           0.66     81162\n",
      "   macro avg       0.63      0.62      0.62     81162\n",
      "weighted avg       0.65      0.66      0.65     81162\n",
      "\n"
     ]
    }
   ],
   "source": [
    "from sklearn.metrics import classification_report\n",
    "# pass y test and the predicted values \n",
    "ypred = clf.predict(X_test)\n",
    "print(classification_report(y_test, ypred))"
   ]
  },
  {
   "cell_type": "markdown",
   "metadata": {},
   "source": [
    "This is the best performing model, with a good accuracy rate, and decent values for important metrics across the board. To visualize the models performace, and roc curve is displayed below."
   ]
  },
  {
   "cell_type": "code",
   "execution_count": 70,
   "metadata": {},
   "outputs": [],
   "source": [
    "# Compute ROC curve and ROC area for each class\n",
    "from sklearn.metrics import roc_curve, auc\n",
    "\n",
    "# calculate roc curve\n",
    "fpr, tpr, thresholds = roc_curve(y_test, ypred)"
   ]
  },
  {
   "cell_type": "code",
   "execution_count": 72,
   "metadata": {},
   "outputs": [
    {
     "name": "stdout",
     "output_type": "stream",
     "text": [
      "AUC: 0.620\n"
     ]
    }
   ],
   "source": [
    "# calculate AUC\n",
    "auc = roc_auc_score(y_test, ypred)\n",
    "print('AUC: %.3f' % auc)"
   ]
  },
  {
   "cell_type": "code",
   "execution_count": 75,
   "metadata": {
    "scrolled": false
   },
   "outputs": [
    {
     "name": "stdout",
     "output_type": "stream",
     "text": [
      "No Skill: ROC AUC=0.500\n",
      "Logistic: ROC AUC=0.688\n"
     ]
    },
    {
     "data": {
      "image/png": "[encoded data removed]",
      "text/plain": [
       "<Figure size 432x288 with 1 Axes>"
      ]
     },
     "metadata": {
      "needs_background": "light"
     },
     "output_type": "display_data"
    }
   ],
   "source": [
    "# roc curve and auc\n",
    "from sklearn.datasets import make_classification\n",
    "from sklearn.linear_model import LogisticRegression\n",
    "from sklearn.model_selection import train_test_split\n",
    "from sklearn.metrics import roc_curve\n",
    "from sklearn.metrics import roc_auc_score\n",
    "from matplotlib import pyplot\n",
    "\n",
    "# generate a no ticket prediction (majority class)\n",
    "ns_probs = [0 for _ in range(len(y_test))]\n",
    "\n",
    "# predict probabilities\n",
    "lr_probs = clf.predict_proba(X_test)\n",
    "# keep probabilities for the positive outcome (ticket) only\n",
    "lr_probs = lr_probs[:, 1]\n",
    "# calculate scores\n",
    "ns_auc = roc_auc_score(y_test, ns_probs)\n",
    "lr_auc = roc_auc_score(y_test, lr_probs)\n",
    "# summarize scores\n",
    "print('No Skill: ROC AUC=%.3f' % (ns_auc))\n",
    "print('Logistic: ROC AUC=%.3f' % (lr_auc))\n",
    "# calculate roc curves\n",
    "ns_fpr, ns_tpr, _ = roc_curve(y_test, ns_probs)\n",
    "lr_fpr, lr_tpr, _ = roc_curve(y_test, lr_probs)\n",
    "# plot the roc curve for the model\n",
    "pyplot.plot(ns_fpr, ns_tpr, linestyle='--', label='No ticket')\n",
    "pyplot.plot(lr_fpr, lr_tpr, marker='.', label='Random Forest')\n",
    "# axis labels\n",
    "pyplot.xlabel('False Positive Rate')\n",
    "pyplot.ylabel('True Positive Rate')\n",
    "# show the legend\n",
    "pyplot.legend()\n",
    "# show the plot\n",
    "pyplot.show()"
   ]
  },
  {
   "cell_type": "markdown",
   "metadata": {},
   "source": [
    "As a final effort to improve scores, I toggled the 'class_weight' attribute in the random forest classifier between balanced and balanced_subsample"
   ]
  },
  {
   "cell_type": "code",
   "execution_count": 36,
   "metadata": {},
   "outputs": [],
   "source": [
    "# class_weight = \"balanced\"\n",
    "#Create a random forest Classifier\n",
    "clf_balanced = RandomForestClassifier(n_estimators=100, class_weight=\"balanced\")\n",
    "\n",
    "# Train the model using the training sets y_pred=clf.predict(X_test)\n",
    "clf_balanced.fit(X_train, y_train)\n",
    "\n",
    "y_pred = clf_balanced.predict(X_test)"
   ]
  },
  {
   "cell_type": "code",
   "execution_count": 37,
   "metadata": {},
   "outputs": [
    {
     "name": "stdout",
     "output_type": "stream",
     "text": [
      "              precision    recall  f1-score   support\n",
      "\n",
      "           0       0.57      0.46      0.51     30972\n",
      "           1       0.70      0.78      0.74     50190\n",
      "\n",
      "    accuracy                           0.66     81162\n",
      "   macro avg       0.63      0.62      0.62     81162\n",
      "weighted avg       0.65      0.66      0.65     81162\n",
      "\n"
     ]
    }
   ],
   "source": [
    "from sklearn.metrics import classification_report\n",
    "# pass y test and the predicted values \n",
    "ypred = clf_balanced.predict(X_test)\n",
    "print(classification_report(y_test, ypred))"
   ]
  },
  {
   "cell_type": "code",
   "execution_count": 36,
   "metadata": {},
   "outputs": [
    {
     "name": "stdout",
     "output_type": "stream",
     "text": [
      "AUC: 0.618\n"
     ]
    }
   ],
   "source": [
    "# Compute ROC curve and ROC area for each class\n",
    "from sklearn.metrics import roc_curve, auc\n",
    "from sklearn.metrics import roc_auc_score\n",
    "\n",
    "\n",
    "# calculate roc curve\n",
    "fpr, tpr, thresholds = roc_curve(y_test, ypred)\n",
    "\n",
    "# calculate AUC\n",
    "auc = roc_auc_score(y_test, ypred)\n",
    "print('AUC: %.3f' % auc)"
   ]
  },
  {
   "cell_type": "code",
   "execution_count": 38,
   "metadata": {
    "scrolled": true
   },
   "outputs": [
    {
     "name": "stdout",
     "output_type": "stream",
     "text": [
      "No Skill: ROC AUC=0.500\n",
      "Logistic: ROC AUC=0.689\n"
     ]
    },
    {
     "data": {
      "image/png": "[encoded data removed]",
      "text/plain": [
       "<Figure size 432x288 with 1 Axes>"
      ]
     },
     "metadata": {
      "needs_background": "light"
     },
     "output_type": "display_data"
    }
   ],
   "source": [
    "# roc curve and auc\n",
    "from sklearn.datasets import make_classification\n",
    "from sklearn.linear_model import LogisticRegression\n",
    "from sklearn.model_selection import train_test_split\n",
    "from sklearn.metrics import roc_curve\n",
    "from sklearn.metrics import roc_auc_score\n",
    "from matplotlib import pyplot\n",
    "\n",
    "# generate a no ticket prediction (majority class)\n",
    "ns_probs = [0 for _ in range(len(y_test))]\n",
    "\n",
    "# predict probabilities\n",
    "lr_probs = clf_balanced.predict_proba(X_test)\n",
    "# keep probabilities for the positive outcome (ticket) only\n",
    "lr_probs = lr_probs[:, 1]\n",
    "# calculate scores\n",
    "ns_auc = roc_auc_score(y_test, ns_probs)\n",
    "lr_auc = roc_auc_score(y_test, lr_probs)\n",
    "# summarize scores\n",
    "print('No Skill: ROC AUC=%.3f' % (ns_auc))\n",
    "print('Logistic: ROC AUC=%.3f' % (lr_auc))\n",
    "# calculate roc curves\n",
    "ns_fpr, ns_tpr, _ = roc_curve(y_test, ns_probs)\n",
    "lr_fpr, lr_tpr, _ = roc_curve(y_test, lr_probs)\n",
    "# plot the roc curve for the model\n",
    "pyplot.plot(ns_fpr, ns_tpr, linestyle='--', label='No ticket')\n",
    "pyplot.plot(lr_fpr, lr_tpr, marker='.', label='Random Forest')\n",
    "# axis labels\n",
    "pyplot.xlabel('False Positive Rate')\n",
    "pyplot.ylabel('True Positive Rate')\n",
    "# show the legend\n",
    "pyplot.legend()\n",
    "# show the plot\n",
    "pyplot.show()"
   ]
  },
  {
   "cell_type": "markdown",
   "metadata": {},
   "source": [
    "No improvement here. Testing class_weight=\"balanced_subsample\""
   ]
  },
  {
   "cell_type": "code",
   "execution_count": 33,
   "metadata": {},
   "outputs": [],
   "source": [
    "# class_weight = \"balanced_subsample\"\n",
    "#Create a random forest Classifier\n",
    "from sklearn.ensemble import RandomForestClassifier\n",
    "\n",
    "clf_balanced2 = RandomForestClassifier(n_estimators=100, class_weight=\"balanced_subsample\")\n",
    "\n",
    "# Train the model using the training sets y_pred=clf.predict(X_test)\n",
    "clf_balanced2.fit(X_train, y_train)\n",
    "\n",
    "y_pred = clf_balanced2.predict(X_test)"
   ]
  },
  {
   "cell_type": "code",
   "execution_count": 35,
   "metadata": {},
   "outputs": [
    {
     "name": "stdout",
     "output_type": "stream",
     "text": [
      "              precision    recall  f1-score   support\n",
      "\n",
      "           0       0.57      0.46      0.51     30972\n",
      "           1       0.70      0.78      0.74     50190\n",
      "\n",
      "    accuracy                           0.66     81162\n",
      "   macro avg       0.63      0.62      0.62     81162\n",
      "weighted avg       0.65      0.66      0.65     81162\n",
      "\n"
     ]
    }
   ],
   "source": [
    "from sklearn.metrics import classification_report\n",
    "# pass y test and the predicted values \n",
    "ypred = clf_balanced2.predict(X_test)\n",
    "print(classification_report(y_test, ypred))"
   ]
  },
  {
   "cell_type": "code",
   "execution_count": 40,
   "metadata": {},
   "outputs": [
    {
     "name": "stdout",
     "output_type": "stream",
     "text": [
      "No Skill: ROC AUC=0.500\n",
      "Logistic: ROC AUC=0.690\n"
     ]
    },
    {
     "data": {
      "image/png": "[encoded data removed]",
      "text/plain": [
       "<Figure size 432x288 with 1 Axes>"
      ]
     },
     "metadata": {
      "needs_background": "light"
     },
     "output_type": "display_data"
    }
   ],
   "source": [
    "# roc curve and auc\n",
    "from sklearn.datasets import make_classification\n",
    "from sklearn.linear_model import LogisticRegression\n",
    "from sklearn.model_selection import train_test_split\n",
    "from sklearn.metrics import roc_curve\n",
    "from sklearn.metrics import roc_auc_score\n",
    "from matplotlib import pyplot\n",
    "\n",
    "# generate a no ticket prediction (majority class)\n",
    "ns_probs = [0 for _ in range(len(y_test))]\n",
    "\n",
    "# predict probabilities\n",
    "lr_probs = clf_balanced2.predict_proba(X_test)\n",
    "# keep probabilities for the positive outcome (ticket) only\n",
    "lr_probs = lr_probs[:, 1]\n",
    "# calculate scores\n",
    "ns_auc = roc_auc_score(y_test, ns_probs)\n",
    "lr_auc = roc_auc_score(y_test, lr_probs)\n",
    "# summarize scores\n",
    "print('No Skill: ROC AUC=%.3f' % (ns_auc))\n",
    "print('Logistic: ROC AUC=%.3f' % (lr_auc))\n",
    "# calculate roc curves\n",
    "ns_fpr, ns_tpr, _ = roc_curve(y_test, ns_probs)\n",
    "lr_fpr, lr_tpr, _ = roc_curve(y_test, lr_probs)\n",
    "# plot the roc curve for the model\n",
    "pyplot.plot(ns_fpr, ns_tpr, linestyle='--', label='No ticket')\n",
    "pyplot.plot(lr_fpr, lr_tpr, marker='.', label='Random Forest')\n",
    "# axis labels\n",
    "pyplot.xlabel('False Positive Rate')\n",
    "pyplot.ylabel('True Positive Rate')\n",
    "# show the legend\n",
    "pyplot.legend()\n",
    "# show the plot\n",
    "pyplot.show()"
   ]
  },
  {
   "cell_type": "markdown",
   "metadata": {},
   "source": [
    "Since the metrics are similar, but the area under the roc curve for this classifier is the greatest, this model is chosen as my final model."
   ]
  },
  {
   "cell_type": "code",
   "execution_count": null,
   "metadata": {},
   "outputs": [],
   "source": []
  }
 ],
 "metadata": {
  "kernelspec": {
   "display_name": "Python 3",
   "language": "python",
   "name": "python3"
  },
  "language_info": {
   "codemirror_mode": {
    "name": "ipython",
    "version": 3
   },
   "file_extension": ".py",
   "mimetype": "text/x-python",
   "name": "python",
   "nbconvert_exporter": "python",
   "pygments_lexer": "ipython3",
   "version": "3.7.3"
  }
 },
 "nbformat": 4,
 "nbformat_minor": 2
}
