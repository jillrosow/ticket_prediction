{
 "cells": [
  {
   "cell_type": "markdown",
   "metadata": {},
   "source": [
    "## Summary\n",
    "Records of over 250,000 police pull-overs in the state of Vermont between the years 2010-2015 were analyzed alongside various features such as driver demographics, location information, and datetime information. Findings:\n"
   ]
  },
  {
   "cell_type": "markdown",
   "metadata": {},
   "source": [
    "## 1. Introduction\n",
    "### Problem statement:\n",
    "   In today’s society, there is an increasing dialogue around policing and community-police relations. As a result, it is increasingly important to ensure officers are acting justly in routine police pull-overs. Using features such as the time of an incident, date, race, and which police force is responsible for the citation, one may be able to predict or anticipate the outcome of a certain traffic incident.\n",
    "   \n",
    "   This problem is important because if there is a bias within the police force, it can possibly be narrowed down to a specific department and corrected. Additionally, if a certain instance is common and predictable through specific features, it can help a police force focus on proper preventative measures. Through an accurate predictive model, this could be useful as a way to make sure police departments are accurately and unbiasedly giving proper citations to perpetrators, which would result in a more just and fortified law enforcement, and potentially a better relationship between the community and police. \n",
    "\n",
    "### The dataset:\n",
    "   I acquired the dataset from Enigma Public, which is a website dedicated to providing information to the open public derived from local, state, and federal governments as well as universities, NGOs, and nonprofits. The direct link to the dataset is as follows: https://public.enigma.com/datasets/vermont/a34af967-056f-48e6-8838-c511d795f3ec \n",
    "   \n",
    "   The dataset contains traffic stop outcomes from 14 police departments in Vermont along with other relevant stop data such as demographics and incident specific information collected between the years 2010 and 2015. \n",
    "   \n",
    "   During the data exploration phase, I saw a clear bias and skew in data toward certain features. For example, approximately 95% of our data from ‘driver_race’ consisted of white people, whereas the remaining 5% involved people of at least three other races. This particular imbalance is logical, since the state of Vermont as a whole has an overwhelming population of cauasian descent according to the U.S. Census Bureau from 2018. However, the most important observation that I made was when I uncovered a large class imbalance in ‘stop_outcome’; a decision was made to drop the rare classes ‘Arrest for Violation’, ‘Warrant Arrest’, and ‘Verbal Warning’, which only accounted for 1.19% of the data. As a result, I turned the classification into a binary problem and kept ‘Written Warning’ (170,980) and ‘Citation’ (106,638), as these were the most prevalent categories in the class. \n",
    "\n",
    "### Questions of interest:\n",
    "   The following questions guided my data exploration and analysis:\n",
    "   - How does stop outcome vary with driver age, race, and gender? Are there significant differences among groups?\n",
    "   - Is there consistency across Vermont police departments in number of police pull overs and stop outcome? Does a specific police department make more stops than others?\n",
    "   - Trends in stop outcome over time: time of day, day of week, month of year, yearly averages.\n",
    "   - Is there a consistent relationship between violation type and stop outcome? We would expect this.\n"
   ]
  },
  {
   "cell_type": "markdown",
   "metadata": {},
   "source": [
    "## 2. Data wrangling"
   ]
  },
  {
   "cell_type": "code",
   "execution_count": 260,
   "metadata": {},
   "outputs": [],
   "source": [
    "# import modules\n",
    "import pandas as pd\n",
    "import warnings\n",
    "warnings.simplefilter(\"ignore\")\n",
    "import pandas as pd\n",
    "import numpy as np\n",
    "import sklearn as sk\n",
    "import matplotlib.pyplot as plt\n",
    "import seaborn as sns\n",
    "import time\n",
    "\n",
    "# display plots inline \n",
    "%matplotlib inline"
   ]
  },
  {
   "cell_type": "code",
   "execution_count": 261,
   "metadata": {},
   "outputs": [
    {
     "data": {
      "text/html": [
       "<div>\n",
       "<style scoped>\n",
       "    .dataframe tbody tr th:only-of-type {\n",
       "        vertical-align: middle;\n",
       "    }\n",
       "\n",
       "    .dataframe tbody tr th {\n",
       "        vertical-align: top;\n",
       "    }\n",
       "\n",
       "    .dataframe thead th {\n",
       "        text-align: right;\n",
       "    }\n",
       "</style>\n",
       "<table border=\"1\" class=\"dataframe\">\n",
       "  <thead>\n",
       "    <tr style=\"text-align: right;\">\n",
       "      <th></th>\n",
       "      <th>id</th>\n",
       "      <th>state</th>\n",
       "      <th>stop_date</th>\n",
       "      <th>stop_time</th>\n",
       "      <th>stop_datetime</th>\n",
       "      <th>location_raw</th>\n",
       "      <th>county_name</th>\n",
       "      <th>county_fips</th>\n",
       "      <th>fine_grained_location</th>\n",
       "      <th>police_department</th>\n",
       "      <th>...</th>\n",
       "      <th>driver_race</th>\n",
       "      <th>violation_raw</th>\n",
       "      <th>violation</th>\n",
       "      <th>search_conducted</th>\n",
       "      <th>search_type_raw</th>\n",
       "      <th>search_type</th>\n",
       "      <th>contraband_found</th>\n",
       "      <th>stop_outcome</th>\n",
       "      <th>is_arrested</th>\n",
       "      <th>officer_id</th>\n",
       "    </tr>\n",
       "  </thead>\n",
       "  <tbody>\n",
       "    <tr>\n",
       "      <th>0</th>\n",
       "      <td>VT-2010-00001</td>\n",
       "      <td>VT</td>\n",
       "      <td>7/1/10</td>\n",
       "      <td>0:10</td>\n",
       "      <td>2010-07-01T00:10:00</td>\n",
       "      <td>East Montpelier</td>\n",
       "      <td>Washington County</td>\n",
       "      <td>50023.0</td>\n",
       "      <td>COUNTY RD</td>\n",
       "      <td>MIDDLESEX VSP</td>\n",
       "      <td>...</td>\n",
       "      <td>White</td>\n",
       "      <td>Moving Violation</td>\n",
       "      <td>Moving violation</td>\n",
       "      <td>False</td>\n",
       "      <td>No Search Conducted</td>\n",
       "      <td>NaN</td>\n",
       "      <td>False</td>\n",
       "      <td>Citation</td>\n",
       "      <td>False</td>\n",
       "      <td>-1.562157e+09</td>\n",
       "    </tr>\n",
       "    <tr>\n",
       "      <th>1</th>\n",
       "      <td>VT-2010-00002</td>\n",
       "      <td>VT</td>\n",
       "      <td>7/1/10</td>\n",
       "      <td>0:10</td>\n",
       "      <td>2010-07-01T00:10:00</td>\n",
       "      <td>NaN</td>\n",
       "      <td>NaN</td>\n",
       "      <td>NaN</td>\n",
       "      <td>COUNTY RD; Fitch Road</td>\n",
       "      <td>MIDDLESEX VSP</td>\n",
       "      <td>...</td>\n",
       "      <td>White</td>\n",
       "      <td>Externally Generated Stop</td>\n",
       "      <td>Other</td>\n",
       "      <td>False</td>\n",
       "      <td>No Search Conducted</td>\n",
       "      <td>NaN</td>\n",
       "      <td>False</td>\n",
       "      <td>Arrest for Violation</td>\n",
       "      <td>True</td>\n",
       "      <td>-1.562157e+09</td>\n",
       "    </tr>\n",
       "    <tr>\n",
       "      <th>2</th>\n",
       "      <td>VT-2010-00003</td>\n",
       "      <td>VT</td>\n",
       "      <td>7/1/10</td>\n",
       "      <td>0:10</td>\n",
       "      <td>2010-07-01T00:10:00</td>\n",
       "      <td>NaN</td>\n",
       "      <td>NaN</td>\n",
       "      <td>NaN</td>\n",
       "      <td>COUNTY RD; Fitch Road</td>\n",
       "      <td>MIDDLESEX VSP</td>\n",
       "      <td>...</td>\n",
       "      <td>White</td>\n",
       "      <td>Externally Generated Stop</td>\n",
       "      <td>Other</td>\n",
       "      <td>False</td>\n",
       "      <td>No Search Conducted</td>\n",
       "      <td>NaN</td>\n",
       "      <td>False</td>\n",
       "      <td>Arrest for Violation</td>\n",
       "      <td>True</td>\n",
       "      <td>-1.562157e+09</td>\n",
       "    </tr>\n",
       "    <tr>\n",
       "      <th>3</th>\n",
       "      <td>VT-2010-00004</td>\n",
       "      <td>VT</td>\n",
       "      <td>7/1/10</td>\n",
       "      <td>0:11</td>\n",
       "      <td>2010-07-01T00:11:00</td>\n",
       "      <td>Whiting</td>\n",
       "      <td>Addison County</td>\n",
       "      <td>50001.0</td>\n",
       "      <td>N MAIN ST</td>\n",
       "      <td>NEW HAVEN VSP</td>\n",
       "      <td>...</td>\n",
       "      <td>White</td>\n",
       "      <td>Moving Violation</td>\n",
       "      <td>Moving violation</td>\n",
       "      <td>False</td>\n",
       "      <td>No Search Conducted</td>\n",
       "      <td>NaN</td>\n",
       "      <td>False</td>\n",
       "      <td>Arrest for Violation</td>\n",
       "      <td>True</td>\n",
       "      <td>-3.126844e+08</td>\n",
       "    </tr>\n",
       "    <tr>\n",
       "      <th>4</th>\n",
       "      <td>VT-2010-00005</td>\n",
       "      <td>VT</td>\n",
       "      <td>7/1/10</td>\n",
       "      <td>0:35</td>\n",
       "      <td>2010-07-01T00:35:00</td>\n",
       "      <td>Hardwick</td>\n",
       "      <td>Caledonia County</td>\n",
       "      <td>50005.0</td>\n",
       "      <td>i91 nb mm 62</td>\n",
       "      <td>ROYALTON VSP</td>\n",
       "      <td>...</td>\n",
       "      <td>White</td>\n",
       "      <td>Moving Violation</td>\n",
       "      <td>Moving violation</td>\n",
       "      <td>False</td>\n",
       "      <td>No Search Conducted</td>\n",
       "      <td>NaN</td>\n",
       "      <td>False</td>\n",
       "      <td>Written Warning</td>\n",
       "      <td>False</td>\n",
       "      <td>9.225661e+08</td>\n",
       "    </tr>\n",
       "  </tbody>\n",
       "</table>\n",
       "<p>5 rows × 24 columns</p>\n",
       "</div>"
      ],
      "text/plain": [
       "              id state stop_date stop_time        stop_datetime  \\\n",
       "0  VT-2010-00001    VT    7/1/10      0:10  2010-07-01T00:10:00   \n",
       "1  VT-2010-00002    VT    7/1/10      0:10  2010-07-01T00:10:00   \n",
       "2  VT-2010-00003    VT    7/1/10      0:10  2010-07-01T00:10:00   \n",
       "3  VT-2010-00004    VT    7/1/10      0:11  2010-07-01T00:11:00   \n",
       "4  VT-2010-00005    VT    7/1/10      0:35  2010-07-01T00:35:00   \n",
       "\n",
       "      location_raw        county_name  county_fips  fine_grained_location  \\\n",
       "0  East Montpelier  Washington County      50023.0              COUNTY RD   \n",
       "1              NaN                NaN          NaN  COUNTY RD; Fitch Road   \n",
       "2              NaN                NaN          NaN  COUNTY RD; Fitch Road   \n",
       "3          Whiting     Addison County      50001.0              N MAIN ST   \n",
       "4         Hardwick   Caledonia County      50005.0           i91 nb mm 62   \n",
       "\n",
       "  police_department  ... driver_race              violation_raw  \\\n",
       "0     MIDDLESEX VSP  ...       White           Moving Violation   \n",
       "1     MIDDLESEX VSP  ...       White  Externally Generated Stop   \n",
       "2     MIDDLESEX VSP  ...       White  Externally Generated Stop   \n",
       "3     NEW HAVEN VSP  ...       White           Moving Violation   \n",
       "4      ROYALTON VSP  ...       White           Moving Violation   \n",
       "\n",
       "          violation search_conducted      search_type_raw search_type  \\\n",
       "0  Moving violation            False  No Search Conducted         NaN   \n",
       "1             Other            False  No Search Conducted         NaN   \n",
       "2             Other            False  No Search Conducted         NaN   \n",
       "3  Moving violation            False  No Search Conducted         NaN   \n",
       "4  Moving violation            False  No Search Conducted         NaN   \n",
       "\n",
       "  contraband_found          stop_outcome is_arrested    officer_id  \n",
       "0            False              Citation       False -1.562157e+09  \n",
       "1            False  Arrest for Violation        True -1.562157e+09  \n",
       "2            False  Arrest for Violation        True -1.562157e+09  \n",
       "3            False  Arrest for Violation        True -3.126844e+08  \n",
       "4            False       Written Warning       False  9.225661e+08  \n",
       "\n",
       "[5 rows x 24 columns]"
      ]
     },
     "execution_count": 261,
     "metadata": {},
     "output_type": "execute_result"
    }
   ],
   "source": [
    "# import the raw dataset \n",
    "data = pd.read_csv('dataProject.csv')\n",
    "\n",
    "# inspect the dataset\n",
    "data.head()"
   ]
  },
  {
   "cell_type": "code",
   "execution_count": 262,
   "metadata": {},
   "outputs": [
    {
     "data": {
      "text/plain": [
       "id                            0\n",
       "state                         0\n",
       "stop_date                     0\n",
       "stop_time                     0\n",
       "stop_datetime                 0\n",
       "location_raw                694\n",
       "county_name                 705\n",
       "county_fips                 705\n",
       "fine_grained_location       347\n",
       "police_department             0\n",
       "driver_gender              1712\n",
       "driver_age_raw             1171\n",
       "driver_age                 1286\n",
       "driver_race_raw            3984\n",
       "driver_race                4817\n",
       "violation_raw              2178\n",
       "violation                  2178\n",
       "search_conducted              0\n",
       "search_type_raw            2240\n",
       "search_type              279866\n",
       "contraband_found             34\n",
       "stop_outcome               2325\n",
       "is_arrested                   0\n",
       "officer_id                   12\n",
       "dtype: int64"
      ]
     },
     "execution_count": 262,
     "metadata": {},
     "output_type": "execute_result"
    }
   ],
   "source": [
    "# view count of null values \n",
    "data.isnull().sum()"
   ]
  },
  {
   "cell_type": "markdown",
   "metadata": {},
   "source": [
    "### 2a. Dropping null values\n",
    "- A decision is made to drop 'search_type', 'stop_datetime', and 'raw' attributes (with two exceptions listed below) due to redundancy and high null value counts.\n",
    "\n",
    "- 'violation_raw' and 'search_type_raw' were kept because the data was more descriptive in these fields compared to the \"cleaned\" fields\n",
    "\n",
    "- 'officer_id' was dropped, as there is too many individual officers to be accounted for, and this information would not be predictive in classification.\n",
    "\n",
    "- 'is_arrested' was dropped, as it is similar to the stop_outcome variable I am predicting. I chose to use stop_outcome as the label, as it has more detail in the outcome of the stop (such as if they were given a warning or a citation if they weren't arrested).\n",
    "\n",
    "- 'search_conducted' was dropped as 'search_type_raw' has the same information in more detail.\n",
    "\n",
    "- 'County_name', 'location_raw', and 'fine_grained_location' were dropped because police department encompasses all of this information already\n",
    "\n",
    "- 'state' was dropped, as all the instances occur in the same state.\n",
    "\n",
    "- 'id' was dropped because it does not provide any helpful information"
   ]
  },
  {
   "cell_type": "code",
   "execution_count": 263,
   "metadata": {},
   "outputs": [],
   "source": [
    "# drop the mentioned columns\n",
    "data_drop = data.drop(['state', 'stop_datetime', 'county_fips', 'driver_age_raw', 'driver_race_raw','violation', 'search_conducted', 'search_type', 'is_arrested', 'officer_id', 'fine_grained_location','county_name','location_raw', 'id'], axis=1)"
   ]
  },
  {
   "cell_type": "code",
   "execution_count": 264,
   "metadata": {},
   "outputs": [],
   "source": [
    "# check the null values of columns we have left\n",
    "#data_drop.isnull().sum()"
   ]
  },
  {
   "cell_type": "markdown",
   "metadata": {},
   "source": [
    "- to account for the null values, list wise deletion is chosen: everywhere a blank field is encountered, the entire record is deleted. "
   ]
  },
  {
   "cell_type": "code",
   "execution_count": 265,
   "metadata": {},
   "outputs": [],
   "source": [
    "# list wise deletion\n",
    "data_drop = data_drop.dropna(axis=0)\n",
    "\n",
    "# verify nulls are gone\n",
    "#data_drop.isnull().sum()"
   ]
  },
  {
   "cell_type": "code",
   "execution_count": 266,
   "metadata": {},
   "outputs": [],
   "source": [
    "# view the columns\n",
    "data_drop.columns\n",
    "\n",
    "# rename the raw columns \n",
    "data_drop = data_drop.rename(columns={\"violation_raw\": \"violation\", \"search_type_raw\": \"search_type\"})"
   ]
  },
  {
   "cell_type": "code",
   "execution_count": 267,
   "metadata": {},
   "outputs": [],
   "source": [
    "# verify the types of each column are appropriate\n",
    "#data_drop.info()"
   ]
  },
  {
   "cell_type": "markdown",
   "metadata": {},
   "source": [
    "### 2b. Primary feature engineering\n",
    " - 'stop_date' and 'stop_time' are converted to datetime objects instead of objects. \n",
    " - weekday, month, and year columns are engineered from datetime column to gain more information\n",
    " - 'stop_time' is condensed from HH:MM to just hour to reduce unneeded specificity"
   ]
  },
  {
   "cell_type": "code",
   "execution_count": 268,
   "metadata": {},
   "outputs": [],
   "source": [
    "# change date time variables from objects to date time objects\n",
    "data_drop['stop_date'] = pd.to_datetime(data_drop['stop_date'], infer_datetime_format=True)\n",
    "data_drop['stop_time'] = pd.to_datetime(data_drop['stop_time'], infer_datetime_format=True)"
   ]
  },
  {
   "cell_type": "code",
   "execution_count": 269,
   "metadata": {},
   "outputs": [],
   "source": [
    "# add a weekday, month, and year column to replace 'stop_date'\n",
    "# feature engineering done to gain more information on the date\n",
    "data_drop['weekday'] = data_drop['stop_date'].dt.dayofweek\n",
    "data_drop['month'] = data_drop['stop_date'].dt.month\n",
    "data_drop['year'] = data_drop['stop_date'].dt.year\n",
    "\n",
    "# delete stop_date since it is no longer needed \n",
    "#data_drop = data_drop.drop(['stop_date'], axis=1)"
   ]
  },
  {
   "cell_type": "code",
   "execution_count": 270,
   "metadata": {},
   "outputs": [],
   "source": [
    "# change stop_time to be the hour in which the stop occured instead of the specific hour and minute it occured \n",
    "# to decrease specificity\n",
    "data_drop['stop_time'] = data_drop['stop_time'].dt.hour"
   ]
  },
  {
   "cell_type": "code",
   "execution_count": 271,
   "metadata": {},
   "outputs": [],
   "source": [
    "# dataset is now cleaned... save the cleaned version \n",
    "data_clean = data_drop.copy()"
   ]
  },
  {
   "cell_type": "markdown",
   "metadata": {},
   "source": [
    "## 3. Initial data exploration\n",
    "### 3a. Univariate Analysis \n",
    "- univariate anaylsis is done by EDA to determine if variables should be further engineered or modified"
   ]
  },
  {
   "cell_type": "markdown",
   "metadata": {},
   "source": [
    "### Investigating the target variable: 'stop_outcome'\n",
    "**Insights:**\n",
    "- A large class imbalance is seen here, so a decision is made to drop the rare classes and turn the classification into a binary problem. I will keep only 'written warning' and 'citation' outcomes, as these are the most prevalant in the data"
   ]
  },
  {
   "cell_type": "code",
   "execution_count": 272,
   "metadata": {},
   "outputs": [
    {
     "data": {
      "text/plain": [
       "Written Warning         0.609272\n",
       "Citation                0.378643\n",
       "Arrest for Violation    0.011771\n",
       "Warrant Arrest          0.000277\n",
       "Verbal Warning          0.000036\n",
       "Name: stop_outcome, dtype: float64"
      ]
     },
     "execution_count": 272,
     "metadata": {},
     "output_type": "execute_result"
    }
   ],
   "source": [
    "data_clean.stop_outcome.value_counts(normalize=True)"
   ]
  },
  {
   "cell_type": "code",
   "execution_count": 273,
   "metadata": {},
   "outputs": [
    {
     "data": {
      "text/plain": [
       "Written Warning    0.616725\n",
       "Citation           0.383275\n",
       "Name: stop_outcome, dtype: float64"
      ]
     },
     "execution_count": 273,
     "metadata": {},
     "output_type": "execute_result"
    }
   ],
   "source": [
    "# drop the records which do not belong to the two specified classes\n",
    "data_cut = data_clean[data_clean['stop_outcome'].isin(['Written Warning', 'Citation'])]\n",
    "\n",
    "# verify there is enough data remaining after reduction\n",
    "#data_cut.info()\n",
    "\n",
    "# look at the class balance now\n",
    "data_cut['stop_outcome'].value_counts(normalize=True)"
   ]
  },
  {
   "cell_type": "markdown",
   "metadata": {},
   "source": [
    "### Investigating driver demographics (age, gender, race) ###\n",
    "**Insights:**\n",
    " - Driver age contained outliers above 90 years of age; these were deleted\n",
    " - Driver race is extremely skewed toward White, as expected due to location. Race should be converted to dummy variables for further analysis\n",
    " - Gender is somewhat balanced, and should be hot encoded for further analysis"
   ]
  },
  {
   "cell_type": "code",
   "execution_count": 274,
   "metadata": {},
   "outputs": [
    {
     "data": {
      "text/plain": [
       "White       0.956872\n",
       "Black       0.020196\n",
       "Asian       0.012665\n",
       "Hispanic    0.009315\n",
       "Other       0.000953\n",
       "Name: driver_race, dtype: float64"
      ]
     },
     "execution_count": 274,
     "metadata": {},
     "output_type": "execute_result"
    },
    {
     "data": {
      "image/png": "[encoded data removed]",
      "text/plain": [
       "<Figure size 864x360 with 2 Axes>"
      ]
     },
     "metadata": {
      "needs_background": "light"
     },
     "output_type": "display_data"
    }
   ],
   "source": [
    "f, axs = plt.subplots(1,2, figsize=(12,5))\n",
    "_ = plt.subplot(1,2,1)\n",
    "_ = sns.boxplot(x=data_cut['driver_age'])\n",
    "_ = plt.title('Driver Age')\n",
    "_ = plt.xlabel('Driver age (years)')\n",
    "_ = plt.subplot(1,2,2)\n",
    "_ = data_cut['driver_gender'].value_counts(normalize=True).plot(kind=\"pie\")\n",
    "_ = plt.title('Split of Drivers by Gender')\n",
    "_ = plt.ylabel(\"\")\n",
    "data_cut['driver_race'].value_counts(normalize=True)"
   ]
  },
  {
   "cell_type": "code",
   "execution_count": 275,
   "metadata": {},
   "outputs": [
    {
     "data": {
      "text/plain": [
       "(270668, 13)"
      ]
     },
     "execution_count": 275,
     "metadata": {},
     "output_type": "execute_result"
    }
   ],
   "source": [
    "# remove age outliers\n",
    "q1 = data_cut['driver_age'].quantile(0.25)\n",
    "q3 = data_cut['driver_age'].quantile(0.75)\n",
    "IQR = q3 - q1\n",
    "filter = (data_cut['driver_age'] >= q1 - 1.5 * IQR) & (data_clean['driver_age'] <= q3 + 1.5 *IQR)\n",
    "data_cut = data_cut.loc[filter]  \n",
    "data_cut.shape"
   ]
  },
  {
   "cell_type": "code",
   "execution_count": 276,
   "metadata": {},
   "outputs": [],
   "source": [
    "# convert race to dummy categoricals\n",
    "dummies = pd.get_dummies(data_cut['driver_race'])\n",
    "data_cut = pd.concat([data_cut, dummies], axis=1)\n",
    "# drop the old column\n",
    "#data_cut = data_cut.drop('driver_race', axis=1)\n",
    "\n",
    "# convert gender to hot encoding: male = 1, female = 0\n",
    "data_cut['driver_gender'] = (data_cut['driver_gender'] == 'M').astype(int)"
   ]
  },
  {
   "cell_type": "markdown",
   "metadata": {},
   "source": [
    "### Investigating time variables (weekday, month, year, stop_time) ###\n",
    "**Insights:**\n",
    " - weekday, month, and year are all fairly evenly distributed\n",
    " - stop time was log transformed to reduce skew, and an exponential distribution appears to emerge.\n",
    " - I added '1' to weekday and hour columns to account for 0 indexing"
   ]
  },
  {
   "cell_type": "code",
   "execution_count": 277,
   "metadata": {},
   "outputs": [
    {
     "data": {
      "image/png": "[encoded data removed]",
      "text/plain": [
       "<Figure size 1440x360 with 3 Axes>"
      ]
     },
     "metadata": {
      "needs_background": "light"
     },
     "output_type": "display_data"
    }
   ],
   "source": [
    "f, axs = plt.subplots(1,3, figsize=(20,5))\n",
    "_ = plt.subplot(1,3,1)\n",
    "_ = sns.boxplot(x=data_cut['weekday'], color=\"lightgreen\")\n",
    "_ = plt.title('Weekday')\n",
    "_ = plt.subplot(1,3,2)\n",
    "_ = sns.boxplot(x=data_cut['month'], color=\"lightblue\")\n",
    "_ = plt.title('Month')\n",
    "_ = plt.subplot(1,3,3)\n",
    "_ = sns.boxplot(x=data_cut['year'], color=\"purple\")\n",
    "_ = plt.title('Year')"
   ]
  },
  {
   "cell_type": "code",
   "execution_count": 278,
   "metadata": {},
   "outputs": [
    {
     "data": {
      "image/png": "[encoded data removed]",
      "text/plain": [
       "<Figure size 1440x360 with 2 Axes>"
      ]
     },
     "metadata": {
      "needs_background": "light"
     },
     "output_type": "display_data"
    }
   ],
   "source": [
    "f, axs = plt.subplots(1,2, figsize=(20,5))\n",
    "_ = plt.subplot(1,2,1)\n",
    "_ = sns.boxplot(data_cut['stop_time'])\n",
    "_ = plt.title('Boxplot of Stop Times by Hour')\n",
    "_ = plt.xlabel('Stop Times')\n",
    "_ = plt.subplot(1,2,2)\n",
    "logged = np.log((data_cut['stop_time']) + 1)\n",
    "_ = plt.hist(logged, bins=10)\n",
    "_ = plt.title('Distribution of Stop Times by Hour')\n",
    "_ = plt.xlabel('Stop Times (log transformed)')"
   ]
  },
  {
   "cell_type": "code",
   "execution_count": 279,
   "metadata": {},
   "outputs": [],
   "source": [
    "data_cut['weekday'] = data_cut['weekday'] + 1\n",
    "data_cut['stop_time'] = data_cut['stop_time'] + 1"
   ]
  },
  {
   "cell_type": "markdown",
   "metadata": {},
   "source": [
    "### Investigating traffic stop details (violation, search_type, contraband_found, police_department) ###\n",
    "**Insights:**\n",
    "- Two outlier records were found and deleted from the violation column. The violation column is dominated by moving violation, which is to be expected, as this is the most common form of routine police pull overs.\n",
    "- Records from 'VSP HQ- BCI/SIU/NIU' police department were deleted since less than 1% of records belonged to this group.\n",
    "- 1 record from search type was '(Winooski) Passgr Srch', and it was deleted. The majority of data in the field belongs to 'no search conducted'\n",
    "- Contraband_found was heavily imbalanced, so a decision was made to delete it based on infrequency.\n",
    "- Police_department and violation were converted to dummy variables for further analysis \n",
    "- Search_type was converted to be a binary choice with 1 being no search conducted, and 0 being search conducted. This decision was made due to the large majority of data belonging to one class. "
   ]
  },
  {
   "cell_type": "code",
   "execution_count": 280,
   "metadata": {},
   "outputs": [
    {
     "data": {
      "image/png": "[encoded data removed]",
      "text/plain": [
       "<Figure size 432x288 with 1 Axes>"
      ]
     },
     "metadata": {},
     "output_type": "display_data"
    }
   ],
   "source": [
    "data_cut['violation'].value_counts()\n",
    "\n",
    "# take out winooski records (2) due to it being an outlier\n",
    "data_cut = data_cut[data_cut.violation != '(Winooski) Be On Look Rqst']\n",
    "data_cut = data_cut[data_cut.violation != '(Winooski) Mtr Vhc Vltn']\n",
    "#data_cut['violation'].value_counts()\n",
    "\n",
    "# Pie chart of violation types\n",
    "labels = ['Moving Violation', 'Vehicle Equipment', 'Externally Generated Stop', \n",
    "          'Investigatory Stop', 'Suspicion of DWI']\n",
    "sizes = [77.9, 18.5, 2.1, 1.2, .2]\n",
    "\n",
    "  \n",
    "fig1, ax1 = plt.subplots()\n",
    "ax1.pie(sizes,\n",
    "        startangle=90, )\n",
    "\n",
    "# Equal aspect ratio ensures that pie is drawn as a circle\n",
    "ax1.axis('equal')  \n",
    "plt.tight_layout()\n",
    "plt.title('Distribution of Violation Types')\n",
    "plt.legend(labels=labels,loc='upper left', bbox_to_anchor=(1,0.5))\n",
    "plt.show()"
   ]
  },
  {
   "cell_type": "code",
   "execution_count": 281,
   "metadata": {},
   "outputs": [],
   "source": [
    "# convert violation to dummy variables \n",
    "dummies = pd.get_dummies(data_cut['violation'])\n",
    "data_cut = pd.concat([data_cut, dummies], axis=1)\n",
    "\n",
    "# drop the old column\n",
    "#data_cut = data_cut.drop('violation', axis=1)"
   ]
  },
  {
   "cell_type": "code",
   "execution_count": 282,
   "metadata": {
    "scrolled": true
   },
   "outputs": [
    {
     "data": {
      "text/plain": [
       "MIDDLESEX VSP                     0.099830\n",
       "ROYALTON VSP                      0.093591\n",
       "WILLISTON VSP                     0.086768\n",
       "NEW HAVEN VSP                     0.083973\n",
       "VSP HEADQUARTERS - FIELD FORCE    0.083958\n",
       "ROCKINGHAM VSP                    0.082598\n",
       "RUTLAND VSP                       0.080166\n",
       "ST ALBANS VSP                     0.075486\n",
       "BRADFORD VSP                      0.075364\n",
       "SHAFTSBURY VSP                    0.075080\n",
       "BRATTLEBORO VSP                   0.072330\n",
       "ST JOHNSBURY VSP                  0.054103\n",
       "DERBY VSP                         0.036753\n",
       "Name: police_department, dtype: float64"
      ]
     },
     "execution_count": 282,
     "metadata": {},
     "output_type": "execute_result"
    }
   ],
   "source": [
    "data_cut['police_department'].value_counts(normalize=True)\n",
    "# take out 'VSP HQ- BCI/SIU/NIU' records (< 1%) due to it being an outlier\n",
    "data_cut = data_cut[data_cut.police_department != 'VSP HQ- BCI/SIU/NIU']\n",
    "data_cut.police_department.value_counts(normalize=True)"
   ]
  },
  {
   "cell_type": "code",
   "execution_count": 283,
   "metadata": {},
   "outputs": [],
   "source": [
    "# convert the police department into dummy variables\n",
    "dummies = pd.get_dummies(data_cut['police_department'])\n",
    "data_cut = pd.concat([data_cut, dummies], axis=1)\n",
    "\n",
    "# drop the old column\n",
    "#data_cut = data_cut.drop('police_department', axis=1)"
   ]
  },
  {
   "cell_type": "code",
   "execution_count": 284,
   "metadata": {},
   "outputs": [
    {
     "data": {
      "text/plain": [
       "No Search Conducted               268186\n",
       "Consent Search-Probable Cause       1611\n",
       "Consent Search-Rsnbl Suspicion       646\n",
       "Search with Warrant                   95\n",
       "Name: search_type, dtype: int64"
      ]
     },
     "execution_count": 284,
     "metadata": {},
     "output_type": "execute_result"
    }
   ],
   "source": [
    "data_cut['search_type'].value_counts()\n",
    "# take out winooski due to outlier \n",
    "data_cut = data_cut[data_cut.search_type != '(Winooski) Passgr Srch']\n",
    "data_cut['search_type'].value_counts()"
   ]
  },
  {
   "cell_type": "code",
   "execution_count": 285,
   "metadata": {},
   "outputs": [],
   "source": [
    "# as most data comes from no search conducted, we will simplify this column to be binary for if there is search conducted or not\n",
    "# hot encoding: no search = 1, other = 0\n",
    "data_cut['search_type'] = (data_cut['search_type'] == 'No Search Conducted').astype(int)"
   ]
  },
  {
   "cell_type": "code",
   "execution_count": 286,
   "metadata": {
    "scrolled": true
   },
   "outputs": [
    {
     "data": {
      "text/plain": [
       "False    0.993424\n",
       "True     0.006576\n",
       "Name: contraband_found, dtype: float64"
      ]
     },
     "execution_count": 286,
     "metadata": {},
     "output_type": "execute_result"
    },
    {
     "data": {
      "image/png": "[encoded data removed]",
      "text/plain": [
       "<Figure size 432x288 with 1 Axes>"
      ]
     },
     "metadata": {},
     "output_type": "display_data"
    }
   ],
   "source": [
    "_ = data_cut['contraband_found'].value_counts(normalize=True).plot(kind=\"pie\")\n",
    "_ = plt.title('Contraband Found Distribution')\n",
    "_ = plt.ylabel(\"\")\n",
    "data_cut['contraband_found'].value_counts(normalize=True)"
   ]
  },
  {
   "cell_type": "code",
   "execution_count": 287,
   "metadata": {},
   "outputs": [],
   "source": [
    "#as a majority of the stops didn't have contrabound, we decided to drop this variable.\n",
    "data_cut = data_cut.drop(['contraband_found'], axis=1)"
   ]
  },
  {
   "cell_type": "markdown",
   "metadata": {},
   "source": [
    "#### At this point, all of the data cleaning and wrangling has been completed, and thus the final dataset can be saved as data_final"
   ]
  },
  {
   "cell_type": "code",
   "execution_count": 288,
   "metadata": {},
   "outputs": [],
   "source": [
    "data_final = data_cut.copy()"
   ]
  },
  {
   "cell_type": "markdown",
   "metadata": {},
   "source": [
    "## 4. Targeted EDA\n",
    "### 4a. Stop outcome variation with driver demographics\n",
    "To understand how stop outcome varies with driver demographics, many angles are considered:\n",
    "1. stop outcome data is plotted for male and female groups; the same data is plotted along a yearly axis to see if the trend is consistent year after year;\n",
    "2. stop outcome data is compared among driver race groups; the same data is plotted after being grouped by police department to spot any inconsistencies or possible racial bias among differing stations.\n",
    "3. Age is split into 3 groups: early drivers (high risk, 0-25), middle aged drivers (lowest risk, 25-50), older drivers (medium risk, 50+) and then stop outcome trends are compared among age groups \n",
    "\n",
    "#### 1. Male vs Female"
   ]
  },
  {
   "cell_type": "code",
   "execution_count": 398,
   "metadata": {
    "scrolled": false
   },
   "outputs": [
    {
     "data": {
      "image/png": "[encoded data removed]",
      "text/plain": [
       "<Figure size 432x288 with 1 Axes>"
      ]
     },
     "metadata": {
      "needs_background": "light"
     },
     "output_type": "display_data"
    }
   ],
   "source": [
    "# male = 1, female = 0\n",
    "outcome_by_gender = data_final.groupby('driver_gender').stop_outcome.value_counts(normalize=True).unstack()\n",
    "_ = outcome_by_gender.plot(kind=\"bar\", stacked=True, cmap=\"Paired\")"
   ]
  },
  {
   "cell_type": "markdown",
   "metadata": {},
   "source": [
    "Both genders receive written warnings more often, but females receive written warning slightly more often than males on average."
   ]
  },
  {
   "cell_type": "code",
   "execution_count": 401,
   "metadata": {
    "scrolled": false
   },
   "outputs": [
    {
     "data": {
      "image/png": "[encoded data removed]",
      "text/plain": [
       "<Figure size 1080x360 with 1 Axes>"
      ]
     },
     "metadata": {
      "needs_background": "light"
     },
     "output_type": "display_data"
    }
   ],
   "source": [
    "outcome_gen_yr = data_final.groupby(['year','stop_outcome']).driver_gender.value_counts(normalize=True).unstack()\n",
    "_ = outcome_gen_yr.plot(kind=\"bar\", stacked=True, figsize=(15,5), cmap=\"icefire\")\n",
    "_ = plt.title('Yearly stop outcome data by driver gender from 2010-2015')\n",
    "_ = plt.ylabel('Percentage')"
   ]
  },
  {
   "cell_type": "markdown",
   "metadata": {},
   "source": [
    "Each year females receive more written warnings than citations, while males receive more citations than warnings each year. \n",
    "This relationship is consistent across years 2010-2015 for this data."
   ]
  },
  {
   "cell_type": "code",
   "execution_count": 331,
   "metadata": {},
   "outputs": [],
   "source": [
    "# grouping by male and female separately for less confusion... cant get this to display in subplots\n",
    "females = data_final[data_final.driver_gender == 0]\n",
    "f_out_yr = females.groupby('year').stop_outcome.value_counts(normalize=True).unstack()\n",
    "males = data_final[data_final.driver_gender == 1]\n",
    "m_out_yr = males.groupby('year').stop_outcome.value_counts(normalize=True).unstack()"
   ]
  },
  {
   "cell_type": "markdown",
   "metadata": {},
   "source": [
    "#### 2. Driver race"
   ]
  },
  {
   "cell_type": "code",
   "execution_count": null,
   "metadata": {},
   "outputs": [],
   "source": []
  },
  {
   "cell_type": "code",
   "execution_count": null,
   "metadata": {},
   "outputs": [],
   "source": []
  }
 ],
 "metadata": {
  "kernelspec": {
   "display_name": "Python 3",
   "language": "python",
   "name": "python3"
  },
  "language_info": {
   "codemirror_mode": {
    "name": "ipython",
    "version": 3
   },
   "file_extension": ".py",
   "mimetype": "text/x-python",
   "name": "python",
   "nbconvert_exporter": "python",
   "pygments_lexer": "ipython3",
   "version": "3.7.3"
  }
 },
 "nbformat": 4,
 "nbformat_minor": 2
}
