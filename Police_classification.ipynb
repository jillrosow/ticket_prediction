{
 "cells": [
  {
   "cell_type": "code",
   "execution_count": 0,
   "metadata": {
    "colab": {},
    "colab_type": "code",
    "id": "b9j5wbE1pqbi"
   },
   "outputs": [],
   "source": [
    "import pandas as pd\n",
    "import warnings\n",
    "warnings.simplefilter(\"ignore\")\n",
    "import pandas as pd\n",
    "import numpy as np\n",
    "import sklearn as sk\n",
    "import matplotlib.pyplot as plt\n",
    "import time\n",
    "from sklearn.model_selection import GridSearchCV\n",
    "from sklearn.model_selection import cross_val_score\n",
    "from sklearn.preprocessing import StandardScaler\n",
    "from sklearn.svm import SVC\n",
    "from sklearn.pipeline import Pipeline\n",
    "from sklearn.neural_network import MLPClassifier\n",
    "from sklearn.ensemble import RandomForestClassifier\n",
    "from sklearn.ensemble import AdaBoostClassifier"
   ]
  },
  {
   "cell_type": "code",
   "execution_count": 0,
   "metadata": {
    "colab": {},
    "colab_type": "code",
    "id": "4ehiSm6gzlMT"
   },
   "outputs": [],
   "source": [
    "%matplotlib inline"
   ]
  },
  {
   "cell_type": "markdown",
   "metadata": {
    "colab_type": "text",
    "id": "l7JPVBVLv-GC"
   },
   "source": [
    "## import and investigate data set\n",
    "\n",
    "---\n",
    "\n",
    "\n"
   ]
  },
  {
   "cell_type": "code",
   "execution_count": 3,
   "metadata": {
    "colab": {
     "base_uri": "https://localhost:8080/",
     "height": 394
    },
    "colab_type": "code",
    "id": "gzs2y_y0vMN_",
    "outputId": "d834ff6f-a6f2-4bcb-8c23-54e1c1b83216"
   },
   "outputs": [
    {
     "data": {
      "text/html": [
       "<div>\n",
       "<style scoped>\n",
       "    .dataframe tbody tr th:only-of-type {\n",
       "        vertical-align: middle;\n",
       "    }\n",
       "\n",
       "    .dataframe tbody tr th {\n",
       "        vertical-align: top;\n",
       "    }\n",
       "\n",
       "    .dataframe thead th {\n",
       "        text-align: right;\n",
       "    }\n",
       "</style>\n",
       "<table border=\"1\" class=\"dataframe\">\n",
       "  <thead>\n",
       "    <tr style=\"text-align: right;\">\n",
       "      <th></th>\n",
       "      <th>id</th>\n",
       "      <th>state</th>\n",
       "      <th>stop_date</th>\n",
       "      <th>stop_time</th>\n",
       "      <th>stop_datetime</th>\n",
       "      <th>location_raw</th>\n",
       "      <th>county_name</th>\n",
       "      <th>county_fips</th>\n",
       "      <th>fine_grained_location</th>\n",
       "      <th>police_department</th>\n",
       "      <th>driver_gender</th>\n",
       "      <th>driver_age_raw</th>\n",
       "      <th>driver_age</th>\n",
       "      <th>driver_race_raw</th>\n",
       "      <th>driver_race</th>\n",
       "      <th>violation_raw</th>\n",
       "      <th>violation</th>\n",
       "      <th>search_conducted</th>\n",
       "      <th>search_type_raw</th>\n",
       "      <th>search_type</th>\n",
       "      <th>contraband_found</th>\n",
       "      <th>stop_outcome</th>\n",
       "      <th>is_arrested</th>\n",
       "      <th>officer_id</th>\n",
       "    </tr>\n",
       "  </thead>\n",
       "  <tbody>\n",
       "    <tr>\n",
       "      <th>0</th>\n",
       "      <td>VT-2010-00001</td>\n",
       "      <td>VT</td>\n",
       "      <td>7/1/10</td>\n",
       "      <td>0:10</td>\n",
       "      <td>2010-07-01T00:10:00</td>\n",
       "      <td>East Montpelier</td>\n",
       "      <td>Washington County</td>\n",
       "      <td>50023.0</td>\n",
       "      <td>COUNTY RD</td>\n",
       "      <td>MIDDLESEX VSP</td>\n",
       "      <td>M</td>\n",
       "      <td>22.0</td>\n",
       "      <td>22.0</td>\n",
       "      <td>White</td>\n",
       "      <td>White</td>\n",
       "      <td>Moving Violation</td>\n",
       "      <td>Moving violation</td>\n",
       "      <td>False</td>\n",
       "      <td>No Search Conducted</td>\n",
       "      <td>NaN</td>\n",
       "      <td>False</td>\n",
       "      <td>Citation</td>\n",
       "      <td>False</td>\n",
       "      <td>-1.562157e+09</td>\n",
       "    </tr>\n",
       "    <tr>\n",
       "      <th>1</th>\n",
       "      <td>VT-2010-00002</td>\n",
       "      <td>VT</td>\n",
       "      <td>7/1/10</td>\n",
       "      <td>0:10</td>\n",
       "      <td>2010-07-01T00:10:00</td>\n",
       "      <td>NaN</td>\n",
       "      <td>NaN</td>\n",
       "      <td>NaN</td>\n",
       "      <td>COUNTY RD; Fitch Road</td>\n",
       "      <td>MIDDLESEX VSP</td>\n",
       "      <td>F</td>\n",
       "      <td>21.0</td>\n",
       "      <td>21.0</td>\n",
       "      <td>White</td>\n",
       "      <td>White</td>\n",
       "      <td>Externally Generated Stop</td>\n",
       "      <td>Other</td>\n",
       "      <td>False</td>\n",
       "      <td>No Search Conducted</td>\n",
       "      <td>NaN</td>\n",
       "      <td>False</td>\n",
       "      <td>Arrest for Violation</td>\n",
       "      <td>True</td>\n",
       "      <td>-1.562157e+09</td>\n",
       "    </tr>\n",
       "    <tr>\n",
       "      <th>2</th>\n",
       "      <td>VT-2010-00003</td>\n",
       "      <td>VT</td>\n",
       "      <td>7/1/10</td>\n",
       "      <td>0:10</td>\n",
       "      <td>2010-07-01T00:10:00</td>\n",
       "      <td>NaN</td>\n",
       "      <td>NaN</td>\n",
       "      <td>NaN</td>\n",
       "      <td>COUNTY RD; Fitch Road</td>\n",
       "      <td>MIDDLESEX VSP</td>\n",
       "      <td>F</td>\n",
       "      <td>21.0</td>\n",
       "      <td>21.0</td>\n",
       "      <td>White</td>\n",
       "      <td>White</td>\n",
       "      <td>Externally Generated Stop</td>\n",
       "      <td>Other</td>\n",
       "      <td>False</td>\n",
       "      <td>No Search Conducted</td>\n",
       "      <td>NaN</td>\n",
       "      <td>False</td>\n",
       "      <td>Arrest for Violation</td>\n",
       "      <td>True</td>\n",
       "      <td>-1.562157e+09</td>\n",
       "    </tr>\n",
       "    <tr>\n",
       "      <th>3</th>\n",
       "      <td>VT-2010-00004</td>\n",
       "      <td>VT</td>\n",
       "      <td>7/1/10</td>\n",
       "      <td>0:11</td>\n",
       "      <td>2010-07-01T00:11:00</td>\n",
       "      <td>Whiting</td>\n",
       "      <td>Addison County</td>\n",
       "      <td>50001.0</td>\n",
       "      <td>N MAIN ST</td>\n",
       "      <td>NEW HAVEN VSP</td>\n",
       "      <td>F</td>\n",
       "      <td>18.0</td>\n",
       "      <td>18.0</td>\n",
       "      <td>White</td>\n",
       "      <td>White</td>\n",
       "      <td>Moving Violation</td>\n",
       "      <td>Moving violation</td>\n",
       "      <td>False</td>\n",
       "      <td>No Search Conducted</td>\n",
       "      <td>NaN</td>\n",
       "      <td>False</td>\n",
       "      <td>Arrest for Violation</td>\n",
       "      <td>True</td>\n",
       "      <td>-3.126844e+08</td>\n",
       "    </tr>\n",
       "    <tr>\n",
       "      <th>4</th>\n",
       "      <td>VT-2010-00005</td>\n",
       "      <td>VT</td>\n",
       "      <td>7/1/10</td>\n",
       "      <td>0:35</td>\n",
       "      <td>2010-07-01T00:35:00</td>\n",
       "      <td>Hardwick</td>\n",
       "      <td>Caledonia County</td>\n",
       "      <td>50005.0</td>\n",
       "      <td>i91 nb mm 62</td>\n",
       "      <td>ROYALTON VSP</td>\n",
       "      <td>M</td>\n",
       "      <td>18.0</td>\n",
       "      <td>18.0</td>\n",
       "      <td>White</td>\n",
       "      <td>White</td>\n",
       "      <td>Moving Violation</td>\n",
       "      <td>Moving violation</td>\n",
       "      <td>False</td>\n",
       "      <td>No Search Conducted</td>\n",
       "      <td>NaN</td>\n",
       "      <td>False</td>\n",
       "      <td>Written Warning</td>\n",
       "      <td>False</td>\n",
       "      <td>9.225661e+08</td>\n",
       "    </tr>\n",
       "  </tbody>\n",
       "</table>\n",
       "</div>"
      ],
      "text/plain": [
       "              id state  ... is_arrested    officer_id\n",
       "0  VT-2010-00001    VT  ...       False -1.562157e+09\n",
       "1  VT-2010-00002    VT  ...        True -1.562157e+09\n",
       "2  VT-2010-00003    VT  ...        True -1.562157e+09\n",
       "3  VT-2010-00004    VT  ...        True -3.126844e+08\n",
       "4  VT-2010-00005    VT  ...       False  9.225661e+08\n",
       "\n",
       "[5 rows x 24 columns]"
      ]
     },
     "execution_count": 3,
     "metadata": {
      "tags": []
     },
     "output_type": "execute_result"
    }
   ],
   "source": [
    "data = pd.read_csv('dataProject.csv')\n",
    "data.head()"
   ]
  },
  {
   "cell_type": "code",
   "execution_count": 4,
   "metadata": {
    "colab": {
     "base_uri": "https://localhost:8080/",
     "height": 510
    },
    "colab_type": "code",
    "id": "lbf9m2LLvgXl",
    "outputId": "5036dd94-d07b-49c5-f106-23451928cc40"
   },
   "outputs": [
    {
     "name": "stdout",
     "output_type": "stream",
     "text": [
      "<class 'pandas.core.frame.DataFrame'>\n",
      "RangeIndex: 283285 entries, 0 to 283284\n",
      "Data columns (total 24 columns):\n",
      "id                       283285 non-null object\n",
      "state                    283285 non-null object\n",
      "stop_date                283285 non-null object\n",
      "stop_time                283285 non-null object\n",
      "stop_datetime            283285 non-null object\n",
      "location_raw             282591 non-null object\n",
      "county_name              282580 non-null object\n",
      "county_fips              282580 non-null float64\n",
      "fine_grained_location    282938 non-null object\n",
      "police_department        283285 non-null object\n",
      "driver_gender            281573 non-null object\n",
      "driver_age_raw           282114 non-null float64\n",
      "driver_age               281999 non-null float64\n",
      "driver_race_raw          279301 non-null object\n",
      "driver_race              278468 non-null object\n",
      "violation_raw            281107 non-null object\n",
      "violation                281107 non-null object\n",
      "search_conducted         283285 non-null bool\n",
      "search_type_raw          281045 non-null object\n",
      "search_type              3419 non-null object\n",
      "contraband_found         283251 non-null object\n",
      "stop_outcome             280960 non-null object\n",
      "is_arrested              283285 non-null bool\n",
      "officer_id               283273 non-null float64\n",
      "dtypes: bool(2), float64(4), object(18)\n",
      "memory usage: 48.1+ MB\n"
     ]
    }
   ],
   "source": [
    "data.info()"
   ]
  },
  {
   "cell_type": "code",
   "execution_count": 5,
   "metadata": {
    "colab": {
     "base_uri": "https://localhost:8080/",
     "height": 442
    },
    "colab_type": "code",
    "id": "TbmBSjh6vkmj",
    "outputId": "0145dd79-8ab5-4d91-ea48-ee8e2447c57e"
   },
   "outputs": [
    {
     "data": {
      "text/plain": [
       "id                            0\n",
       "state                         0\n",
       "stop_date                     0\n",
       "stop_time                     0\n",
       "stop_datetime                 0\n",
       "location_raw                694\n",
       "county_name                 705\n",
       "county_fips                 705\n",
       "fine_grained_location       347\n",
       "police_department             0\n",
       "driver_gender              1712\n",
       "driver_age_raw             1171\n",
       "driver_age                 1286\n",
       "driver_race_raw            3984\n",
       "driver_race                4817\n",
       "violation_raw              2178\n",
       "violation                  2178\n",
       "search_conducted              0\n",
       "search_type_raw            2240\n",
       "search_type              279866\n",
       "contraband_found             34\n",
       "stop_outcome               2325\n",
       "is_arrested                   0\n",
       "officer_id                   12\n",
       "dtype: int64"
      ]
     },
     "execution_count": 5,
     "metadata": {
      "tags": []
     },
     "output_type": "execute_result"
    }
   ],
   "source": [
    "# how many null items in each?\n",
    "data.isnull().sum()"
   ]
  },
  {
   "cell_type": "code",
   "execution_count": 6,
   "metadata": {
    "colab": {
     "base_uri": "https://localhost:8080/",
     "height": 297
    },
    "colab_type": "code",
    "id": "CG8tRtyIvmqr",
    "outputId": "1b3cc996-60b4-49e1-f22b-4ba00cc685a5"
   },
   "outputs": [
    {
     "data": {
      "text/html": [
       "<div>\n",
       "<style scoped>\n",
       "    .dataframe tbody tr th:only-of-type {\n",
       "        vertical-align: middle;\n",
       "    }\n",
       "\n",
       "    .dataframe tbody tr th {\n",
       "        vertical-align: top;\n",
       "    }\n",
       "\n",
       "    .dataframe thead th {\n",
       "        text-align: right;\n",
       "    }\n",
       "</style>\n",
       "<table border=\"1\" class=\"dataframe\">\n",
       "  <thead>\n",
       "    <tr style=\"text-align: right;\">\n",
       "      <th></th>\n",
       "      <th>county_fips</th>\n",
       "      <th>driver_age_raw</th>\n",
       "      <th>driver_age</th>\n",
       "      <th>officer_id</th>\n",
       "    </tr>\n",
       "  </thead>\n",
       "  <tbody>\n",
       "    <tr>\n",
       "      <th>count</th>\n",
       "      <td>282580.000000</td>\n",
       "      <td>282114.000000</td>\n",
       "      <td>281999.000000</td>\n",
       "      <td>2.832730e+05</td>\n",
       "    </tr>\n",
       "    <tr>\n",
       "      <th>mean</th>\n",
       "      <td>50015.682561</td>\n",
       "      <td>38.776920</td>\n",
       "      <td>38.788162</td>\n",
       "      <td>-1.465118e+08</td>\n",
       "    </tr>\n",
       "    <tr>\n",
       "      <th>std</th>\n",
       "      <td>9.125609</td>\n",
       "      <td>15.574529</td>\n",
       "      <td>15.566545</td>\n",
       "      <td>1.180737e+09</td>\n",
       "    </tr>\n",
       "    <tr>\n",
       "      <th>min</th>\n",
       "      <td>50001.000000</td>\n",
       "      <td>0.000000</td>\n",
       "      <td>15.000000</td>\n",
       "      <td>-2.133012e+09</td>\n",
       "    </tr>\n",
       "    <tr>\n",
       "      <th>25%</th>\n",
       "      <td>50007.000000</td>\n",
       "      <td>25.000000</td>\n",
       "      <td>25.000000</td>\n",
       "      <td>-1.137408e+09</td>\n",
       "    </tr>\n",
       "    <tr>\n",
       "      <th>50%</th>\n",
       "      <td>50017.000000</td>\n",
       "      <td>36.000000</td>\n",
       "      <td>36.000000</td>\n",
       "      <td>-1.342127e+08</td>\n",
       "    </tr>\n",
       "    <tr>\n",
       "      <th>75%</th>\n",
       "      <td>50025.000000</td>\n",
       "      <td>50.000000</td>\n",
       "      <td>50.000000</td>\n",
       "      <td>8.198861e+08</td>\n",
       "    </tr>\n",
       "    <tr>\n",
       "      <th>max</th>\n",
       "      <td>50027.000000</td>\n",
       "      <td>101.000000</td>\n",
       "      <td>99.000000</td>\n",
       "      <td>2.118737e+09</td>\n",
       "    </tr>\n",
       "  </tbody>\n",
       "</table>\n",
       "</div>"
      ],
      "text/plain": [
       "         county_fips  driver_age_raw     driver_age    officer_id\n",
       "count  282580.000000   282114.000000  281999.000000  2.832730e+05\n",
       "mean    50015.682561       38.776920      38.788162 -1.465118e+08\n",
       "std         9.125609       15.574529      15.566545  1.180737e+09\n",
       "min     50001.000000        0.000000      15.000000 -2.133012e+09\n",
       "25%     50007.000000       25.000000      25.000000 -1.137408e+09\n",
       "50%     50017.000000       36.000000      36.000000 -1.342127e+08\n",
       "75%     50025.000000       50.000000      50.000000  8.198861e+08\n",
       "max     50027.000000      101.000000      99.000000  2.118737e+09"
      ]
     },
     "execution_count": 6,
     "metadata": {
      "tags": []
     },
     "output_type": "execute_result"
    }
   ],
   "source": [
    "data.describe()"
   ]
  },
  {
   "cell_type": "markdown",
   "metadata": {
    "colab_type": "text",
    "id": "LlUvroe5x73m"
   },
   "source": [
    "### **Drop raw attributes and search_type attribute due to redundancy and null value count**\n",
    "\n",
    "\n",
    "---\n",
    "\n",
    "\n",
    "\n",
    "#### violation raw and searchtype raw were kept because the data was more descriptive in these fields compared to the \"cleaned\" fields\n",
    "#### county and location_raw were dropped because police department encompassing this information already"
   ]
  },
  {
   "cell_type": "code",
   "execution_count": 0,
   "metadata": {
    "colab": {},
    "colab_type": "code",
    "id": "kMasyC7oxC7P"
   },
   "outputs": [],
   "source": [
    "data_drop = data.drop(['state', 'stop_datetime', 'county_fips', 'driver_age_raw', 'driver_race_raw','violation', 'search_conducted', 'search_type', 'is_arrested', 'officer_id', 'fine_grained_location','county_name','location_raw'], axis=1)"
   ]
  },
  {
   "cell_type": "code",
   "execution_count": 0,
   "metadata": {
    "colab": {},
    "colab_type": "code",
    "id": "sVXMirphzUtr"
   },
   "outputs": [],
   "source": [
    "# display kept columns\n",
    "columns = data_drop.columns"
   ]
  },
  {
   "cell_type": "code",
   "execution_count": 10,
   "metadata": {
    "colab": {
     "base_uri": "https://localhost:8080/",
     "height": 221
    },
    "colab_type": "code",
    "id": "08KYWT7szwcs",
    "outputId": "98111ac8-6bea-4e6b-ac1e-7e20833db8bb"
   },
   "outputs": [
    {
     "data": {
      "text/plain": [
       "id                      0\n",
       "stop_date               0\n",
       "stop_time               0\n",
       "police_department       0\n",
       "driver_gender        1712\n",
       "driver_age           1286\n",
       "driver_race          4817\n",
       "violation_raw        2178\n",
       "search_type_raw      2240\n",
       "contraband_found       34\n",
       "stop_outcome         2325\n",
       "dtype: int64"
      ]
     },
     "execution_count": 10,
     "metadata": {
      "tags": []
     },
     "output_type": "execute_result"
    }
   ],
   "source": [
    "# how many nulls now?\n",
    "data_drop.isnull().sum()"
   ]
  },
  {
   "cell_type": "code",
   "execution_count": 0,
   "metadata": {
    "colab": {},
    "colab_type": "code",
    "id": "F41EcG600tU2"
   },
   "outputs": [],
   "source": [
    "data_clean = data_drop.dropna(axis=0)"
   ]
  },
  {
   "cell_type": "code",
   "execution_count": 12,
   "metadata": {
    "colab": {
     "base_uri": "https://localhost:8080/",
     "height": 221
    },
    "colab_type": "code",
    "id": "LZPwW6OE1ku4",
    "outputId": "d47868f2-ea60-409a-9e86-9fa6c3d3efc4"
   },
   "outputs": [
    {
     "data": {
      "text/plain": [
       "id                   0\n",
       "stop_date            0\n",
       "stop_time            0\n",
       "police_department    0\n",
       "driver_gender        0\n",
       "driver_age           0\n",
       "driver_race          0\n",
       "violation_raw        0\n",
       "search_type_raw      0\n",
       "contraband_found     0\n",
       "stop_outcome         0\n",
       "dtype: int64"
      ]
     },
     "execution_count": 12,
     "metadata": {
      "tags": []
     },
     "output_type": "execute_result"
    }
   ],
   "source": [
    "data_clean.isnull().sum()"
   ]
  },
  {
   "cell_type": "code",
   "execution_count": 13,
   "metadata": {
    "colab": {
     "base_uri": "https://localhost:8080/",
     "height": 289
    },
    "colab_type": "code",
    "id": "JrqjaipE1oSx",
    "outputId": "18e006f4-f376-4253-cdb8-70ad89ba226f"
   },
   "outputs": [
    {
     "name": "stdout",
     "output_type": "stream",
     "text": [
      "<class 'pandas.core.frame.DataFrame'>\n",
      "Int64Index: 274063 entries, 0 to 283284\n",
      "Data columns (total 11 columns):\n",
      "id                   274063 non-null object\n",
      "stop_date            274063 non-null object\n",
      "stop_time            274063 non-null object\n",
      "police_department    274063 non-null object\n",
      "driver_gender        274063 non-null object\n",
      "driver_age           274063 non-null float64\n",
      "driver_race          274063 non-null object\n",
      "violation_raw        274063 non-null object\n",
      "search_type_raw      274063 non-null object\n",
      "contraband_found     274063 non-null object\n",
      "stop_outcome         274063 non-null object\n",
      "dtypes: float64(1), object(10)\n",
      "memory usage: 25.1+ MB\n"
     ]
    }
   ],
   "source": [
    "data_clean.info()"
   ]
  },
  {
   "cell_type": "markdown",
   "metadata": {
    "colab_type": "text",
    "id": "nWQbDfWd2roy"
   },
   "source": [
    "Adding a weekday column to replace stop date "
   ]
  },
  {
   "cell_type": "code",
   "execution_count": 0,
   "metadata": {
    "colab": {},
    "colab_type": "code",
    "id": "43l-aIHP1_aK"
   },
   "outputs": [],
   "source": [
    "data_clean['stop_date'] = pd.to_datetime(data_clean['stop_date'], infer_datetime_format=True)\n",
    "data_clean['stop_time'] = pd.to_datetime(data_clean['stop_time'], infer_datetime_format=True)"
   ]
  },
  {
   "cell_type": "code",
   "execution_count": 0,
   "metadata": {
    "colab": {},
    "colab_type": "code",
    "id": "UkUrNB1knJFA"
   },
   "outputs": [],
   "source": [
    "data_clean['weekday'] = data_clean['stop_date'].dt.dayofweek\n",
    "data_clean = data_clean.drop(['stop_date'], axis=1)"
   ]
  },
  {
   "cell_type": "markdown",
   "metadata": {
    "colab_type": "text",
    "id": "hwBXXcPx21AT"
   },
   "source": [
    "Investigating the Target variable: stop_outcome"
   ]
  },
  {
   "cell_type": "code",
   "execution_count": 20,
   "metadata": {
    "colab": {
     "base_uri": "https://localhost:8080/",
     "height": 119
    },
    "colab_type": "code",
    "id": "QMjc7wuO24n8",
    "outputId": "ad7406cc-da6e-466b-df85-25380daa2f8f"
   },
   "outputs": [
    {
     "data": {
      "text/plain": [
       "Written Warning         166979\n",
       "Citation                103772\n",
       "Arrest for Violation      3226\n",
       "Warrant Arrest              76\n",
       "Verbal Warning              10\n",
       "Name: stop_outcome, dtype: int64"
      ]
     },
     "execution_count": 20,
     "metadata": {
      "tags": []
     },
     "output_type": "execute_result"
    }
   ],
   "source": [
    "data_clean.stop_outcome.value_counts()"
   ]
  },
  {
   "cell_type": "markdown",
   "metadata": {
    "colab_type": "text",
    "id": "yES_-jZi2_l5"
   },
   "source": [
    "We see a large class imbalance here, so a decision is made to drop the rare classes and turn the classification into a binary problem. We will keep only 'written warning' and 'citation' outcomes, as these are the most prevalant in the data"
   ]
  },
  {
   "cell_type": "code",
   "execution_count": 111,
   "metadata": {
    "colab": {
     "base_uri": "https://localhost:8080/",
     "height": 289
    },
    "colab_type": "code",
    "id": "322iSljR24rr",
    "outputId": "b1590d04-fcfa-4528-8f82-bb63514e6abb"
   },
   "outputs": [
    {
     "name": "stdout",
     "output_type": "stream",
     "text": [
      "<class 'pandas.core.frame.DataFrame'>\n",
      "Int64Index: 270751 entries, 0 to 283284\n",
      "Data columns (total 11 columns):\n",
      "id                   270751 non-null object\n",
      "stop_time            270751 non-null datetime64[ns]\n",
      "police_department    270751 non-null object\n",
      "driver_gender        270751 non-null object\n",
      "driver_age           270751 non-null float64\n",
      "driver_race          270751 non-null object\n",
      "violation_raw        270751 non-null object\n",
      "search_type_raw      270751 non-null object\n",
      "contraband_found     270751 non-null object\n",
      "stop_outcome         270751 non-null object\n",
      "weekday              270751 non-null int64\n",
      "dtypes: datetime64[ns](1), float64(1), int64(1), object(8)\n",
      "memory usage: 24.8+ MB\n"
     ]
    }
   ],
   "source": [
    "data_cut = data_clean[data_clean['stop_outcome'].isin(['Written Warning', 'Citation'])]\n",
    "data_cut.info()"
   ]
  },
  {
   "cell_type": "markdown",
   "metadata": {
    "colab_type": "text",
    "id": "Lau1PpHT3S1s"
   },
   "source": [
    "This leaves us with plenty of data still. \n",
    "\n",
    "\n",
    "---\n",
    "\n",
    "\n",
    "## **Exploratory Data Analysis**"
   ]
  },
  {
   "cell_type": "markdown",
   "metadata": {
    "colab_type": "text",
    "id": "Xb01qKHr3kjm"
   },
   "source": [
    "#### Univariate Analysis\n",
    "\n"
   ]
  },
  {
   "cell_type": "markdown",
   "metadata": {
    "colab_type": "text",
    "id": "umpCCBEu3tfE"
   },
   "source": [
    "##### Driver age"
   ]
  },
  {
   "cell_type": "code",
   "execution_count": 132,
   "metadata": {
    "colab": {
     "base_uri": "https://localhost:8080/",
     "height": 296
    },
    "colab_type": "code",
    "id": "pSzQaw4VnUkm",
    "outputId": "4ae17341-31b8-42ab-eb46-4b8c063d7140"
   },
   "outputs": [
    {
     "data": {
      "image/png": "[encoded data removed]",
      "text/plain": [
       "<Figure size 432x288 with 1 Axes>"
      ]
     },
     "metadata": {
      "tags": []
     },
     "output_type": "display_data"
    }
   ],
   "source": [
    "import seaborn as sns\n",
    "_ = sns.boxplot(x=data_cut['driver_age'])\n",
    "_ = plt.title('Driver Age')"
   ]
  },
  {
   "cell_type": "code",
   "execution_count": 25,
   "metadata": {
    "colab": {
     "base_uri": "https://localhost:8080/",
     "height": 34
    },
    "colab_type": "code",
    "id": "zp2V94-cnU38",
    "outputId": "57a05617-8010-410f-ba94-721d35610af8"
   },
   "outputs": [
    {
     "data": {
      "text/plain": [
       "(270668, 11)"
      ]
     },
     "execution_count": 25,
     "metadata": {
      "tags": []
     },
     "output_type": "execute_result"
    }
   ],
   "source": [
    "# outlier compensation?\n",
    "q1 = data_cut['driver_age'].quantile(0.25)\n",
    "q3 = data_cut['driver_age'].quantile(0.75)\n",
    "IQR = q3 - q1\n",
    "filter = (data_cut['driver_age'] >= q1 - 1.5 * IQR) & (data_clean['driver_age'] <= q3 + 1.5 *IQR)\n",
    "data_cut = data_cut.loc[filter]  \n",
    "data_cut.shape"
   ]
  },
  {
   "cell_type": "markdown",
   "metadata": {
    "colab_type": "text",
    "id": "9nZ9qQcl4YDW"
   },
   "source": [
    "#### Weekday"
   ]
  },
  {
   "cell_type": "code",
   "execution_count": 133,
   "metadata": {
    "colab": {
     "base_uri": "https://localhost:8080/",
     "height": 295
    },
    "colab_type": "code",
    "id": "WDPJeBndnVMF",
    "outputId": "f4e964c0-6e65-47d1-8090-6830afaf9a73"
   },
   "outputs": [
    {
     "data": {
      "image/png": "[encoded data removed]",
      "text/plain": [
       "<Figure size 432x288 with 1 Axes>"
      ]
     },
     "metadata": {
      "tags": []
     },
     "output_type": "display_data"
    }
   ],
   "source": [
    "_ = sns.boxplot(x=data_cut['weekday'])\n",
    "_ = plt.title('Weekday')\n"
   ]
  },
  {
   "cell_type": "markdown",
   "metadata": {
    "colab_type": "text",
    "id": "i2egIs9j4kYb"
   },
   "source": [
    "#### Violation Raw####"
   ]
  },
  {
   "cell_type": "code",
   "execution_count": 166,
   "metadata": {
    "colab": {
     "base_uri": "https://localhost:8080/",
     "height": 313
    },
    "colab_type": "code",
    "id": "0lGTrfm8Fl2x",
    "outputId": "8266cead-dc62-48d2-bcaf-dc518f431da6"
   },
   "outputs": [
    {
     "data": {
      "image/png": "[encoded data removed]",
      "text/plain": [
       "<Figure size 432x288 with 1 Axes>"
      ]
     },
     "metadata": {
      "tags": []
     },
     "output_type": "display_data"
    }
   ],
   "source": [
    "# Pie chart\n",
    "labels = ['Moving Violation', 'Vehicle Equipment', 'Externally Generated Stop', \n",
    "          'Investigatory Stop', 'Suspicion of DWI']\n",
    "sizes = [77.9, 18.5, 2.1, 1.2, .2]\n",
    "\n",
    "  \n",
    "fig1, ax1 = plt.subplots()\n",
    "ax1.pie(sizes,\n",
    "        startangle=90, )\n",
    "\n",
    "# Equal aspect ratio ensures that pie is drawn as a circle\n",
    "ax1.axis('equal')  \n",
    "plt.tight_layout()\n",
    "plt.title('Distribution of Violation Types')\n",
    "plt.legend(labels=labels,loc='upper left', bbox_to_anchor=(1,0.5))\n",
    "plt.show()"
   ]
  },
  {
   "cell_type": "code",
   "execution_count": 121,
   "metadata": {
    "colab": {
     "base_uri": "https://localhost:8080/",
     "height": 119
    },
    "colab_type": "code",
    "id": "Fzp1aMEbDIu6",
    "outputId": "d518a530-8ece-42f6-edfe-fed1edf16e67"
   },
   "outputs": [
    {
     "data": {
      "text/plain": [
       "Moving Violation             210896\n",
       "Vehicle Equipment             50053\n",
       "Externally Generated Stop      5789\n",
       "Investigatory Stop             3432\n",
       "Suspicion of DWI                578\n",
       "Name: violation_raw, dtype: int64"
      ]
     },
     "execution_count": 121,
     "metadata": {
      "tags": []
     },
     "output_type": "execute_result"
    }
   ],
   "source": [
    "# take out winooski due to outlier\n",
    "data_cut = data_cut[data_cut.violation_raw != '(Winooski) Be On Look Rqst']\n",
    "data_cut = data_cut[data_cut.violation_raw != '(Winooski) Mtr Vhc Vltn']\n",
    "data_cut['violation_raw'].value_counts()"
   ]
  },
  {
   "cell_type": "markdown",
   "metadata": {
    "colab_type": "text",
    "id": "FjsqWd0c5D46"
   },
   "source": [
    "#### Stop Time"
   ]
  },
  {
   "cell_type": "code",
   "execution_count": 168,
   "metadata": {
    "colab": {
     "base_uri": "https://localhost:8080/",
     "height": 295
    },
    "colab_type": "code",
    "id": "WRY5A1Pv5Gmh",
    "outputId": "8f4db173-964c-4473-c9f0-747ba80cf068"
   },
   "outputs": [
    {
     "data": {
      "image/png": "[encoded data removed]",
      "text/plain": [
       "<Figure size 432x288 with 1 Axes>"
      ]
     },
     "metadata": {
      "tags": []
     },
     "output_type": "display_data"
    }
   ],
   "source": [
    "data_cut['stop_time_int'] = data_cut.stop_time.astype(np.int64)\n",
    "\n",
    "_ = sns.boxplot(data_cut['stop_time_int'])\n",
    "_ = plt.title('Distribution of Stop Times by Hour')\n",
    "_ = plt.xlabel('Stop Times')"
   ]
  },
  {
   "cell_type": "markdown",
   "metadata": {
    "colab_type": "text",
    "id": "NvcGsnA86L9y"
   },
   "source": [
    "#### Police Department"
   ]
  },
  {
   "cell_type": "code",
   "execution_count": 47,
   "metadata": {
    "colab": {
     "base_uri": "https://localhost:8080/",
     "height": 272
    },
    "colab_type": "code",
    "id": "lnbihiNh58hJ",
    "outputId": "1c627fbd-7153-4e59-eab9-b4f408ec7361"
   },
   "outputs": [
    {
     "data": {
      "text/plain": [
       "MIDDLESEX VSP                     0.099786\n",
       "ROYALTON VSP                      0.093546\n",
       "WILLISTON VSP                     0.086726\n",
       "NEW HAVEN VSP                     0.083933\n",
       "VSP HEADQUARTERS - FIELD FORCE    0.083918\n",
       "ROCKINGHAM VSP                    0.082559\n",
       "RUTLAND VSP                       0.080128\n",
       "ST ALBANS VSP                     0.075450\n",
       "BRADFORD VSP                      0.075328\n",
       "SHAFTSBURY VSP                    0.075044\n",
       "BRATTLEBORO VSP                   0.072295\n",
       "ST JOHNSBURY VSP                  0.054081\n",
       "DERBY VSP                         0.036735\n",
       "VSP HQ- BCI/SIU/NIU               0.000469\n",
       "Name: police_department, dtype: float64"
      ]
     },
     "execution_count": 47,
     "metadata": {
      "tags": []
     },
     "output_type": "execute_result"
    }
   ],
   "source": [
    "data_cut['police_department'].value_counts(normalize=True)"
   ]
  },
  {
   "cell_type": "markdown",
   "metadata": {
    "colab_type": "text",
    "id": "omNgQqTh68Ub"
   },
   "source": [
    "#### Driver gender"
   ]
  },
  {
   "cell_type": "code",
   "execution_count": 174,
   "metadata": {
    "colab": {
     "base_uri": "https://localhost:8080/",
     "height": 264
    },
    "colab_type": "code",
    "id": "SRP8hl5x58tp",
    "outputId": "525c4f25-18b7-4931-9fec-b9b441747d52"
   },
   "outputs": [
    {
     "data": {
      "image/png": "[encoded data removed]",
      "text/plain": [
       "<Figure size 432x288 with 1 Axes>"
      ]
     },
     "metadata": {
      "tags": []
     },
     "output_type": "display_data"
    }
   ],
   "source": [
    "_ = data_cut['driver_gender'].value_counts(normalize=True).plot(kind=\"pie\")\n",
    "_ = plt.title('Split of Drivers by Gender')\n",
    "_ = plt.ylabel(\"\")"
   ]
  },
  {
   "cell_type": "markdown",
   "metadata": {
    "colab_type": "text",
    "id": "QEW-lshj7JZT"
   },
   "source": [
    "#### Driver race\n",
    "\n",
    "\n",
    "---\n",
    "\n",
    "all white... is this an issue?"
   ]
  },
  {
   "cell_type": "code",
   "execution_count": 53,
   "metadata": {
    "colab": {
     "base_uri": "https://localhost:8080/",
     "height": 119
    },
    "colab_type": "code",
    "id": "yg1tb9um58r0",
    "outputId": "972ea461-e260-4856-c43d-13506c4a73a9"
   },
   "outputs": [
    {
     "data": {
      "text/plain": [
       "White       0.956859\n",
       "Black       0.020202\n",
       "Asian       0.012669\n",
       "Hispanic    0.009318\n",
       "Other       0.000953\n",
       "Name: driver_race, dtype: float64"
      ]
     },
     "execution_count": 53,
     "metadata": {
      "tags": []
     },
     "output_type": "execute_result"
    }
   ],
   "source": [
    "data_cut['driver_race'].value_counts(normalize=True)"
   ]
  },
  {
   "cell_type": "markdown",
   "metadata": {
    "colab_type": "text",
    "id": "xtpEepjj7b5-"
   },
   "source": [
    "#### Search type raw\n",
    "\n",
    "\n",
    "---\n",
    "\n",
    "most data comes from no search conducted... should we take this out??"
   ]
  },
  {
   "cell_type": "code",
   "execution_count": 57,
   "metadata": {
    "colab": {
     "base_uri": "https://localhost:8080/",
     "height": 119
    },
    "colab_type": "code",
    "id": "sgRIQ8xk58qd",
    "outputId": "6f1da4ee-8644-48c6-c242-027f46e9dc29"
   },
   "outputs": [
    {
     "data": {
      "text/plain": [
       "No Search Conducted               0.991296\n",
       "Consent Search-Probable Cause     0.005952\n",
       "Consent Search-Rsnbl Suspicion    0.002398\n",
       "Search with Warrant               0.000351\n",
       "(Winooski) Passgr Srch            0.000004\n",
       "Name: search_type_raw, dtype: float64"
      ]
     },
     "execution_count": 57,
     "metadata": {
      "tags": []
     },
     "output_type": "execute_result"
    }
   ],
   "source": [
    "data_cut['search_type_raw'].value_counts(normalize=True)"
   ]
  },
  {
   "cell_type": "code",
   "execution_count": 113,
   "metadata": {
    "colab": {
     "base_uri": "https://localhost:8080/",
     "height": 102
    },
    "colab_type": "code",
    "id": "NgHGmYNoCN56",
    "outputId": "675ac782-e6dc-4a69-d379-10d9edab9565"
   },
   "outputs": [
    {
     "data": {
      "text/plain": [
       "No Search Conducted               0.991302\n",
       "Consent Search-Probable Cause     0.005950\n",
       "Consent Search-Rsnbl Suspicion    0.002397\n",
       "Search with Warrant               0.000351\n",
       "Name: search_type_raw, dtype: float64"
      ]
     },
     "execution_count": 113,
     "metadata": {
      "tags": []
     },
     "output_type": "execute_result"
    }
   ],
   "source": [
    "# take out winooski due to outlier \n",
    "data_cut = data_cut[data_cut.search_type_raw != '(Winooski) Passgr Srch']\n",
    "data_cut['search_type_raw'].value_counts(normalize=True)"
   ]
  },
  {
   "cell_type": "markdown",
   "metadata": {
    "colab_type": "text",
    "id": "kpWyPEvK73ru"
   },
   "source": [
    "#### Contraband found\n",
    "\n",
    "\n",
    "---\n",
    "almost all data is \"false\"... should we consider taking this out?\n"
   ]
  },
  {
   "cell_type": "code",
   "execution_count": 176,
   "metadata": {
    "colab": {
     "base_uri": "https://localhost:8080/",
     "height": 264
    },
    "colab_type": "code",
    "id": "xATniCCW58oq",
    "outputId": "e669b315-b896-4cfe-b86c-7cdac07917e6"
   },
   "outputs": [
    {
     "data": {
      "image/png": "[encoded data removed]",
      "text/plain": [
       "<Figure size 432x288 with 1 Axes>"
      ]
     },
     "metadata": {
      "tags": []
     },
     "output_type": "display_data"
    }
   ],
   "source": [
    "_ = data_cut['contraband_found'].value_counts(normalize=True).plot(kind=\"pie\")\n",
    "_ = plt.title('Contraband Found Distribution')\n",
    "_ = plt.ylabel(\"\")"
   ]
  },
  {
   "cell_type": "markdown",
   "metadata": {
    "colab_type": "text",
    "id": "rF-StZbg8Rk7"
   },
   "source": [
    "### Stop outcome"
   ]
  },
  {
   "cell_type": "code",
   "execution_count": 61,
   "metadata": {
    "colab": {
     "base_uri": "https://localhost:8080/",
     "height": 68
    },
    "colab_type": "code",
    "id": "SHF2cDl958me",
    "outputId": "2a0950a7-a7fc-4375-cfa6-5a2f59a72b36"
   },
   "outputs": [
    {
     "data": {
      "text/plain": [
       "Written Warning    0.616682\n",
       "Citation           0.383318\n",
       "Name: stop_outcome, dtype: float64"
      ]
     },
     "execution_count": 61,
     "metadata": {
      "tags": []
     },
     "output_type": "execute_result"
    }
   ],
   "source": [
    "data_cut['stop_outcome'].value_counts(normalize=True)"
   ]
  },
  {
   "cell_type": "markdown",
   "metadata": {
    "colab_type": "text",
    "id": "7RY1KR7c8ZKr"
   },
   "source": [
    "## **Bivariate Analysis**"
   ]
  },
  {
   "cell_type": "markdown",
   "metadata": {
    "colab_type": "text",
    "id": "j_tZr7D883O0"
   },
   "source": [
    "#### Driver age vs stop outcome (cont vs. cat -- boxplot)"
   ]
  },
  {
   "cell_type": "code",
   "execution_count": 177,
   "metadata": {
    "colab": {
     "base_uri": "https://localhost:8080/",
     "height": 296
    },
    "colab_type": "code",
    "id": "QbbGrhvs9DEb",
    "outputId": "d17fd662-2320-493e-93a9-cf8649f0f4c6"
   },
   "outputs": [
    {
     "data": {
      "image/png": "[encoded data removed]",
      "text/plain": [
       "<Figure size 432x288 with 1 Axes>"
      ]
     },
     "metadata": {
      "tags": []
     },
     "output_type": "display_data"
    }
   ],
   "source": [
    "_ = sns.boxplot(x=data_cut['stop_outcome'], y=data_cut['driver_age'])\n",
    "_ = plt.title('Stop outcome vs Driver Age')"
   ]
  },
  {
   "cell_type": "markdown",
   "metadata": {
    "colab_type": "text",
    "id": "HiEPre9j-Zit"
   },
   "source": [
    "#### Driver gender vs stop outcome (cat vs cat -- stacked col)"
   ]
  },
  {
   "cell_type": "code",
   "execution_count": 181,
   "metadata": {
    "colab": {
     "base_uri": "https://localhost:8080/",
     "height": 368
    },
    "colab_type": "code",
    "id": "G8_weH9F9DCQ",
    "outputId": "624b24a9-0bd3-4b02-c7fd-950e60bb1851"
   },
   "outputs": [
    {
     "data": {
      "image/png": "[encoded data removed]",
      "text/plain": [
       "<Figure size 432x288 with 1 Axes>"
      ]
     },
     "metadata": {
      "tags": []
     },
     "output_type": "display_data"
    }
   ],
   "source": [
    "_ = data_cut.groupby('stop_outcome').driver_gender.value_counts(normalize=True)\\\n",
    ".unstack().plot(kind='bar', stacked=True)\n",
    "_ = plt.title('Gender Split by Stop Outcome')\n",
    "_ = plt.ylabel('Frequency of Gender')"
   ]
  },
  {
   "cell_type": "markdown",
   "metadata": {
    "colab_type": "text",
    "id": "DUIAMyFSAE4v"
   },
   "source": [
    "#### Driver race vs stop outcome (cat vs cat)"
   ]
  },
  {
   "cell_type": "code",
   "execution_count": 184,
   "metadata": {
    "colab": {
     "base_uri": "https://localhost:8080/",
     "height": 368
    },
    "colab_type": "code",
    "id": "-HviCFUk9C9O",
    "outputId": "dd691dcc-e6d6-4acb-bb3b-9c5d55b64078"
   },
   "outputs": [
    {
     "data": {
      "image/png": "[encoded data removed]",
      "text/plain": [
       "<Figure size 432x288 with 1 Axes>"
      ]
     },
     "metadata": {
      "tags": []
     },
     "output_type": "display_data"
    }
   ],
   "source": [
    "_ = data_cut.groupby('stop_outcome').driver_race.value_counts(normalize=True).unstack()\\\n",
    ".plot(kind='bar', stacked=True)\n",
    "_ = plt.title('Race distribution by stop outcome')"
   ]
  },
  {
   "cell_type": "markdown",
   "metadata": {
    "colab_type": "text",
    "id": "-HqmhXUQAepJ"
   },
   "source": [
    "#### weekday vs stop outcome (cat vs cat)"
   ]
  },
  {
   "cell_type": "code",
   "execution_count": 183,
   "metadata": {
    "colab": {
     "base_uri": "https://localhost:8080/",
     "height": 368
    },
    "colab_type": "code",
    "id": "1C8EvC2O58lR",
    "outputId": "cc5abe90-66d1-4576-ba37-d4e074cdf4b6"
   },
   "outputs": [
    {
     "data": {
      "image/png": "[encoded data removed]",
      "text/plain": [
       "<Figure size 432x288 with 1 Axes>"
      ]
     },
     "metadata": {
      "tags": []
     },
     "output_type": "display_data"
    }
   ],
   "source": [
    "_ = data_cut.groupby('stop_outcome').weekday.value_counts(normalize=True).unstack()\\\n",
    ".plot(kind='bar', stacked=True)\n",
    "_ = plt.title('Day of the week by stop outcome')"
   ]
  },
  {
   "cell_type": "markdown",
   "metadata": {
    "colab_type": "text",
    "id": "TOHwpyQyAyDJ"
   },
   "source": [
    "#### Stop time vs stop outcome (cont vs cat)"
   ]
  },
  {
   "cell_type": "code",
   "execution_count": 185,
   "metadata": {
    "colab": {
     "base_uri": "https://localhost:8080/",
     "height": 295
    },
    "colab_type": "code",
    "id": "RebP1UkIAxOR",
    "outputId": "e1e4d6ff-dc1e-4c49-f7a3-4b44798796ba"
   },
   "outputs": [
    {
     "data": {
      "image/png": "[encoded data removed]",
      "text/plain": [
       "<Figure size 432x288 with 1 Axes>"
      ]
     },
     "metadata": {
      "tags": []
     },
     "output_type": "display_data"
    }
   ],
   "source": [
    "_ = sns.boxplot(x=data_cut['stop_outcome'], y=data_cut['stop_time_int'])\n",
    "_ = plt.title('Time of Day vs Stop outcome')\n",
    "_ = plt.ylabel('Time of day (hours)')\n",
    "_ = plt.xlabel('Stop outcome')"
   ]
  },
  {
   "cell_type": "markdown",
   "metadata": {
    "colab_type": "text",
    "id": "-Xa5LTi1BD8Y"
   },
   "source": [
    "#### Police Department vs stop outcome (cat vs cat)"
   ]
  },
  {
   "cell_type": "code",
   "execution_count": 98,
   "metadata": {
    "colab": {
     "base_uri": "https://localhost:8080/",
     "height": 466
    },
    "colab_type": "code",
    "id": "j-RDN3q7AxR0",
    "outputId": "dc16b72a-f849-4d8c-b04e-bf219502dbc9"
   },
   "outputs": [
    {
     "data": {
      "image/png": "[encoded data removed]",
      "text/plain": [
       "<Figure size 432x288 with 1 Axes>"
      ]
     },
     "metadata": {
      "tags": []
     },
     "output_type": "display_data"
    }
   ],
   "source": [
    "_ = data_cut.groupby('police_department').stop_outcome.value_counts(normalize=True).unstack().plot(kind='bar',stacked=True)\n",
    "_ = plt.title('Stop outcome by police department')"
   ]
  },
  {
   "cell_type": "markdown",
   "metadata": {
    "colab_type": "text",
    "id": "Gom3eGv_BbSu"
   },
   "source": [
    "#### Contraband found vs stop outcome (cat vs cat)"
   ]
  },
  {
   "cell_type": "code",
   "execution_count": 186,
   "metadata": {
    "colab": {
     "base_uri": "https://localhost:8080/",
     "height": 142
    },
    "colab_type": "code",
    "id": "JMD87T9OAxdy",
    "outputId": "5bfd5700-ab1f-49da-9a1e-d450fa98d066"
   },
   "outputs": [
    {
     "data": {
      "text/html": [
       "<div>\n",
       "<style scoped>\n",
       "    .dataframe tbody tr th:only-of-type {\n",
       "        vertical-align: middle;\n",
       "    }\n",
       "\n",
       "    .dataframe tbody tr th {\n",
       "        vertical-align: top;\n",
       "    }\n",
       "\n",
       "    .dataframe thead th {\n",
       "        text-align: right;\n",
       "    }\n",
       "</style>\n",
       "<table border=\"1\" class=\"dataframe\">\n",
       "  <thead>\n",
       "    <tr style=\"text-align: right;\">\n",
       "      <th>contraband_found</th>\n",
       "      <th>False</th>\n",
       "      <th>True</th>\n",
       "    </tr>\n",
       "    <tr>\n",
       "      <th>stop_outcome</th>\n",
       "      <th></th>\n",
       "      <th></th>\n",
       "    </tr>\n",
       "  </thead>\n",
       "  <tbody>\n",
       "    <tr>\n",
       "      <th>Citation</th>\n",
       "      <td>102490</td>\n",
       "      <td>1281</td>\n",
       "    </tr>\n",
       "    <tr>\n",
       "      <th>Written Warning</th>\n",
       "      <td>166477</td>\n",
       "      <td>500</td>\n",
       "    </tr>\n",
       "  </tbody>\n",
       "</table>\n",
       "</div>"
      ],
      "text/plain": [
       "contraband_found   False  True \n",
       "stop_outcome                   \n",
       "Citation          102490   1281\n",
       "Written Warning   166477    500"
      ]
     },
     "execution_count": 186,
     "metadata": {
      "tags": []
     },
     "output_type": "execute_result"
    }
   ],
   "source": [
    "data_cut.groupby('stop_outcome').contraband_found.value_counts().unstack()"
   ]
  },
  {
   "cell_type": "markdown",
   "metadata": {
    "colab_type": "text",
    "id": "k0e_RgWpB7rQ"
   },
   "source": [
    "#### Violation raw vs stop outcome"
   ]
  },
  {
   "cell_type": "code",
   "execution_count": 187,
   "metadata": {
    "colab": {
     "base_uri": "https://localhost:8080/",
     "height": 417
    },
    "colab_type": "code",
    "id": "YU5bFimPAxbp",
    "outputId": "9a9676b5-1dff-4d26-cf3b-ac833b3d7c67"
   },
   "outputs": [
    {
     "data": {
      "image/png": "[encoded data removed]",
      "text/plain": [
       "<Figure size 432x288 with 1 Axes>"
      ]
     },
     "metadata": {
      "tags": []
     },
     "output_type": "display_data"
    }
   ],
   "source": [
    "_ = data_cut.groupby('violation_raw').stop_outcome.value_counts(normalize=True).unstack()\\\n",
    ".plot(kind='bar', stacked=True)\n",
    "_ = plt.title('Distribution of stop outcome by violation type')\n",
    "_ = plt.xlabel('Violation Type')"
   ]
  },
  {
   "cell_type": "markdown",
   "metadata": {
    "colab_type": "text",
    "id": "qcX7K9gtEjhx"
   },
   "source": [
    "#### Search Type raw vs stop outcome"
   ]
  },
  {
   "cell_type": "code",
   "execution_count": 188,
   "metadata": {
    "colab": {
     "base_uri": "https://localhost:8080/",
     "height": 446
    },
    "colab_type": "code",
    "id": "x3lk-sYEAxZa",
    "outputId": "25acf3a7-8cc0-4581-9083-25d4e0d4d8e2"
   },
   "outputs": [
    {
     "data": {
      "image/png": "[encoded data removed]",
      "text/plain": [
       "<Figure size 432x288 with 1 Axes>"
      ]
     },
     "metadata": {
      "tags": []
     },
     "output_type": "display_data"
    }
   ],
   "source": [
    "_ = data_cut.groupby('search_type_raw').stop_outcome.value_counts(normalize=True).unstack()\\\n",
    ".plot(kind='bar', stacked=True)\n",
    "_ = plt.title('Distribution of stop outcome by Search Type')\n",
    "_ = plt.xlabel('Search Type')"
   ]
  },
  {
   "cell_type": "markdown",
   "metadata": {
    "colab_type": "text",
    "id": "psg9Wz88LILm"
   },
   "source": [
    "## **Classification Algorithms**"
   ]
  }
 ],
 "metadata": {
  "colab": {
   "collapsed_sections": [],
   "name": "DataMiningProject.ipynb",
   "provenance": [],
   "toc_visible": true
  },
  "kernelspec": {
   "display_name": "Python 3",
   "language": "python",
   "name": "python3"
  },
  "language_info": {
   "codemirror_mode": {
    "name": "ipython",
    "version": 3
   },
   "file_extension": ".py",
   "mimetype": "text/x-python",
   "name": "python",
   "nbconvert_exporter": "python",
   "pygments_lexer": "ipython3",
   "version": "3.7.3"
  }
 },
 "nbformat": 4,
 "nbformat_minor": 1
}
